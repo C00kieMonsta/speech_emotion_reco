{
 "cells": [
  {
   "cell_type": "code",
   "execution_count": 1,
   "id": "018267ad",
   "metadata": {},
   "outputs": [
    {
     "name": "stdout",
     "output_type": "stream",
     "text": [
      "Init Plugin\n",
      "Init Graph Optimizer\n",
      "Init Kernel\n"
     ]
    }
   ],
   "source": [
    "from tensorflow.keras.applications.vgg16 import VGG16\n",
    "from tensorflow.keras import layers, models\n",
    "from tensorflow.keras import optimizers\n",
    "from tensorflow.keras.applications.vgg16 import preprocess_input\n",
    "from tensorflow.keras.callbacks import EarlyStopping\n",
    "from tensorflow.keras.applications import EfficientNetB0\n",
    "from tensorflow.keras import Sequential, layers\n",
    "from tensorflow.keras import optimizers\n",
    "from tensorflow.keras.callbacks import EarlyStopping\n",
    "from tensorflow.keras.layers.experimental.preprocessing import Rescaling\n",
    "from tensorflow.keras import regularizers, Sequential, layers\n",
    "from sklearn.model_selection import train_test_split\n",
    "from tensorflow.keras.callbacks import EarlyStopping\n",
    "from tensorflow.keras.utils import to_categorical\n",
    "from tensorflow.keras.optimizers import Adam\n",
    "from tensorflow.keras.constraints import unit_norm\n",
    "import numpy as np\n",
    "from tqdm import tqdm\n",
    "import pandas as pd\n",
    "import os\n",
    "from PIL import Image\n",
    "import matplotlib.pyplot as plt\n",
    "import random"
   ]
  },
  {
   "cell_type": "code",
   "execution_count": 83,
   "id": "17ae0e64",
   "metadata": {},
   "outputs": [],
   "source": [
    "df = pd.read_csv('../speech_emotion_reco/data/merged_dataset.csv')\n",
    "df_train = pd.read_csv('df_train.csv')\n",
    "df_test = pd.read_csv('df_test.csv')"
   ]
  },
  {
   "cell_type": "code",
   "execution_count": 129,
   "id": "9821b0f0",
   "metadata": {},
   "outputs": [],
   "source": [
    "def load_data():\n",
    "    data_path = '../speech_emotion_reco/data/images_augmented/'\n",
    "    classes = {'happy': 0, \n",
    "          'sad': 1,\n",
    "          'fear': 2,\n",
    "          'disgust': 3,\n",
    "          'angry': 4,\n",
    "          'neutral': 5,\n",
    "          'surprise': 6,\n",
    "          'unknown': 7}\n",
    "    \n",
    "    imgs_train = []\n",
    "    imgs_test = []\n",
    "    labels_train = []\n",
    "    labels_test = []\n",
    "    test_path = []\n",
    "    \n",
    "    images_path = [os.path.join(data_path, path) for path in os.listdir(data_path) if path.find('.png') > 0]\n",
    "    for path in images_path:\n",
    "        if path in df_train.path.values:\n",
    "            index = int(path.replace('.png','').replace(data_path,'').split('_')[1])\n",
    "            image = Image.open(path).convert('RGB')\n",
    "            resized_image = image.resize((256,256))\n",
    "            imgs_train.append(np.array(resized_image))\n",
    "            labels_train.append(classes[df.loc[index, 'emotion']])\n",
    "        if path in df_test.path.values:\n",
    "            image = Image.open(path).convert('RGB')\n",
    "            resized_image = image.resize((256,256))\n",
    "            imgs_test.append(np.array(resized_image))\n",
    "            labels_test.append(classes[df.loc[index, 'emotion']])\n",
    "            test_path.append(path)\n",
    "\n",
    "    X_train = np.array(imgs_train)\n",
    "    X_test = np.array(imgs_test)\n",
    "    y_train = np.array(labels_train)\n",
    "    y_test = np.array(labels_test)\n",
    "    \n",
    "    return X_train, X_test, y_train, y_test, test_path"
   ]
  },
  {
   "cell_type": "code",
   "execution_count": null,
   "id": "06542ebd",
   "metadata": {},
   "outputs": [],
   "source": [
    "X_train, X_test, y_train, y_test, test_path = load_data()"
   ]
  },
  {
   "cell_type": "code",
   "execution_count": 111,
   "id": "92823edb",
   "metadata": {},
   "outputs": [],
   "source": [
    "y = np.hstack((y_train, y_test))\n",
    "y = to_categorical(y,  num_classes = 6)\n",
    "y_train = y[:40045] \n",
    "y_test = y[40045:]"
   ]
  },
  {
   "cell_type": "code",
   "execution_count": 11,
   "id": "39ea98d0",
   "metadata": {},
   "outputs": [],
   "source": [
    "def load_model():\n",
    "    model = Sequential()\n",
    "    model.add(layers.Conv2D(120, kernel_size=11, activation=\"relu\", strides=4, input_shape=(256,256,3),kernel_regularizer=regularizers.l2(l=0.01)))\n",
    "    model.add(layers.MaxPooling2D(3, strides=2))\n",
    "    model.add(layers.Conv2D(256, kernel_size=5, activation=\"relu\", strides=1, kernel_regularizer=regularizers.l2(l=0.01)))\n",
    "    model.add(layers.MaxPooling2D(3, strides=2))\n",
    "    model.add(layers.Conv2D(384, kernel_size=3, activation=\"relu\", kernel_regularizer=regularizers.l2(l=0.01)))\n",
    "    model.add(layers.MaxPooling2D(3, strides=2))\n",
    "    model.add(layers.Flatten())\n",
    "    model.add(layers.Dense(2048, activation='relu', kernel_regularizer=regularizers.l2(l=0.01)))\n",
    "    model.add(layers.Dropout(0.5))\n",
    "    model.add(layers.Dense(2048, activation='relu', kernel_regularizer=regularizers.l2(l=0.01)))\n",
    "    model.add(layers.Dropout(0.5))\n",
    "    model.add(layers.Dense(6, activation='softmax'))\n",
    "    \n",
    "    return model"
   ]
  },
  {
   "cell_type": "code",
   "execution_count": 12,
   "id": "fd4bd3bd",
   "metadata": {},
   "outputs": [],
   "source": [
    "def build_model():  \n",
    "    model = load_model()\n",
    "    model.compile(loss='categorical_crossentropy',\n",
    "                  optimizer ='adam',\n",
    "                  metrics=['accuracy'])\n",
    "    return model"
   ]
  },
  {
   "cell_type": "code",
   "execution_count": 13,
   "id": "518bb860",
   "metadata": {
    "scrolled": false
   },
   "outputs": [
    {
     "name": "stdout",
     "output_type": "stream",
     "text": [
      "Metal device set to: Apple M1\n"
     ]
    },
    {
     "name": "stderr",
     "output_type": "stream",
     "text": [
      "2021-08-31 08:44:31.891073: I tensorflow/core/platform/cpu_feature_guard.cc:142] This TensorFlow binary is optimized with oneAPI Deep Neural Network Library (oneDNN) to use the following CPU instructions in performance-critical operations:  SSE4.2\n",
      "To enable them in other operations, rebuild TensorFlow with the appropriate compiler flags.\n",
      "2021-08-31 08:44:32.053986: I tensorflow/core/common_runtime/pluggable_device/pluggable_device_factory.cc:305] Could not identify NUMA node of platform GPU ID 0, defaulting to 0. Your kernel may not have been built with NUMA support.\n",
      "2021-08-31 08:44:32.071320: I tensorflow/core/common_runtime/pluggable_device/pluggable_device_factory.cc:271] Created TensorFlow device (/job:localhost/replica:0/task:0/device:GPU:0 with 0 MB memory) -> physical PluggableDevice (device: 0, name: METAL, pci bus id: <undefined>)\n",
      "2021-08-31 08:44:34.178347: I tensorflow/compiler/mlir/mlir_graph_optimization_pass.cc:176] None of the MLIR Optimization Passes are enabled (registered 2)\n"
     ]
    },
    {
     "name": "stdout",
     "output_type": "stream",
     "text": [
      "Epoch 1/100\n"
     ]
    },
    {
     "name": "stderr",
     "output_type": "stream",
     "text": [
      "2021-08-31 08:44:35.452816: I tensorflow/core/grappler/optimizers/custom_graph_optimizer_registry.cc:112] Plugin optimizer for device_type GPU is enabled.\n",
      "2021-08-31 08:48:49.294968: I tensorflow/core/grappler/optimizers/custom_graph_optimizer_registry.cc:112] Plugin optimizer for device_type GPU is enabled.\n"
     ]
    },
    {
     "name": "stdout",
     "output_type": "stream",
     "text": [
      "321/321 - 275s - loss: 101.5489 - accuracy: 0.1810 - val_loss: 58.9481 - val_accuracy: 0.1722\n",
      "Epoch 2/100\n",
      "321/321 - 309s - loss: 51.8738 - accuracy: 0.1948 - val_loss: 45.6934 - val_accuracy: 0.2462\n",
      "Epoch 3/100\n",
      "321/321 - 324s - loss: 40.9930 - accuracy: 0.2441 - val_loss: 36.6927 - val_accuracy: 0.2672\n",
      "Epoch 4/100\n",
      "321/321 - 329s - loss: 33.2297 - accuracy: 0.2664 - val_loss: 29.9943 - val_accuracy: 0.2978\n",
      "Epoch 5/100\n",
      "321/321 - 337s - loss: 27.3408 - accuracy: 0.3260 - val_loss: 24.7201 - val_accuracy: 0.3877\n",
      "Epoch 6/100\n",
      "321/321 - 354s - loss: 22.5487 - accuracy: 0.4155 - val_loss: 20.5217 - val_accuracy: 0.4228\n",
      "Epoch 7/100\n",
      "321/321 - 353s - loss: 18.7401 - accuracy: 0.4527 - val_loss: 17.0759 - val_accuracy: 0.4626\n",
      "Epoch 8/100\n",
      "321/321 - 358s - loss: 15.6444 - accuracy: 0.4852 - val_loss: 14.2711 - val_accuracy: 0.5057\n",
      "Epoch 9/100\n",
      "321/321 - 361s - loss: 13.1138 - accuracy: 0.5103 - val_loss: 11.9810 - val_accuracy: 0.5224\n",
      "Epoch 10/100\n",
      "321/321 - 342s - loss: 11.0301 - accuracy: 0.5411 - val_loss: 10.0878 - val_accuracy: 0.5490\n",
      "Epoch 11/100\n",
      "321/321 - 335s - loss: 9.2612 - accuracy: 0.5617 - val_loss: 8.4610 - val_accuracy: 0.5836\n",
      "Epoch 12/100\n",
      "321/321 - 338s - loss: 7.8162 - accuracy: 0.5771 - val_loss: 7.2190 - val_accuracy: 0.5509\n",
      "Epoch 13/100\n",
      "321/321 - 361s - loss: 6.5904 - accuracy: 0.5896 - val_loss: 6.0735 - val_accuracy: 0.5774\n",
      "Epoch 14/100\n",
      "321/321 - 398s - loss: 5.5966 - accuracy: 0.5970 - val_loss: 5.1677 - val_accuracy: 0.6119\n",
      "Epoch 15/100\n",
      "321/321 - 397s - loss: 4.7724 - accuracy: 0.6125 - val_loss: 4.5194 - val_accuracy: 0.5692\n",
      "Epoch 16/100\n"
     ]
    },
    {
     "name": "stderr",
     "output_type": "stream",
     "text": [
      "Error: command buffer exited with error status.\n",
      "\tThe Metal Performance Shaders operations encoded on it may not have completed.\n",
      "\tError: \n",
      "\t(null)\n",
      "\tInternal Error (IOAF code 14)\n",
      "\t<AGXM1FamilyCommandBuffer: 0x7fd7d4492ba0>\n",
      "    label = <none> \n",
      "    device = <AGXG13GDevice: 0x7fddcb6ae400>\n",
      "        name = Apple M1 \n",
      "    commandQueue = <AGXM1FamilyCommandQueue: 0x7fdd9f237400>\n",
      "        label = <none> \n",
      "        device = <AGXG13GDevice: 0x7fddcb6ae400>\n",
      "            name = Apple M1 \n",
      "    retainedReferences = 1\n"
     ]
    },
    {
     "name": "stdout",
     "output_type": "stream",
     "text": [
      "321/321 - 402s - loss: 4.0878 - accuracy: 0.6179 - val_loss: 3.8346 - val_accuracy: 0.5888\n",
      "Epoch 17/100\n"
     ]
    },
    {
     "name": "stderr",
     "output_type": "stream",
     "text": [
      "Error: command buffer exited with error status.\n",
      "\tThe Metal Performance Shaders operations encoded on it may not have completed.\n",
      "\tError: \n",
      "\t(null)\n",
      "\tInternal Error (IOAF code 14)\n",
      "\t<AGXM1FamilyCommandBuffer: 0x7fd7d38558c0>\n",
      "    label = <none> \n",
      "    device = <AGXG13GDevice: 0x7fddcb6ae400>\n",
      "        name = Apple M1 \n",
      "    commandQueue = <AGXM1FamilyCommandQueue: 0x7fdd9f237400>\n",
      "        label = <none> \n",
      "        device = <AGXG13GDevice: 0x7fddcb6ae400>\n",
      "            name = Apple M1 \n",
      "    retainedReferences = 1\n"
     ]
    },
    {
     "name": "stdout",
     "output_type": "stream",
     "text": [
      "321/321 - 408s - loss: 3.5081 - accuracy: 0.6279 - val_loss: 3.3150 - val_accuracy: 0.6049\n",
      "Epoch 18/100\n",
      "321/321 - 406s - loss: 3.0538 - accuracy: 0.6363 - val_loss: 2.8921 - val_accuracy: 0.6288\n",
      "Epoch 19/100\n"
     ]
    },
    {
     "name": "stderr",
     "output_type": "stream",
     "text": [
      "Error: command buffer exited with error status.\n",
      "\tThe Metal Performance Shaders operations encoded on it may not have completed.\n",
      "\tError: \n",
      "\t(null)\n",
      "\tInternal Error (IOAF code 14)\n",
      "\t<AGXM1FamilyCommandBuffer: 0x7fd7d9c68720>\n",
      "    label = <none> \n",
      "    device = <AGXG13GDevice: 0x7fddcb6ae400>\n",
      "        name = Apple M1 \n",
      "    commandQueue = <AGXM1FamilyCommandQueue: 0x7fdd9f237400>\n",
      "        label = <none> \n",
      "        device = <AGXG13GDevice: 0x7fddcb6ae400>\n",
      "            name = Apple M1 \n",
      "    retainedReferences = 1\n"
     ]
    },
    {
     "name": "stdout",
     "output_type": "stream",
     "text": [
      "321/321 - 426s - loss: 2.6915 - accuracy: 0.6376 - val_loss: 2.5895 - val_accuracy: 0.6142\n",
      "Epoch 20/100\n"
     ]
    },
    {
     "name": "stderr",
     "output_type": "stream",
     "text": [
      "Error: command buffer exited with error status.\n",
      "\tThe Metal Performance Shaders operations encoded on it may not have completed.\n",
      "\tError: \n",
      "\t(null)\n",
      "\tInternal Error (IOAF code 14)\n",
      "\t<AGXM1FamilyCommandBuffer: 0x7fd7d444cf90>\n",
      "    label = <none> \n",
      "    device = <AGXG13GDevice: 0x7fddcb6ae400>\n",
      "        name = Apple M1 \n",
      "    commandQueue = <AGXM1FamilyCommandQueue: 0x7fdd9f237400>\n",
      "        label = <none> \n",
      "        device = <AGXG13GDevice: 0x7fddcb6ae400>\n",
      "            name = Apple M1 \n",
      "    retainedReferences = 1\n"
     ]
    },
    {
     "name": "stdout",
     "output_type": "stream",
     "text": [
      "321/321 - 430s - loss: 2.3851 - accuracy: 0.6417 - val_loss: 2.2443 - val_accuracy: 0.6387\n",
      "Epoch 21/100\n"
     ]
    },
    {
     "name": "stderr",
     "output_type": "stream",
     "text": [
      "Error: command buffer exited with error status.\n",
      "\tThe Metal Performance Shaders operations encoded on it may not have completed.\n",
      "\tError: \n",
      "\t(null)\n",
      "\tInternal Error (IOAF code 14)\n",
      "\t<AGXM1FamilyCommandBuffer: 0x7fd7d9a32770>\n",
      "    label = <none> \n",
      "    device = <AGXG13GDevice: 0x7fddcb6ae400>\n",
      "        name = Apple M1 \n",
      "    commandQueue = <AGXM1FamilyCommandQueue: 0x7fdd9f237400>\n",
      "        label = <none> \n",
      "        device = <AGXG13GDevice: 0x7fddcb6ae400>\n",
      "            name = Apple M1 \n",
      "    retainedReferences = 1\n",
      "Error: command buffer exited with error status.\n",
      "\tThe Metal Performance Shaders operations encoded on it may not have completed.\n",
      "\tError: \n",
      "\t(null)\n",
      "\tInternal Error (IOAF code 14)\n",
      "\t<AGXM1FamilyCommandBuffer: 0x7fd7d9a4ad40>\n",
      "    label = <none> \n",
      "    device = <AGXG13GDevice: 0x7fddcb6ae400>\n",
      "        name = Apple M1 \n",
      "    commandQueue = <AGXM1FamilyCommandQueue: 0x7fdd9f237400>\n",
      "        label = <none> \n",
      "        device = <AGXG13GDevice: 0x7fddcb6ae400>\n",
      "            name = Apple M1 \n",
      "    retainedReferences = 1\n"
     ]
    },
    {
     "name": "stdout",
     "output_type": "stream",
     "text": [
      "321/321 - 422s - loss: 2.1201 - accuracy: 0.6468 - val_loss: 2.0285 - val_accuracy: 0.6414\n",
      "Epoch 22/100\n"
     ]
    },
    {
     "name": "stderr",
     "output_type": "stream",
     "text": [
      "Error: command buffer exited with error status.\n",
      "\tThe Metal Performance Shaders operations encoded on it may not have completed.\n",
      "\tError: \n",
      "\t(null)\n",
      "\tInternal Error (IOAF code 14)\n",
      "\t<AGXM1FamilyCommandBuffer: 0x7fd7d9c32aa0>\n",
      "    label = <none> \n",
      "    device = <AGXG13GDevice: 0x7fddcb6ae400>\n",
      "        name = Apple M1 \n",
      "    commandQueue = <AGXM1FamilyCommandQueue: 0x7fdd9f237400>\n",
      "        label = <none> \n",
      "        device = <AGXG13GDevice: 0x7fddcb6ae400>\n",
      "            name = Apple M1 \n",
      "    retainedReferences = 1\n"
     ]
    },
    {
     "name": "stdout",
     "output_type": "stream",
     "text": [
      "321/321 - 796s - loss: 1.9261 - accuracy: 0.6501 - val_loss: 1.8813 - val_accuracy: 0.6350\n",
      "Epoch 23/100\n",
      "321/321 - 436s - loss: 1.7578 - accuracy: 0.6573 - val_loss: 1.7276 - val_accuracy: 0.6449\n",
      "Epoch 24/100\n",
      "321/321 - 309s - loss: 1.6538 - accuracy: 0.6590 - val_loss: 1.5957 - val_accuracy: 0.6555\n",
      "Epoch 25/100\n",
      "321/321 - 290s - loss: 1.5520 - accuracy: 0.6620 - val_loss: 1.6277 - val_accuracy: 0.6167\n",
      "Epoch 26/100\n",
      "321/321 - 312s - loss: 1.4845 - accuracy: 0.6639 - val_loss: 1.4465 - val_accuracy: 0.6674\n",
      "Epoch 27/100\n",
      "321/321 - 316s - loss: 1.4176 - accuracy: 0.6683 - val_loss: 1.4521 - val_accuracy: 0.6377\n",
      "Epoch 28/100\n",
      "321/321 - 319s - loss: 1.3838 - accuracy: 0.6639 - val_loss: 1.4203 - val_accuracy: 0.6427\n",
      "Epoch 29/100\n",
      "321/321 - 319s - loss: 1.3463 - accuracy: 0.6661 - val_loss: 1.3524 - val_accuracy: 0.6573\n",
      "Epoch 30/100\n",
      "321/321 - 317s - loss: 1.3276 - accuracy: 0.6674 - val_loss: 1.3353 - val_accuracy: 0.6583\n",
      "Epoch 31/100\n",
      "321/321 - 316s - loss: 1.2918 - accuracy: 0.6729 - val_loss: 1.4145 - val_accuracy: 0.6275\n",
      "Epoch 32/100\n",
      "321/321 - 317s - loss: 1.2857 - accuracy: 0.6746 - val_loss: 1.3092 - val_accuracy: 0.6616\n",
      "Epoch 33/100\n",
      "321/321 - 316s - loss: 1.2712 - accuracy: 0.6753 - val_loss: 1.3167 - val_accuracy: 0.6579\n",
      "Epoch 34/100\n",
      "321/321 - 340s - loss: 1.2623 - accuracy: 0.6780 - val_loss: 1.2611 - val_accuracy: 0.6645\n",
      "Epoch 35/100\n",
      "321/321 - 348s - loss: 1.2552 - accuracy: 0.6785 - val_loss: 1.3137 - val_accuracy: 0.6596\n",
      "Epoch 36/100\n",
      "321/321 - 375s - loss: 1.2500 - accuracy: 0.6794 - val_loss: 1.3196 - val_accuracy: 0.6559\n"
     ]
    }
   ],
   "source": [
    "from tensorflow.keras.callbacks import EarlyStopping\n",
    "\n",
    "model = build_model()\n",
    "\n",
    "es = EarlyStopping(monitor='val_accuracy', mode='max', patience=5, restore_best_weights=True)\n",
    "\n",
    "history = model.fit(X_train, y_train, \n",
    "                    validation_split=0.2,\n",
    "                    epochs=100, \n",
    "                    batch_size=100,\n",
    "                    callbacks=[es],\n",
    "                    verbose=1)"
   ]
  }
 ],
 "metadata": {
  "kernelspec": {
   "display_name": "Python 3 (ipykernel)",
   "language": "python",
   "name": "python3"
  },
  "language_info": {
   "codemirror_mode": {
    "name": "ipython",
    "version": 3
   },
   "file_extension": ".py",
   "mimetype": "text/x-python",
   "name": "python",
   "nbconvert_exporter": "python",
   "pygments_lexer": "ipython3",
   "version": "3.8.6"
  },
  "toc": {
   "base_numbering": 1,
   "nav_menu": {},
   "number_sections": true,
   "sideBar": true,
   "skip_h1_title": false,
   "title_cell": "Table of Contents",
   "title_sidebar": "Contents",
   "toc_cell": false,
   "toc_position": {},
   "toc_section_display": true,
   "toc_window_display": false
  }
 },
 "nbformat": 4,
 "nbformat_minor": 5
}
