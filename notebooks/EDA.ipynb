{
 "cells": [
  {
   "cell_type": "code",
   "execution_count": 3,
   "id": "ff5bca59",
   "metadata": {},
   "outputs": [],
   "source": [
    "import pandas as pd\n",
    "import matplotlib.pyplot as plt"
   ]
  },
  {
   "cell_type": "code",
   "execution_count": 4,
   "id": "c961daaf",
   "metadata": {},
   "outputs": [
    {
     "data": {
      "text/plain": [
       "'/Users/raphaelvoortman/code/caronarthur/speech_emotion_reco/notebooks'"
      ]
     },
     "execution_count": 4,
     "metadata": {},
     "output_type": "execute_result"
    }
   ],
   "source": [
    "pwd"
   ]
  },
  {
   "cell_type": "code",
   "execution_count": 10,
   "id": "01865cb3",
   "metadata": {
    "scrolled": true
   },
   "outputs": [],
   "source": [
    "data = pd.read_csv('../speech_emotion_reco/data/iemocap_full_dataset.csv')"
   ]
  },
  {
   "cell_type": "code",
   "execution_count": 84,
   "id": "a6702109",
   "metadata": {},
   "outputs": [
    {
     "data": {
      "text/html": [
       "<div>\n",
       "<style scoped>\n",
       "    .dataframe tbody tr th:only-of-type {\n",
       "        vertical-align: middle;\n",
       "    }\n",
       "\n",
       "    .dataframe tbody tr th {\n",
       "        vertical-align: top;\n",
       "    }\n",
       "\n",
       "    .dataframe thead th {\n",
       "        text-align: right;\n",
       "    }\n",
       "</style>\n",
       "<table border=\"1\" class=\"dataframe\">\n",
       "  <thead>\n",
       "    <tr style=\"text-align: right;\">\n",
       "      <th></th>\n",
       "      <th>session</th>\n",
       "      <th>method</th>\n",
       "      <th>gender</th>\n",
       "      <th>emotion</th>\n",
       "      <th>n_annotators</th>\n",
       "      <th>agreement</th>\n",
       "      <th>path</th>\n",
       "    </tr>\n",
       "  </thead>\n",
       "  <tbody>\n",
       "    <tr>\n",
       "      <th>0</th>\n",
       "      <td>1</td>\n",
       "      <td>script</td>\n",
       "      <td>F</td>\n",
       "      <td>neu</td>\n",
       "      <td>3</td>\n",
       "      <td>3</td>\n",
       "      <td>Session1/sentences/wav/Ses01F_script02_1/Ses01...</td>\n",
       "    </tr>\n",
       "    <tr>\n",
       "      <th>1</th>\n",
       "      <td>1</td>\n",
       "      <td>script</td>\n",
       "      <td>F</td>\n",
       "      <td>fru</td>\n",
       "      <td>3</td>\n",
       "      <td>2</td>\n",
       "      <td>Session1/sentences/wav/Ses01F_script02_1/Ses01...</td>\n",
       "    </tr>\n",
       "    <tr>\n",
       "      <th>2</th>\n",
       "      <td>1</td>\n",
       "      <td>script</td>\n",
       "      <td>F</td>\n",
       "      <td>xxx</td>\n",
       "      <td>0</td>\n",
       "      <td>0</td>\n",
       "      <td>Session1/sentences/wav/Ses01F_script02_1/Ses01...</td>\n",
       "    </tr>\n",
       "    <tr>\n",
       "      <th>3</th>\n",
       "      <td>1</td>\n",
       "      <td>script</td>\n",
       "      <td>F</td>\n",
       "      <td>sur</td>\n",
       "      <td>3</td>\n",
       "      <td>2</td>\n",
       "      <td>Session1/sentences/wav/Ses01F_script02_1/Ses01...</td>\n",
       "    </tr>\n",
       "    <tr>\n",
       "      <th>4</th>\n",
       "      <td>1</td>\n",
       "      <td>script</td>\n",
       "      <td>F</td>\n",
       "      <td>neu</td>\n",
       "      <td>3</td>\n",
       "      <td>2</td>\n",
       "      <td>Session1/sentences/wav/Ses01F_script02_1/Ses01...</td>\n",
       "    </tr>\n",
       "  </tbody>\n",
       "</table>\n",
       "</div>"
      ],
      "text/plain": [
       "   session  method gender emotion  n_annotators  agreement  \\\n",
       "0        1  script      F     neu             3          3   \n",
       "1        1  script      F     fru             3          2   \n",
       "2        1  script      F     xxx             0          0   \n",
       "3        1  script      F     sur             3          2   \n",
       "4        1  script      F     neu             3          2   \n",
       "\n",
       "                                                path  \n",
       "0  Session1/sentences/wav/Ses01F_script02_1/Ses01...  \n",
       "1  Session1/sentences/wav/Ses01F_script02_1/Ses01...  \n",
       "2  Session1/sentences/wav/Ses01F_script02_1/Ses01...  \n",
       "3  Session1/sentences/wav/Ses01F_script02_1/Ses01...  \n",
       "4  Session1/sentences/wav/Ses01F_script02_1/Ses01...  "
      ]
     },
     "execution_count": 84,
     "metadata": {},
     "output_type": "execute_result"
    }
   ],
   "source": [
    "# preview of data\n",
    "data.head()"
   ]
  },
  {
   "cell_type": "code",
   "execution_count": 25,
   "id": "f9ba5bba",
   "metadata": {
    "scrolled": true
   },
   "outputs": [
    {
     "data": {
      "text/plain": [
       "(10039, 7)"
      ]
     },
     "execution_count": 25,
     "metadata": {},
     "output_type": "execute_result"
    }
   ],
   "source": [
    "# 10.039 observations\n",
    "data.shape "
   ]
  },
  {
   "cell_type": "code",
   "execution_count": 29,
   "id": "ebfeee83",
   "metadata": {
    "scrolled": false
   },
   "outputs": [
    {
     "data": {
      "text/plain": [
       "11"
      ]
     },
     "execution_count": 29,
     "metadata": {},
     "output_type": "execute_result"
    }
   ],
   "source": [
    "# 9 emotions + 2 unknown ('oth','xxx')\n",
    "data.emotion.nunique() "
   ]
  },
  {
   "cell_type": "code",
   "execution_count": 101,
   "id": "c367f402",
   "metadata": {},
   "outputs": [],
   "source": [
    "emotions = data.groupby('emotion').count()['path'].sort_values(ascending=False)"
   ]
  },
  {
   "cell_type": "code",
   "execution_count": 110,
   "id": "a2fd7a80",
   "metadata": {},
   "outputs": [],
   "source": [
    "# mapping between emotions and values\n",
    "emotion_dict = {\"unknown\": \"xxx\",\n",
    "                \"frustration\": \"fru\",\n",
    "                \"neutral\": \"neu\",\n",
    "                \"anger\": \"ang\",\n",
    "                \"sadness\": \"sad\",\n",
    "                \"excitement\": \"exc\",\n",
    "                \"hapiness\": \"hap\",\n",
    "                \"surprise\": \"sur\",\n",
    "                \"fear\": \"fea\",\n",
    "                \"other\": \"oth\",\n",
    "                \"disgust\": \"dis\"}"
   ]
  },
  {
   "cell_type": "code",
   "execution_count": 111,
   "id": "7391cccf",
   "metadata": {},
   "outputs": [
    {
     "data": {
      "image/png": "[encoded data removed]",
      "text/plain": [
       "<Figure size 864x288 with 1 Axes>"
      ]
     },
     "metadata": {
      "needs_background": "light"
     },
     "output_type": "display_data"
    }
   ],
   "source": [
    "# distribution by emotion\n",
    "plt.figure(figsize=(12, 4))\n",
    "plt.bar(emotion_dict.keys(), emotions.values, align='center', alpha=0.5)\n",
    "plt.ylabel('Number of observations')\n",
    "plt.title('Emotions')\n",
    "plt.show()"
   ]
  },
  {
   "cell_type": "code",
   "execution_count": 87,
   "id": "53fc547e",
   "metadata": {},
   "outputs": [
    {
     "data": {
      "text/plain": [
       "array([1, 2, 3, 4, 5])"
      ]
     },
     "execution_count": 87,
     "metadata": {},
     "output_type": "execute_result"
    }
   ],
   "source": [
    "# dialogue sessions in the database\n",
    "data.session.unique()"
   ]
  },
  {
   "cell_type": "code",
   "execution_count": 89,
   "id": "d2760835",
   "metadata": {},
   "outputs": [
    {
     "data": {
      "text/plain": [
       "array(['F', 'M'], dtype=object)"
      ]
     },
     "execution_count": 89,
     "metadata": {},
     "output_type": "execute_result"
    }
   ],
   "source": [
    "data.gender.unique()"
   ]
  },
  {
   "cell_type": "code",
   "execution_count": 99,
   "id": "851f75ee",
   "metadata": {},
   "outputs": [
    {
     "data": {
      "text/plain": [
       "array([4941, 5098])"
      ]
     },
     "execution_count": 99,
     "metadata": {},
     "output_type": "execute_result"
    }
   ],
   "source": [
    "data.groupby('gender').count()['path'].values"
   ]
  },
  {
   "cell_type": "code",
   "execution_count": 100,
   "id": "16fd8df6",
   "metadata": {},
   "outputs": [
    {
     "data": {
      "image/png": "[encoded data removed]",
      "text/plain": [
       "<Figure size 432x288 with 1 Axes>"
      ]
     },
     "metadata": {
      "needs_background": "light"
     },
     "output_type": "display_data"
    }
   ],
   "source": [
    "plt.bar(data.gender.unique(), data.groupby('gender').count()['path'].values, align='center', alpha=0.5)\n",
    "plt.ylabel('Number of observations')\n",
    "plt.title('Gender')\n",
    "plt.show()"
   ]
  },
  {
   "cell_type": "code",
   "execution_count": 102,
   "id": "b49cc76c",
   "metadata": {},
   "outputs": [],
   "source": [
    "data['percentage_agreement'] = data.agreement / data.n_annotators"
   ]
  },
  {
   "cell_type": "code",
   "execution_count": 104,
   "id": "1f5ca12c",
   "metadata": {},
   "outputs": [
    {
     "data": {
      "text/plain": [
       "0.666667    3864\n",
       "1.000000    2166\n",
       "0.750000     900\n",
       "0.500000     602\n",
       "Name: percentage_agreement, dtype: int64"
      ]
     },
     "execution_count": 104,
     "metadata": {},
     "output_type": "execute_result"
    }
   ],
   "source": [
    "# there is atleast 50% agreement for all observations\n",
    "data.percentage_agreement.value_counts()"
   ]
  },
  {
   "cell_type": "code",
   "execution_count": 106,
   "id": "2a835055",
   "metadata": {},
   "outputs": [
    {
     "data": {
      "text/plain": [
       "2507"
      ]
     },
     "execution_count": 106,
     "metadata": {},
     "output_type": "execute_result"
    }
   ],
   "source": [
    "# is null for all the unknown\n",
    "data.percentage_agreement.isnull().sum()"
   ]
  },
  {
   "cell_type": "code",
   "execution_count": 108,
   "id": "e3f08b5f",
   "metadata": {},
   "outputs": [
    {
     "data": {
      "text/plain": [
       "script    5255\n",
       "impro     4784\n",
       "Name: method, dtype: int64"
      ]
     },
     "execution_count": 108,
     "metadata": {},
     "output_type": "execute_result"
    }
   ],
   "source": [
    "data.method.value_counts()"
   ]
  },
  {
   "cell_type": "code",
   "execution_count": 109,
   "id": "f8f44738",
   "metadata": {},
   "outputs": [
    {
     "data": {
      "image/png": "[encoded data removed]",
      "text/plain": [
       "<Figure size 432x288 with 1 Axes>"
      ]
     },
     "metadata": {
      "needs_background": "light"
     },
     "output_type": "display_data"
    }
   ],
   "source": [
    "plt.bar(data.method.unique(), data.groupby('method').count()['path'].values, align='center', alpha=0.5)\n",
    "plt.ylabel('Number of observations')\n",
    "plt.title('Method')\n",
    "plt.show()"
   ]
  }
 ],
 "metadata": {
  "kernelspec": {
   "display_name": "Python 3 (ipykernel)",
   "language": "python",
   "name": "python3"
  },
  "language_info": {
   "codemirror_mode": {
    "name": "ipython",
    "version": 3
   },
   "file_extension": ".py",
   "mimetype": "text/x-python",
   "name": "python",
   "nbconvert_exporter": "python",
   "pygments_lexer": "ipython3",
   "version": "3.8.6"
  },
  "toc": {
   "base_numbering": 1,
   "nav_menu": {},
   "number_sections": true,
   "sideBar": true,
   "skip_h1_title": false,
   "title_cell": "Table of Contents",
   "title_sidebar": "Contents",
   "toc_cell": false,
   "toc_position": {},
   "toc_section_display": true,
   "toc_window_display": false
  }
 },
 "nbformat": 4,
 "nbformat_minor": 5
}
