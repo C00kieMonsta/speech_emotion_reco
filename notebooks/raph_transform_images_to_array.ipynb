{
 "cells": [
  {
   "cell_type": "code",
   "execution_count": 8,
   "id": "a4c1301f",
   "metadata": {},
   "outputs": [],
   "source": [
    "import numpy as np\n",
    "from tensorflow.keras.utils import to_categorical\n",
    "from tqdm import tqdm\n",
    "import numpy as np\n",
    "import pandas as pd\n",
    "import os\n",
    "from PIL import Image"
   ]
  },
  {
   "cell_type": "code",
   "execution_count": 9,
   "id": "a03fe047",
   "metadata": {},
   "outputs": [],
   "source": [
    "df = pd.read_csv('../speech_emotion_reco/data/merged_dataset.csv')"
   ]
  },
  {
   "cell_type": "code",
   "execution_count": 11,
   "id": "e66d5948",
   "metadata": {},
   "outputs": [],
   "source": [
    "df.drop(columns=['Unnamed: 0'], inplace=True)"
   ]
  },
  {
   "cell_type": "code",
   "execution_count": 27,
   "id": "9c2e6c14",
   "metadata": {},
   "outputs": [],
   "source": [
    "def load_images_as_array():\n",
    "    data_path = '../speech_emotion_reco/data/images/'\n",
    "    classes = {'happy':0, \n",
    "               'sad': 1,\n",
    "               'fear': 2,\n",
    "               'disgust': 3,\n",
    "               'angry': 4,\n",
    "               'neutral': 5,\n",
    "               'surprise': 6,\n",
    "               'Unknown': 7}\n",
    "    imgs = []\n",
    "    labels = []\n",
    "    images_paths = [path for path in os.listdir(data_path) if path.find('.jpg')>0]\n",
    "    index = 0 \n",
    "    for path in images_paths[:10]:\n",
    "        image = Image.open(path)\n",
    "        #image = image.resize((256, 256))\n",
    "        imgs.append(np.array(image))\n",
    "        print(image.shape)\n",
    "        labels.append(classes[df.loc[index, 'emotion']])\n",
    "        index += 1\n",
    "    return imgs, labels"
   ]
  },
  {
   "cell_type": "code",
   "execution_count": null,
   "id": "0213ff92",
   "metadata": {},
   "outputs": [],
   "source": [
    "load_images_as_array()"
   ]
  },
  {
   "cell_type": "code",
   "execution_count": null,
   "id": "c50a2157",
   "metadata": {},
   "outputs": [],
   "source": [
    "    X = np.array(imgs)\n",
    "    num_classes = len(set(labels))\n",
    "    y = to_categorical(labels, num_classes)\n",
    "\n",
    "    # Finally we shuffle:\n",
    "    p = np.random.permutation(len(X))\n",
    "    X, y = X[p], y[p]\n",
    "\n",
    "    first_split = int(len(imgs) /6.)\n",
    "    second_split = first_split + int(len(imgs) * 0.2)\n",
    "    X_test, X_val, X_train = X[:first_split], X[first_split:second_split], X[second_split:]\n",
    "    y_test, y_val, y_train = y[:first_split], y[first_split:second_split], y[second_split:]\n",
    "    \n",
    "    return X_train, y_train, X_val, y_val, X_test, y_test, num_classes"
   ]
  }
 ],
 "metadata": {
  "kernelspec": {
   "display_name": "Python 3 (ipykernel)",
   "language": "python",
   "name": "python3"
  },
  "language_info": {
   "codemirror_mode": {
    "name": "ipython",
    "version": 3
   },
   "file_extension": ".py",
   "mimetype": "text/x-python",
   "name": "python",
   "nbconvert_exporter": "python",
   "pygments_lexer": "ipython3",
   "version": "3.8.6"
  },
  "toc": {
   "base_numbering": 1,
   "nav_menu": {},
   "number_sections": true,
   "sideBar": true,
   "skip_h1_title": false,
   "title_cell": "Table of Contents",
   "title_sidebar": "Contents",
   "toc_cell": false,
   "toc_position": {},
   "toc_section_display": true,
   "toc_window_display": false
  }
 },
 "nbformat": 4,
 "nbformat_minor": 5
}
