{
 "cells": [
  {
   "cell_type": "code",
   "execution_count": 2,
   "id": "e3cb5c54",
   "metadata": {},
   "outputs": [],
   "source": [
    "import pandas as pd\n",
    "import numpy as np\n",
    "import os\n",
    "import librosa\n",
    "import librosa.display\n",
    "import IPython.display as ipd\n",
    "import matplotlib.pyplot as plt\n",
    "import matplotlib.image as mpimg\n",
    "from scipy.io import wavfile"
   ]
  },
  {
   "cell_type": "code",
   "execution_count": 3,
   "id": "8787ae2c",
   "metadata": {},
   "outputs": [],
   "source": [
    "emotion_df = pd.read_csv(\"../speech_emotion_reco/data/merged_dataset.csv\")"
   ]
  },
  {
   "cell_type": "code",
   "execution_count": 8,
   "id": "a10cf4c4",
   "metadata": {},
   "outputs": [
    {
     "data": {
      "text/plain": [
       "(12163, 5)"
      ]
     },
     "execution_count": 8,
     "metadata": {},
     "output_type": "execute_result"
    }
   ],
   "source": [
    "emotion_df.shape"
   ]
  },
  {
   "cell_type": "code",
   "execution_count": 9,
   "id": "f2c47389",
   "metadata": {},
   "outputs": [
    {
     "data": {
      "text/plain": [
       "48652"
      ]
     },
     "execution_count": 9,
     "metadata": {},
     "output_type": "execute_result"
    }
   ],
   "source": [
    "emotion_df.shape[0]*4"
   ]
  },
  {
   "cell_type": "code",
   "execution_count": 4,
   "id": "2395fde0",
   "metadata": {},
   "outputs": [],
   "source": [
    "def noise(data):\n",
    "    noise_amp = 0.035*np.random.uniform()*np.amax(data)\n",
    "    data = data + noise_amp*np.random.normal(size=data.shape[0])\n",
    "    return data\n",
    "\n",
    "def stretch(data, rate=0.8):\n",
    "    return librosa.effects.time_stretch(data, rate)\n",
    "\n",
    "def shift(data):\n",
    "    shift_range = int(np.random.uniform(low=-5, high = 5)*1000)\n",
    "    return np.roll(data, shift_range)\n",
    "\n",
    "def pitch(data, sampling_rate, pitch_factor=0.7):\n",
    "    return librosa.effects.pitch_shift(data, sampling_rate, pitch_factor)"
   ]
  },
  {
   "cell_type": "code",
   "execution_count": 5,
   "id": "5896a72c",
   "metadata": {},
   "outputs": [],
   "source": [
    "def saving_image(path, image_id):\n",
    "    data, sample_rate = librosa.load(path, sr=44100)\n",
    "    \n",
    "    noise_data = noise(data)\n",
    "    stretch_data = stretch(data)\n",
    "    pitch_data = pitch(data, sample_rate)\n",
    "    shift_data = shift(data)\n",
    "    \n",
    "    samples = {\"noise\": noise_data, \"stretch\": stretch_data, \"pitch\": pitch_data, \"shift\": shift_data}\n",
    "    \n",
    "    for key,value in samples.items():\n",
    "        fig = plt.figure\n",
    "        sgram = librosa.stft(value)\n",
    "        sgram_mag, _ = librosa.magphase(sgram)\n",
    "        sample_rate = 44100\n",
    "        mel_scale_sgram = librosa.feature.melspectrogram(S=sgram_mag, sr=sample_rate)\n",
    "        mel_sgram = librosa.amplitude_to_db(mel_scale_sgram, ref=np.min)\n",
    "        librosa.display.specshow(mel_sgram, sr=sample_rate, x_axis='time', y_axis='mel')\n",
    "        filename = \"../speech_emotion_reco/data/images_augmented/\" + key + \"_\" + image_id\n",
    "        plt.axis('off')\n",
    "        plt.savefig(filename,bbox_inches='tight',transparent=True, pad_inches=0)\n",
    "        plt.close()\n",
    "        del filename, sample_rate,sgram, fig"
   ]
  },
  {
   "cell_type": "code",
   "execution_count": 12,
   "id": "7152f34f",
   "metadata": {
    "scrolled": true
   },
   "outputs": [],
   "source": [
    "saving_image(emotion_df.iloc[2946,3],str(emotion_df.iloc[2946,0]))"
   ]
  }
 ],
 "metadata": {
  "kernelspec": {
   "display_name": "Python 3 (ipykernel)",
   "language": "python",
   "name": "python3"
  },
  "language_info": {
   "codemirror_mode": {
    "name": "ipython",
    "version": 3
   },
   "file_extension": ".py",
   "mimetype": "text/x-python",
   "name": "python",
   "nbconvert_exporter": "python",
   "pygments_lexer": "ipython3",
   "version": "3.8.6"
  },
  "toc": {
   "base_numbering": 1,
   "nav_menu": {},
   "number_sections": true,
   "sideBar": true,
   "skip_h1_title": false,
   "title_cell": "Table of Contents",
   "title_sidebar": "Contents",
   "toc_cell": false,
   "toc_position": {},
   "toc_section_display": true,
   "toc_window_display": false
  }
 },
 "nbformat": 4,
 "nbformat_minor": 5
}
