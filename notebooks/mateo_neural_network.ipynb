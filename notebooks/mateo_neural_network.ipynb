{
 "cells": [
  {
   "cell_type": "code",
   "execution_count": 1,
   "id": "9a7177a9",
   "metadata": {},
   "outputs": [],
   "source": [
    "import numpy as np\n",
    "import pandas as pd\n",
    "import numpy as np\n",
    "import os\n",
    "import sys\n",
    "import librosa.display\n",
    "import matplotlib.pyplot as plt\n",
    "from IPython.display import Audio\n",
    "import wave\n",
    "from scipy.io.wavfile import write\n",
    "from sklearn.preprocessing import StandardScaler, OneHotEncoder\n",
    "from sklearn.metrics import confusion_matrix, classification_report\n",
    "from sklearn.model_selection import train_test_split\n",
    "from sklearn.pipeline import Pipeline\n"
   ]
  },
  {
   "cell_type": "code",
   "execution_count": 28,
   "id": "f5a8e0c0",
   "metadata": {},
   "outputs": [],
   "source": [
    "from sklearn.neural_network import MLPClassifier"
   ]
  },
  {
   "cell_type": "code",
   "execution_count": 29,
   "id": "34d4ae0b",
   "metadata": {},
   "outputs": [],
   "source": [
    "Features= pd.read_csv(\"../speech_emotion_reco/data/features1.csv\")"
   ]
  },
  {
   "cell_type": "code",
   "execution_count": 30,
   "id": "e6fddc2d",
   "metadata": {},
   "outputs": [
    {
     "data": {
      "text/html": [
       "<div>\n",
       "<style scoped>\n",
       "    .dataframe tbody tr th:only-of-type {\n",
       "        vertical-align: middle;\n",
       "    }\n",
       "\n",
       "    .dataframe tbody tr th {\n",
       "        vertical-align: top;\n",
       "    }\n",
       "\n",
       "    .dataframe thead th {\n",
       "        text-align: right;\n",
       "    }\n",
       "</style>\n",
       "<table border=\"1\" class=\"dataframe\">\n",
       "  <thead>\n",
       "    <tr style=\"text-align: right;\">\n",
       "      <th></th>\n",
       "      <th>0</th>\n",
       "      <th>1</th>\n",
       "      <th>2</th>\n",
       "      <th>3</th>\n",
       "      <th>4</th>\n",
       "      <th>5</th>\n",
       "      <th>6</th>\n",
       "      <th>7</th>\n",
       "      <th>8</th>\n",
       "      <th>9</th>\n",
       "      <th>...</th>\n",
       "      <th>153</th>\n",
       "      <th>154</th>\n",
       "      <th>155</th>\n",
       "      <th>156</th>\n",
       "      <th>157</th>\n",
       "      <th>158</th>\n",
       "      <th>159</th>\n",
       "      <th>160</th>\n",
       "      <th>161</th>\n",
       "      <th>labels</th>\n",
       "    </tr>\n",
       "  </thead>\n",
       "  <tbody>\n",
       "    <tr>\n",
       "      <th>0</th>\n",
       "      <td>0.022190</td>\n",
       "      <td>0.574264</td>\n",
       "      <td>0.483570</td>\n",
       "      <td>0.460849</td>\n",
       "      <td>0.481321</td>\n",
       "      <td>0.555484</td>\n",
       "      <td>0.593383</td>\n",
       "      <td>0.527021</td>\n",
       "      <td>0.487356</td>\n",
       "      <td>0.539324</td>\n",
       "      <td>...</td>\n",
       "      <td>0.000017</td>\n",
       "      <td>0.000005</td>\n",
       "      <td>0.000002</td>\n",
       "      <td>1.302462e-06</td>\n",
       "      <td>1.284306e-06</td>\n",
       "      <td>0.000001</td>\n",
       "      <td>0.000001</td>\n",
       "      <td>0.000001</td>\n",
       "      <td>1.307451e-06</td>\n",
       "      <td>sad</td>\n",
       "    </tr>\n",
       "    <tr>\n",
       "      <th>1</th>\n",
       "      <td>0.024034</td>\n",
       "      <td>0.600490</td>\n",
       "      <td>0.566040</td>\n",
       "      <td>0.508995</td>\n",
       "      <td>0.517747</td>\n",
       "      <td>0.564668</td>\n",
       "      <td>0.628690</td>\n",
       "      <td>0.570408</td>\n",
       "      <td>0.504077</td>\n",
       "      <td>0.523364</td>\n",
       "      <td>...</td>\n",
       "      <td>0.000694</td>\n",
       "      <td>0.000707</td>\n",
       "      <td>0.000760</td>\n",
       "      <td>7.191862e-04</td>\n",
       "      <td>7.346970e-04</td>\n",
       "      <td>0.000748</td>\n",
       "      <td>0.000710</td>\n",
       "      <td>0.000721</td>\n",
       "      <td>7.125463e-04</td>\n",
       "      <td>sad</td>\n",
       "    </tr>\n",
       "    <tr>\n",
       "      <th>2</th>\n",
       "      <td>0.026794</td>\n",
       "      <td>0.555865</td>\n",
       "      <td>0.481998</td>\n",
       "      <td>0.469905</td>\n",
       "      <td>0.485150</td>\n",
       "      <td>0.561153</td>\n",
       "      <td>0.599452</td>\n",
       "      <td>0.515703</td>\n",
       "      <td>0.467281</td>\n",
       "      <td>0.533736</td>\n",
       "      <td>...</td>\n",
       "      <td>0.000009</td>\n",
       "      <td>0.000003</td>\n",
       "      <td>0.000001</td>\n",
       "      <td>1.101190e-06</td>\n",
       "      <td>1.086457e-06</td>\n",
       "      <td>0.000001</td>\n",
       "      <td>0.000001</td>\n",
       "      <td>0.000001</td>\n",
       "      <td>1.116437e-06</td>\n",
       "      <td>sad</td>\n",
       "    </tr>\n",
       "    <tr>\n",
       "      <th>3</th>\n",
       "      <td>0.030215</td>\n",
       "      <td>0.569947</td>\n",
       "      <td>0.537033</td>\n",
       "      <td>0.472541</td>\n",
       "      <td>0.482542</td>\n",
       "      <td>0.531870</td>\n",
       "      <td>0.609241</td>\n",
       "      <td>0.538805</td>\n",
       "      <td>0.472551</td>\n",
       "      <td>0.501115</td>\n",
       "      <td>...</td>\n",
       "      <td>0.000029</td>\n",
       "      <td>0.000010</td>\n",
       "      <td>0.000004</td>\n",
       "      <td>2.024705e-06</td>\n",
       "      <td>1.428292e-06</td>\n",
       "      <td>0.000001</td>\n",
       "      <td>0.000001</td>\n",
       "      <td>0.000001</td>\n",
       "      <td>1.116235e-06</td>\n",
       "      <td>sad</td>\n",
       "    </tr>\n",
       "    <tr>\n",
       "      <th>4</th>\n",
       "      <td>0.021918</td>\n",
       "      <td>0.572923</td>\n",
       "      <td>0.493467</td>\n",
       "      <td>0.462107</td>\n",
       "      <td>0.478409</td>\n",
       "      <td>0.544882</td>\n",
       "      <td>0.593050</td>\n",
       "      <td>0.524531</td>\n",
       "      <td>0.479771</td>\n",
       "      <td>0.534424</td>\n",
       "      <td>...</td>\n",
       "      <td>0.000017</td>\n",
       "      <td>0.000005</td>\n",
       "      <td>0.000001</td>\n",
       "      <td>9.656201e-07</td>\n",
       "      <td>9.702152e-07</td>\n",
       "      <td>0.000001</td>\n",
       "      <td>0.000001</td>\n",
       "      <td>0.000001</td>\n",
       "      <td>8.766840e-07</td>\n",
       "      <td>sad</td>\n",
       "    </tr>\n",
       "  </tbody>\n",
       "</table>\n",
       "<p>5 rows × 163 columns</p>\n",
       "</div>"
      ],
      "text/plain": [
       "          0         1         2         3         4         5         6  \\\n",
       "0  0.022190  0.574264  0.483570  0.460849  0.481321  0.555484  0.593383   \n",
       "1  0.024034  0.600490  0.566040  0.508995  0.517747  0.564668  0.628690   \n",
       "2  0.026794  0.555865  0.481998  0.469905  0.485150  0.561153  0.599452   \n",
       "3  0.030215  0.569947  0.537033  0.472541  0.482542  0.531870  0.609241   \n",
       "4  0.021918  0.572923  0.493467  0.462107  0.478409  0.544882  0.593050   \n",
       "\n",
       "          7         8         9  ...       153       154       155  \\\n",
       "0  0.527021  0.487356  0.539324  ...  0.000017  0.000005  0.000002   \n",
       "1  0.570408  0.504077  0.523364  ...  0.000694  0.000707  0.000760   \n",
       "2  0.515703  0.467281  0.533736  ...  0.000009  0.000003  0.000001   \n",
       "3  0.538805  0.472551  0.501115  ...  0.000029  0.000010  0.000004   \n",
       "4  0.524531  0.479771  0.534424  ...  0.000017  0.000005  0.000001   \n",
       "\n",
       "            156           157       158       159       160           161  \\\n",
       "0  1.302462e-06  1.284306e-06  0.000001  0.000001  0.000001  1.307451e-06   \n",
       "1  7.191862e-04  7.346970e-04  0.000748  0.000710  0.000721  7.125463e-04   \n",
       "2  1.101190e-06  1.086457e-06  0.000001  0.000001  0.000001  1.116437e-06   \n",
       "3  2.024705e-06  1.428292e-06  0.000001  0.000001  0.000001  1.116235e-06   \n",
       "4  9.656201e-07  9.702152e-07  0.000001  0.000001  0.000001  8.766840e-07   \n",
       "\n",
       "   labels  \n",
       "0     sad  \n",
       "1     sad  \n",
       "2     sad  \n",
       "3     sad  \n",
       "4     sad  \n",
       "\n",
       "[5 rows x 163 columns]"
      ]
     },
     "execution_count": 30,
     "metadata": {},
     "output_type": "execute_result"
    }
   ],
   "source": [
    "Features.head()"
   ]
  },
  {
   "cell_type": "code",
   "execution_count": 31,
   "id": "4e19c463",
   "metadata": {},
   "outputs": [],
   "source": [
    "Features=Features[Features.labels != 'unknown']\n",
    "Features=Features[Features.labels != 'surprise']"
   ]
  },
  {
   "cell_type": "code",
   "execution_count": 32,
   "id": "d07d655a",
   "metadata": {},
   "outputs": [],
   "source": [
    "X = Features.iloc[: ,:-1].values\n",
    "Y = Features['labels'].values"
   ]
  },
  {
   "cell_type": "code",
   "execution_count": 33,
   "id": "f7a74041",
   "metadata": {},
   "outputs": [
    {
     "data": {
      "text/plain": [
       "happy      9620\n",
       "sad        9615\n",
       "angry      9615\n",
       "fear       9615\n",
       "disgust    9615\n",
       "neutral    9475\n",
       "Name: labels, dtype: int64"
      ]
     },
     "execution_count": 33,
     "metadata": {},
     "output_type": "execute_result"
    }
   ],
   "source": [
    "Features['labels'].value_counts()"
   ]
  },
  {
   "cell_type": "code",
   "execution_count": 8,
   "id": "15ab83a1",
   "metadata": {},
   "outputs": [],
   "source": [
    "# As this is a multiclass classification problem onehotencoding our Y.\n",
    "encoder = OneHotEncoder()\n",
    "Y = encoder.fit_transform(np.array(Y).reshape(-1,1)).toarray()"
   ]
  },
  {
   "cell_type": "code",
   "execution_count": 34,
   "id": "d5b9d06c",
   "metadata": {},
   "outputs": [
    {
     "data": {
      "text/plain": [
       "((50648, 162), (50648, 1), (6907, 162), (6907, 1))"
      ]
     },
     "execution_count": 34,
     "metadata": {},
     "output_type": "execute_result"
    }
   ],
   "source": [
    "# splitting data\n",
    "x_train, x_test, y_train, y_test = train_test_split(pd.DataFrame(X), pd.DataFrame(Y), random_state=0, shuffle=True, test_size=0.12)\n",
    "x_train.shape, y_train.shape, x_test.shape, y_test.shape"
   ]
  },
  {
   "cell_type": "code",
   "execution_count": 35,
   "id": "e647ee2c",
   "metadata": {},
   "outputs": [],
   "source": [
    "# scaling our data with sklearn's Standard scaler\n",
    "scaler = StandardScaler()\n",
    "#x_train = scaler.fit(x_train)\n",
    "#x_test = scaler.transform(x_test)\n",
    "#x_train.shape, y_train.shape, x_test.shape, y_test.shape"
   ]
  },
  {
   "cell_type": "code",
   "execution_count": 36,
   "id": "780119f5",
   "metadata": {},
   "outputs": [],
   "source": [
    "#MLP clasiifier sans pca\n",
    "#52 % moins over fittint model= MLPClassifier(hidden_layer_sizes=(200,), max_iter=300)\n",
    "# 55% model = MLPClassifier(alpha = 0.01, batch_size = 256, epsilon = 1e-08, hidden_layer_sizes = (500,), learning_rate = 'adaptive', max_iter = 600)\n",
    "#model = MLPClassifier(alpha = 0.01, batch_size = 256, epsilon = 1e-08, hidden_layer_sizes = (400,), learning_rate = 'adaptive', max_iter = 500)\n",
    "# 54% model = MLPClassifier(alpha = 0.01, batch_size = 256, epsilon = 1e-08, hidden_layer_sizes = (500,), learning_rate = 'adaptive', max_iter = 900)\n",
    "#53% model = MLPClassifier(alpha = 0.09, batch_size = 256, epsilon = 1e-08, hidden_layer_sizes = (500,), learning_rate = 'adaptive', max_iter = 600)\n",
    "#56% model = MLPClassifier(alpha = 0.03, batch_size = 256, epsilon = 1e-08, hidden_layer_sizes = (700,), learning_rate = 'adaptive', max_iter = 800,  validation_fraction=0.2)\n",
    "#54model = MLPClassifier(alpha = 0.01, batch_size = 256, epsilon = 1e-08, hidden_layer_sizes = (700,), learning_rate = 'adaptive', max_iter = 800,  validation_fraction=0.2)\n",
    "# 52% et 70% model= MLPClassifier(hidden_layer_sizes=(400,), max_iter=600, alpha = 0.1, batch_size = 256, epsilon = 1e-08,learning_rate = 'adaptive',validation_fraction=0.2)\n",
    "#53% 69% avec standardisation model= MLPClassifier(hidden_layer_sizes=(500,), max_iter=600, alpha = 0.1, batch_size = 256, epsilon = 1e-08,learning_rate = 'adaptive', validation_fraction=0.2)\n",
    "#44% 54% model= MLPClassifier(hidden_layer_sizes=(500,), max_iter=600, alpha = 0.2, batch_size = 256, epsilon = 1e-08,learning_rate = 'adaptive',validation_fraction=0.2)\n",
    "\n",
    "#68% 52 % sans split validation model= MLPClassifier(hidden_layer_sizes=(500,), max_iter=600, alpha = 0.1, batch_size = 256, epsilon = 1e-08,learning_rate = 'adaptive')\n",
    "\n",
    "#70% 53% avec split=0.3 model= MLPClassifier(hidden_layer_sizes=(500,), max_iter=600, alpha = 0.1, batch_size = 256, epsilon = 1e-08,learning_rate = 'adaptive',validation_fraction=0.3)\n",
    "\n",
    "#90% 59% model= MLPClassifier(hidden_layer_sizes=(600,50), max_iter=600, alpha = 0.1, batch_size = 256, epsilon = 1e-08,learning_rate = 'adaptive',validation_fraction=0.2)\n",
    "\n",
    "# 85% 58% model= MLPClassifier(hidden_layer_sizes=(600,50), max_iter=600, alpha = 0.2, batch_size = 256, epsilon = 1e-08,learning_rate = 'adaptive',validation_fraction=0.2)\n",
    "\n",
    "#85% 58.2% model= MLPClassifier(hidden_layer_sizes=(600,20), max_iter=600, alpha = 0.2, batch_size = 256, epsilon = 1e-08,learning_rate = 'adaptive',validation_fraction=0.2)\n",
    "\n",
    "##79% 55% model= MLPClassifier(hidden_layer_sizes=(600,10), max_iter=700, alpha = 0.2, batch_size = 256, epsilon = 1e-08,learning_rate = 'adaptive',validation_fraction=0.2)\n",
    "\n",
    "#86% 60% model= MLPClassifier(hidden_layer_sizes=(600,20,10), max_iter=600, alpha = 0.2, batch_size = 256, epsilon = 1e-08,learning_rate = 'adaptive',validation_fraction=0.2)\n",
    "\n",
    "\n",
    "#86% 61% model= MLPClassifier(hidden_layer_sizes=(600,20,20), max_iter=600, alpha = 0.2, batch_size = 256, epsilon = 1e-08,learning_rate = 'adaptive',validation_fraction=0.2)\n",
    "\n",
    "#86% 60% model= MLPClassifier(hidden_layer_sizes=(600,20,30), max_iter=600, alpha = 0.25, batch_size = 256, epsilon = 1e-08,learning_rate = 'adaptive',validation_fraction=0.2)\n",
    "\n",
    "# 90% 62% model= MLPClassifier(hidden_layer_sizes=(600,20,20), max_iter=600, alpha = 0.12, batch_size = 256, epsilon = 1e-08,learning_rate = 'adaptive',validation_fraction=0.2)\n",
    "\n",
    "# 89% 62% model= MLPClassifier(hidden_layer_sizes=(600,20,20), max_iter=600, alpha = 0.27, batch_size = 256, epsilon = 1e-08,learning_rate = 'adaptive',validation_fraction=0.2)\n",
    "#84% 30% model= MLPClassifier(hidden_layer_sizes=(600,20,20), max_iter=600, alpha = 0.35, batch_size = 256, epsilon = 1e-08,learning_rate = 'adaptive',validation_fraction=0.2)\n",
    "\n",
    "#81ù 60% model= MLPClassifier(hidden_layer_sizes=(500,20,20), max_iter=600, alpha = 0.35, batch_size = 256, epsilon = 1e-08,learning_rate = 'adaptive',validation_fraction=0.2)\n",
    "\n",
    "# 85% 61% model= MLPClassifier(hidden_layer_sizes=(500,20,20), max_iter=600, alpha = 0.25, batch_size = 256, epsilon = 1e-08,learning_rate = 'adaptive',validation_fraction=0.2)\n",
    "# 83% 60% model= MLPClassifier(hidden_layer_sizes=(300,20,20), max_iter=600, alpha = 0.25, batch_size = 256, epsilon = 1e-08,learning_rate = 'adaptive',validation_fraction=0.2)\n",
    "\n",
    "#78% 57% model= MLPClassifier(hidden_layer_sizes=(200,20,20), max_iter=800, alpha = 0.15, batch_size = 256, epsilon = 1e-08,learning_rate = 'adaptive',validation_fraction=0.2)\n",
    "#77% 57% model= MLPClassifier(hidden_layer_sizes=(200,20,20), max_iter=600, alpha = 0.23, batch_size = 256, epsilon = 1e-08,learning_rate = 'adaptive',validation_fraction=0.2)\n",
    "\n",
    "#76% 57% \n",
    "model= MLPClassifier(hidden_layer_sizes=(600,20,20), activation=\"relu\",max_iter=600, alpha = 0.17, batch_size = 256, epsilon = 1e-08,learning_rate = 'adaptive',validation_fraction=0.2)\n",
    "\n"
   ]
  },
  {
   "cell_type": "code",
   "execution_count": 37,
   "id": "95f16dd3",
   "metadata": {},
   "outputs": [
    {
     "data": {
      "text/plain": [
       "(50648, 162)"
      ]
     },
     "execution_count": 37,
     "metadata": {},
     "output_type": "execute_result"
    }
   ],
   "source": [
    "x_train.shape"
   ]
  },
  {
   "cell_type": "code",
   "execution_count": 39,
   "id": "6ec1ff6c",
   "metadata": {},
   "outputs": [
    {
     "name": "stderr",
     "output_type": "stream",
     "text": [
      "/home/mateo/.pyenv/versions/3.8.6/envs/lewagon/lib/python3.8/site-packages/sklearn/neural_network/_multilayer_perceptron.py:934: DataConversionWarning: A column-vector y was passed when a 1d array was expected. Please change the shape of y to (n_samples, ), for example using ravel().\n",
      "  y = column_or_1d(y, warn=True)\n",
      "/home/mateo/.pyenv/versions/3.8.6/envs/lewagon/lib/python3.8/site-packages/sklearn/neural_network/_multilayer_perceptron.py:573: UserWarning: Training interrupted by user.\n",
      "  warnings.warn(\"Training interrupted by user.\")\n"
     ]
    }
   ],
   "source": [
    "pipe=Pipeline([('sd',StandardScaler()),\n",
    "              (\"model\",model)])\n",
    "\n",
    "hist= pipe.fit(x_train, y_train)"
   ]
  },
  {
   "cell_type": "code",
   "execution_count": 115,
   "id": "215c15bd",
   "metadata": {},
   "outputs": [
    {
     "data": {
      "text/plain": [
       "['Mlp_mateo_2.joblib']"
      ]
     },
     "execution_count": 115,
     "metadata": {},
     "output_type": "execute_result"
    }
   ],
   "source": [
    "from joblib import dump\n",
    "dump(pipe, \"Mlp_mateo_2.joblib\")"
   ]
  },
  {
   "cell_type": "code",
   "execution_count": 116,
   "id": "7ce88051",
   "metadata": {},
   "outputs": [
    {
     "data": {
      "text/plain": [
       "0.848305954825462"
      ]
     },
     "execution_count": 116,
     "metadata": {},
     "output_type": "execute_result"
    }
   ],
   "source": [
    "## train accuracy\n",
    "y_pred_train = pipe.predict(x_train)\n",
    "accuracy_train = accuracy_score(y_true=y_train, y_pred=y_pred_train)\n",
    "accuracy_train"
   ]
  },
  {
   "cell_type": "code",
   "execution_count": 117,
   "id": "252304c2",
   "metadata": {},
   "outputs": [
    {
     "data": {
      "text/plain": [
       "0.773563051976256"
      ]
     },
     "execution_count": 117,
     "metadata": {},
     "output_type": "execute_result"
    }
   ],
   "source": [
    "#test accuracy\n",
    "from sklearn.metrics import accuracy_score\n",
    "y_pred = pipe.predict(x_test)\n",
    "accuracy = accuracy_score(y_true=y_test, y_pred=y_pred)\n",
    "accuracy"
   ]
  },
  {
   "cell_type": "code",
   "execution_count": 43,
   "id": "31d43709",
   "metadata": {},
   "outputs": [],
   "source": [
    "pred= pipe.predict_proba(x_test)"
   ]
  },
  {
   "cell_type": "code",
   "execution_count": 52,
   "id": "cb60871a",
   "metadata": {},
   "outputs": [],
   "source": [
    "sumcol=pd.DataFrame(pred)"
   ]
  },
  {
   "cell_type": "code",
   "execution_count": 55,
   "id": "2678b4f1",
   "metadata": {},
   "outputs": [],
   "source": [
    "sumcol=sumcol.sum(axis=1)"
   ]
  },
  {
   "cell_type": "code",
   "execution_count": 61,
   "id": "ce96b9d1",
   "metadata": {},
   "outputs": [
    {
     "data": {
      "text/plain": [
       "6907.0"
      ]
     },
     "execution_count": 61,
     "metadata": {},
     "output_type": "execute_result"
    }
   ],
   "source": [
    "sumcol.sum()"
   ]
  },
  {
   "cell_type": "code",
   "execution_count": 45,
   "id": "572928ce",
   "metadata": {},
   "outputs": [],
   "source": [
    "from fastapi import FastAPI\n",
    "from joblib import load\n",
    "from pydantic import  BaseModel\n",
    "import subprocess\n",
    "from speech_emotion_reco.mateo_preprocess import sound_to_number\n",
    "from speech_emotion_reco.raph_data import get_array\n",
    "from fastapi import FastAPI, File, UploadFile\n",
    "from speech_emotion_reco.combine_models import combine_predict\n",
    "import shutil \n",
    "import io\n",
    "import os"
   ]
  },
  {
   "cell_type": "code",
   "execution_count": 48,
   "id": "97fbf994",
   "metadata": {},
   "outputs": [],
   "source": [
    "def convert_mp3(path_myrecording):\n",
    "    # convert mp3 to wav file\n",
    "    subprocess.call(['ffmpeg', '-i', path_myrecording,\n",
    "             '../samples/converted_to_wav_file.wav'])\n",
    "    \n",
    "    X_1 = sound_to_number(\"../samples/converted_to_wav_file.wav\")\n",
    "    \n",
    "    X_2 = get_array(\"../samples/converted_to_wav_file.wav\")\n",
    "    \n",
    "    os.remove(\"../samples/converted_to_wav_file.wav\")\n",
    "    \n",
    "    return X_1, X_2"
   ]
  },
  {
   "cell_type": "code",
   "execution_count": 49,
   "id": "67f1035a",
   "metadata": {},
   "outputs": [
    {
     "data": {
      "image/png": "[encoded data removed]",
      "text/plain": [
       "<Figure size 432x288 with 1 Axes>"
      ]
     },
     "metadata": {
      "needs_background": "light"
     },
     "output_type": "display_data"
    }
   ],
   "source": [
    "###Test\n",
    "x1, x2 = convert_mp3(\"../recording.mp3\")\n"
   ]
  },
  {
   "cell_type": "code",
   "execution_count": 54,
   "id": "e02b4730",
   "metadata": {},
   "outputs": [
    {
     "data": {
      "text/plain": [
       "array([[7.94444300e-178, 4.69789864e-143, 3.83250932e-130,\n",
       "        1.61375302e-051, 2.78164138e-041, 1.00000000e+000]])"
      ]
     },
     "execution_count": 54,
     "metadata": {},
     "output_type": "execute_result"
    }
   ],
   "source": [
    "pipe.predict_proba(pd.DataFrame(x1).T)"
   ]
  },
  {
   "cell_type": "code",
   "execution_count": 32,
   "id": "a549f039",
   "metadata": {},
   "outputs": [],
   "source": [
    "def extract_features(data):\n",
    "    # ZCR\n",
    "    sample_rate=22050\n",
    "    result = np.array([])\n",
    "    zcr = np.mean(librosa.feature.zero_crossing_rate(y=data).T, axis=0)\n",
    "    result=np.hstack((result, zcr)) # stacking horizontally\n",
    "\n",
    "    # Chroma_stft\n",
    "    stft = np.abs(librosa.stft(data))\n",
    "    chroma_stft = np.mean(librosa.feature.chroma_stft(S=stft, sr=sample_rate).T, axis=0)\n",
    "    result = np.hstack((result, chroma_stft)) # stacking horizontally\n",
    "\n",
    "    # MFCC\n",
    "    mfcc = np.mean(librosa.feature.mfcc(y=data, sr=sample_rate).T, axis=0)\n",
    "    result = np.hstack((result, mfcc)) # stacking horizontally\n",
    "    \n",
    "    # Root Mean Square Value\n",
    "    rms = np.mean(librosa.feature.rms(y=data).T, axis=0)\n",
    "    result = np.hstack((result, rms)) # stacking horizontally\n",
    "\n",
    "    # MelSpectogram\n",
    "    mel = np.mean(librosa.feature.melspectrogram(y=data, sr=sample_rate).T, axis=0)\n",
    "    result = np.hstack((result, mel)) # stacking horizontally\n",
    "    \n",
    "    return result"
   ]
  },
  {
   "cell_type": "code",
   "execution_count": 33,
   "id": "a7b61da6",
   "metadata": {},
   "outputs": [],
   "source": [
    "#function to create data set\n",
    "def get_features(path):\n",
    "    # duration and offset are used to take care of the no audio in start and the ending of each audio files as seen above.\n",
    "    data, sample_rate = librosa.load(path, duration=2.5, offset=0.6)\n",
    "    \n",
    "    # without augmentation\n",
    "    res1 = extract_features(data)\n",
    "    result = np.array(res1)\n",
    "        \n",
    "    return result"
   ]
  },
  {
   "cell_type": "code",
   "execution_count": 80,
   "id": "1a12d35d",
   "metadata": {},
   "outputs": [],
   "source": [
    "test= pd.DataFrame(get_features(\"../speech_emotion_reco/data/Recording11.wav\"))\n",
    "test = scaler.transform(test.transpose())"
   ]
  },
  {
   "cell_type": "code",
   "execution_count": 81,
   "id": "a5dd3a4c",
   "metadata": {},
   "outputs": [
    {
     "data": {
      "text/plain": [
       "array([[0, 0, 1, 0, 0, 0]])"
      ]
     },
     "execution_count": 81,
     "metadata": {},
     "output_type": "execute_result"
    }
   ],
   "source": [
    "(model.predict(test))"
   ]
  },
  {
   "cell_type": "code",
   "execution_count": 82,
   "id": "34c6e467",
   "metadata": {},
   "outputs": [
    {
     "data": {
      "text/plain": [
       "array([[5.51163680e-09, 1.55163149e-06, 9.99999216e-01, 3.53873529e-06,\n",
       "        9.15688196e-09, 5.10935521e-09]])"
      ]
     },
     "execution_count": 82,
     "metadata": {},
     "output_type": "execute_result"
    }
   ],
   "source": [
    "model.predict_proba(test)"
   ]
  },
  {
   "cell_type": "code",
   "execution_count": 83,
   "id": "539c975d",
   "metadata": {},
   "outputs": [
    {
     "data": {
      "text/plain": [
       "array(['x0_angry', 'x0_disgust', 'x0_fear', 'x0_happy', 'x0_neutral',\n",
       "       'x0_sad'], dtype=object)"
      ]
     },
     "execution_count": 83,
     "metadata": {},
     "output_type": "execute_result"
    }
   ],
   "source": [
    "encoder.get_feature_names()"
   ]
  },
  {
   "cell_type": "code",
   "execution_count": 84,
   "id": "9d128469",
   "metadata": {},
   "outputs": [
    {
     "data": {
      "text/plain": [
       "array([['fear']], dtype=object)"
      ]
     },
     "execution_count": 84,
     "metadata": {},
     "output_type": "execute_result"
    }
   ],
   "source": [
    "encoder.inverse_transform((model.predict(test)))"
   ]
  },
  {
   "cell_type": "markdown",
   "id": "4fa57a7b",
   "metadata": {},
   "source": [
    "# combine model"
   ]
  },
  {
   "cell_type": "code",
   "execution_count": 1,
   "id": "fa5be56d",
   "metadata": {},
   "outputs": [],
   "source": [
    "########### Test features combinate with raphael's model"
   ]
  },
  {
   "cell_type": "code",
   "execution_count": 98,
   "id": "b23d6b35",
   "metadata": {},
   "outputs": [],
   "source": [
    "Features= pd.read_csv(\"../speech_emotion_reco/data/features2.csv\")"
   ]
  },
  {
   "cell_type": "code",
   "execution_count": 99,
   "id": "f3eeb5c8",
   "metadata": {},
   "outputs": [],
   "source": [
    "Features=Features[Features.labels != 'unknown']\n",
    "Features=Features[Features.labels != 'surprise']"
   ]
  },
  {
   "cell_type": "code",
   "execution_count": 100,
   "id": "0f6ce447",
   "metadata": {},
   "outputs": [],
   "source": [
    "X = Features.iloc[: ,:-1].values\n",
    "Y = Features['labels'].values"
   ]
  },
  {
   "cell_type": "code",
   "execution_count": 101,
   "id": "bb524610",
   "metadata": {},
   "outputs": [],
   "source": [
    "X=pd.DataFrame(X)\n",
    "Y=pd.DataFrame(Y)"
   ]
  },
  {
   "cell_type": "code",
   "execution_count": 102,
   "id": "09ec1389",
   "metadata": {},
   "outputs": [],
   "source": [
    "X[\"observation\"]=Features[\"observation\"]"
   ]
  },
  {
   "cell_type": "code",
   "execution_count": 103,
   "id": "1e2c3248",
   "metadata": {},
   "outputs": [],
   "source": [
    "Y[\"observation\"]=Features[\"observation\"]"
   ]
  },
  {
   "cell_type": "code",
   "execution_count": 104,
   "id": "4f958834",
   "metadata": {},
   "outputs": [],
   "source": [
    "test_raph= pd.read_csv(\"../speech_emotion_reco/data/df_test.csv\")"
   ]
  },
  {
   "cell_type": "code",
   "execution_count": 105,
   "id": "63a2956b",
   "metadata": {},
   "outputs": [],
   "source": [
    "train_raph= pd.read_csv(\"../speech_emotion_reco/data/df_train.csv\") "
   ]
  },
  {
   "cell_type": "code",
   "execution_count": 106,
   "id": "426b2992",
   "metadata": {},
   "outputs": [
    {
     "data": {
      "text/html": [
       "<div>\n",
       "<style scoped>\n",
       "    .dataframe tbody tr th:only-of-type {\n",
       "        vertical-align: middle;\n",
       "    }\n",
       "\n",
       "    .dataframe tbody tr th {\n",
       "        vertical-align: top;\n",
       "    }\n",
       "\n",
       "    .dataframe thead th {\n",
       "        text-align: right;\n",
       "    }\n",
       "</style>\n",
       "<table border=\"1\" class=\"dataframe\">\n",
       "  <thead>\n",
       "    <tr style=\"text-align: right;\">\n",
       "      <th></th>\n",
       "      <th>observation</th>\n",
       "      <th>path</th>\n",
       "      <th>emotion</th>\n",
       "    </tr>\n",
       "  </thead>\n",
       "  <tbody>\n",
       "    <tr>\n",
       "      <th>0</th>\n",
       "      <td>0_original</td>\n",
       "      <td>../speech_emotion_reco/data/images_augmented/o...</td>\n",
       "      <td>1</td>\n",
       "    </tr>\n",
       "    <tr>\n",
       "      <th>1</th>\n",
       "      <td>0_stretch</td>\n",
       "      <td>../speech_emotion_reco/data/images_augmented/s...</td>\n",
       "      <td>1</td>\n",
       "    </tr>\n",
       "    <tr>\n",
       "      <th>2</th>\n",
       "      <td>10000_original</td>\n",
       "      <td>../speech_emotion_reco/data/images_augmented/o...</td>\n",
       "      <td>2</td>\n",
       "    </tr>\n",
       "    <tr>\n",
       "      <th>3</th>\n",
       "      <td>10000_pitch</td>\n",
       "      <td>../speech_emotion_reco/data/images_augmented/p...</td>\n",
       "      <td>2</td>\n",
       "    </tr>\n",
       "    <tr>\n",
       "      <th>4</th>\n",
       "      <td>10001_noise</td>\n",
       "      <td>../speech_emotion_reco/data/images_augmented/n...</td>\n",
       "      <td>2</td>\n",
       "    </tr>\n",
       "  </tbody>\n",
       "</table>\n",
       "</div>"
      ],
      "text/plain": [
       "      observation                                               path  emotion\n",
       "0      0_original  ../speech_emotion_reco/data/images_augmented/o...        1\n",
       "1       0_stretch  ../speech_emotion_reco/data/images_augmented/s...        1\n",
       "2  10000_original  ../speech_emotion_reco/data/images_augmented/o...        2\n",
       "3     10000_pitch  ../speech_emotion_reco/data/images_augmented/p...        2\n",
       "4     10001_noise  ../speech_emotion_reco/data/images_augmented/n...        2"
      ]
     },
     "execution_count": 106,
     "metadata": {},
     "output_type": "execute_result"
    }
   ],
   "source": [
    "test_raph.head()"
   ]
  },
  {
   "cell_type": "code",
   "execution_count": 107,
   "id": "0e2145e8",
   "metadata": {},
   "outputs": [],
   "source": [
    "X_test= test_raph.merge(X, on=\"observation\", how=\"left\")\n",
    "X_train= train_raph.merge(X, on=\"observation\", how=\"left\")"
   ]
  },
  {
   "cell_type": "code",
   "execution_count": 108,
   "id": "5dc3017a",
   "metadata": {},
   "outputs": [],
   "source": [
    "Y_test= test_raph.merge(Y, on=\"observation\", how=\"left\")\n",
    "Y_train= train_raph.merge(Y, on=\"observation\", how=\"left\")"
   ]
  },
  {
   "cell_type": "code",
   "execution_count": 109,
   "id": "5f0a28a2",
   "metadata": {},
   "outputs": [
    {
     "data": {
      "text/html": [
       "<div>\n",
       "<style scoped>\n",
       "    .dataframe tbody tr th:only-of-type {\n",
       "        vertical-align: middle;\n",
       "    }\n",
       "\n",
       "    .dataframe tbody tr th {\n",
       "        vertical-align: top;\n",
       "    }\n",
       "\n",
       "    .dataframe thead th {\n",
       "        text-align: right;\n",
       "    }\n",
       "</style>\n",
       "<table border=\"1\" class=\"dataframe\">\n",
       "  <thead>\n",
       "    <tr style=\"text-align: right;\">\n",
       "      <th></th>\n",
       "      <th>observation</th>\n",
       "      <th>path</th>\n",
       "      <th>emotion</th>\n",
       "      <th>0</th>\n",
       "    </tr>\n",
       "  </thead>\n",
       "  <tbody>\n",
       "    <tr>\n",
       "      <th>0</th>\n",
       "      <td>0_original</td>\n",
       "      <td>../speech_emotion_reco/data/images_augmented/o...</td>\n",
       "      <td>1</td>\n",
       "      <td>sad</td>\n",
       "    </tr>\n",
       "    <tr>\n",
       "      <th>1</th>\n",
       "      <td>0_stretch</td>\n",
       "      <td>../speech_emotion_reco/data/images_augmented/s...</td>\n",
       "      <td>1</td>\n",
       "      <td>sad</td>\n",
       "    </tr>\n",
       "    <tr>\n",
       "      <th>2</th>\n",
       "      <td>10000_original</td>\n",
       "      <td>../speech_emotion_reco/data/images_augmented/o...</td>\n",
       "      <td>2</td>\n",
       "      <td>fear</td>\n",
       "    </tr>\n",
       "    <tr>\n",
       "      <th>3</th>\n",
       "      <td>10000_pitch</td>\n",
       "      <td>../speech_emotion_reco/data/images_augmented/p...</td>\n",
       "      <td>2</td>\n",
       "      <td>fear</td>\n",
       "    </tr>\n",
       "    <tr>\n",
       "      <th>4</th>\n",
       "      <td>10001_noise</td>\n",
       "      <td>../speech_emotion_reco/data/images_augmented/n...</td>\n",
       "      <td>2</td>\n",
       "      <td>fear</td>\n",
       "    </tr>\n",
       "  </tbody>\n",
       "</table>\n",
       "</div>"
      ],
      "text/plain": [
       "      observation                                               path  emotion  \\\n",
       "0      0_original  ../speech_emotion_reco/data/images_augmented/o...        1   \n",
       "1       0_stretch  ../speech_emotion_reco/data/images_augmented/s...        1   \n",
       "2  10000_original  ../speech_emotion_reco/data/images_augmented/o...        2   \n",
       "3     10000_pitch  ../speech_emotion_reco/data/images_augmented/p...        2   \n",
       "4     10001_noise  ../speech_emotion_reco/data/images_augmented/n...        2   \n",
       "\n",
       "      0  \n",
       "0   sad  \n",
       "1   sad  \n",
       "2  fear  \n",
       "3  fear  \n",
       "4  fear  "
      ]
     },
     "execution_count": 109,
     "metadata": {},
     "output_type": "execute_result"
    }
   ],
   "source": [
    "Y_test.head()"
   ]
  },
  {
   "cell_type": "code",
   "execution_count": 74,
   "id": "d0d8dce8",
   "metadata": {},
   "outputs": [
    {
     "data": {
      "text/plain": [
       "(17162, 166)"
      ]
     },
     "execution_count": 74,
     "metadata": {},
     "output_type": "execute_result"
    }
   ],
   "source": [
    "X_test.shape"
   ]
  },
  {
   "cell_type": "code",
   "execution_count": 75,
   "id": "97de6c12",
   "metadata": {},
   "outputs": [],
   "source": [
    "Y_test= Y_test.drop(columns=[\"observation\",\"path\",\"emotion\"])\n",
    "Y_train= Y_train.drop(columns=[\"observation\",\"path\",\"emotion\"])"
   ]
  },
  {
   "cell_type": "code",
   "execution_count": 76,
   "id": "cb73ad6d",
   "metadata": {},
   "outputs": [],
   "source": [
    "X_test=X_test.drop(columns=[\"observation\",\"path\",\"emotion\", 162])\n",
    "X_train=X_train.drop(columns=[\"observation\",\"path\",\"emotion\", 162])"
   ]
  },
  {
   "cell_type": "code",
   "execution_count": 77,
   "id": "f25f6bda",
   "metadata": {},
   "outputs": [
    {
     "data": {
      "text/html": [
       "<div>\n",
       "<style scoped>\n",
       "    .dataframe tbody tr th:only-of-type {\n",
       "        vertical-align: middle;\n",
       "    }\n",
       "\n",
       "    .dataframe tbody tr th {\n",
       "        vertical-align: top;\n",
       "    }\n",
       "\n",
       "    .dataframe thead th {\n",
       "        text-align: right;\n",
       "    }\n",
       "</style>\n",
       "<table border=\"1\" class=\"dataframe\">\n",
       "  <thead>\n",
       "    <tr style=\"text-align: right;\">\n",
       "      <th></th>\n",
       "      <th>0</th>\n",
       "      <th>1</th>\n",
       "      <th>2</th>\n",
       "      <th>3</th>\n",
       "      <th>4</th>\n",
       "      <th>5</th>\n",
       "      <th>6</th>\n",
       "      <th>7</th>\n",
       "      <th>8</th>\n",
       "      <th>9</th>\n",
       "      <th>...</th>\n",
       "      <th>152</th>\n",
       "      <th>153</th>\n",
       "      <th>154</th>\n",
       "      <th>155</th>\n",
       "      <th>156</th>\n",
       "      <th>157</th>\n",
       "      <th>158</th>\n",
       "      <th>159</th>\n",
       "      <th>160</th>\n",
       "      <th>161</th>\n",
       "    </tr>\n",
       "  </thead>\n",
       "  <tbody>\n",
       "    <tr>\n",
       "      <th>0</th>\n",
       "      <td>0.0221897</td>\n",
       "      <td>0.574264</td>\n",
       "      <td>0.48357</td>\n",
       "      <td>0.460849</td>\n",
       "      <td>0.481321</td>\n",
       "      <td>0.555484</td>\n",
       "      <td>0.593383</td>\n",
       "      <td>0.527021</td>\n",
       "      <td>0.487356</td>\n",
       "      <td>0.539324</td>\n",
       "      <td>...</td>\n",
       "      <td>4.87774e-05</td>\n",
       "      <td>1.73186e-05</td>\n",
       "      <td>5.48789e-06</td>\n",
       "      <td>1.68174e-06</td>\n",
       "      <td>1.30246e-06</td>\n",
       "      <td>1.28431e-06</td>\n",
       "      <td>1.30493e-06</td>\n",
       "      <td>1.35532e-06</td>\n",
       "      <td>1.41604e-06</td>\n",
       "      <td>1.30745e-06</td>\n",
       "    </tr>\n",
       "    <tr>\n",
       "      <th>1</th>\n",
       "      <td>0.026794</td>\n",
       "      <td>0.555865</td>\n",
       "      <td>0.481998</td>\n",
       "      <td>0.469905</td>\n",
       "      <td>0.48515</td>\n",
       "      <td>0.561153</td>\n",
       "      <td>0.599452</td>\n",
       "      <td>0.515703</td>\n",
       "      <td>0.467281</td>\n",
       "      <td>0.533736</td>\n",
       "      <td>...</td>\n",
       "      <td>2.52655e-05</td>\n",
       "      <td>8.61541e-06</td>\n",
       "      <td>3.09115e-06</td>\n",
       "      <td>1.30925e-06</td>\n",
       "      <td>1.10119e-06</td>\n",
       "      <td>1.08646e-06</td>\n",
       "      <td>1.10269e-06</td>\n",
       "      <td>1.14628e-06</td>\n",
       "      <td>1.20398e-06</td>\n",
       "      <td>1.11644e-06</td>\n",
       "    </tr>\n",
       "    <tr>\n",
       "      <th>2</th>\n",
       "      <td>0.0515555</td>\n",
       "      <td>0.714576</td>\n",
       "      <td>0.700411</td>\n",
       "      <td>0.701325</td>\n",
       "      <td>0.701692</td>\n",
       "      <td>0.685604</td>\n",
       "      <td>0.712785</td>\n",
       "      <td>0.744064</td>\n",
       "      <td>0.750902</td>\n",
       "      <td>0.775232</td>\n",
       "      <td>...</td>\n",
       "      <td>6.02777e-09</td>\n",
       "      <td>5.01964e-09</td>\n",
       "      <td>4.31002e-09</td>\n",
       "      <td>3.79778e-09</td>\n",
       "      <td>3.41328e-09</td>\n",
       "      <td>3.12277e-09</td>\n",
       "      <td>2.90639e-09</td>\n",
       "      <td>2.74693e-09</td>\n",
       "      <td>2.63853e-09</td>\n",
       "      <td>2.57304e-09</td>\n",
       "    </tr>\n",
       "    <tr>\n",
       "      <th>3</th>\n",
       "      <td>0.0547294</td>\n",
       "      <td>0.647267</td>\n",
       "      <td>0.696228</td>\n",
       "      <td>0.675197</td>\n",
       "      <td>0.670335</td>\n",
       "      <td>0.64938</td>\n",
       "      <td>0.639625</td>\n",
       "      <td>0.672559</td>\n",
       "      <td>0.736784</td>\n",
       "      <td>0.714888</td>\n",
       "      <td>...</td>\n",
       "      <td>9.19049e-09</td>\n",
       "      <td>7.05451e-09</td>\n",
       "      <td>5.77282e-09</td>\n",
       "      <td>4.88446e-09</td>\n",
       "      <td>4.27811e-09</td>\n",
       "      <td>3.86587e-09</td>\n",
       "      <td>3.54994e-09</td>\n",
       "      <td>3.31682e-09</td>\n",
       "      <td>3.09062e-09</td>\n",
       "      <td>2.96896e-09</td>\n",
       "    </tr>\n",
       "    <tr>\n",
       "      <th>4</th>\n",
       "      <td>0.260031</td>\n",
       "      <td>0.693351</td>\n",
       "      <td>0.641952</td>\n",
       "      <td>0.669057</td>\n",
       "      <td>0.679532</td>\n",
       "      <td>0.728286</td>\n",
       "      <td>0.692397</td>\n",
       "      <td>0.658068</td>\n",
       "      <td>0.648194</td>\n",
       "      <td>0.617139</td>\n",
       "      <td>...</td>\n",
       "      <td>0.0083004</td>\n",
       "      <td>0.00786447</td>\n",
       "      <td>0.00824918</td>\n",
       "      <td>0.00840053</td>\n",
       "      <td>0.00835055</td>\n",
       "      <td>0.00845584</td>\n",
       "      <td>0.00877342</td>\n",
       "      <td>0.00841933</td>\n",
       "      <td>0.00935976</td>\n",
       "      <td>0.00926022</td>\n",
       "    </tr>\n",
       "  </tbody>\n",
       "</table>\n",
       "<p>5 rows × 162 columns</p>\n",
       "</div>"
      ],
      "text/plain": [
       "         0         1         2         3         4         5         6    \\\n",
       "0  0.0221897  0.574264   0.48357  0.460849  0.481321  0.555484  0.593383   \n",
       "1   0.026794  0.555865  0.481998  0.469905   0.48515  0.561153  0.599452   \n",
       "2  0.0515555  0.714576  0.700411  0.701325  0.701692  0.685604  0.712785   \n",
       "3  0.0547294  0.647267  0.696228  0.675197  0.670335   0.64938  0.639625   \n",
       "4   0.260031  0.693351  0.641952  0.669057  0.679532  0.728286  0.692397   \n",
       "\n",
       "        7         8         9    ...          152          153          154  \\\n",
       "0  0.527021  0.487356  0.539324  ...  4.87774e-05  1.73186e-05  5.48789e-06   \n",
       "1  0.515703  0.467281  0.533736  ...  2.52655e-05  8.61541e-06  3.09115e-06   \n",
       "2  0.744064  0.750902  0.775232  ...  6.02777e-09  5.01964e-09  4.31002e-09   \n",
       "3  0.672559  0.736784  0.714888  ...  9.19049e-09  7.05451e-09  5.77282e-09   \n",
       "4  0.658068  0.648194  0.617139  ...    0.0083004   0.00786447   0.00824918   \n",
       "\n",
       "           155          156          157          158          159  \\\n",
       "0  1.68174e-06  1.30246e-06  1.28431e-06  1.30493e-06  1.35532e-06   \n",
       "1  1.30925e-06  1.10119e-06  1.08646e-06  1.10269e-06  1.14628e-06   \n",
       "2  3.79778e-09  3.41328e-09  3.12277e-09  2.90639e-09  2.74693e-09   \n",
       "3  4.88446e-09  4.27811e-09  3.86587e-09  3.54994e-09  3.31682e-09   \n",
       "4   0.00840053   0.00835055   0.00845584   0.00877342   0.00841933   \n",
       "\n",
       "           160          161  \n",
       "0  1.41604e-06  1.30745e-06  \n",
       "1  1.20398e-06  1.11644e-06  \n",
       "2  2.63853e-09  2.57304e-09  \n",
       "3  3.09062e-09  2.96896e-09  \n",
       "4   0.00935976   0.00926022  \n",
       "\n",
       "[5 rows x 162 columns]"
      ]
     },
     "execution_count": 77,
     "metadata": {},
     "output_type": "execute_result"
    }
   ],
   "source": [
    "X_test.head()"
   ]
  },
  {
   "cell_type": "code",
   "execution_count": 106,
   "id": "81da582c",
   "metadata": {},
   "outputs": [],
   "source": [
    "encoder = OneHotEncoder()\n",
    "Y_train = encoder.fit_transform(np.array(Y_train).reshape(-1,1)).toarray()"
   ]
  },
  {
   "cell_type": "code",
   "execution_count": 107,
   "id": "86786757",
   "metadata": {},
   "outputs": [],
   "source": [
    "Y_test= encoder.transform(Y_test)"
   ]
  },
  {
   "cell_type": "code",
   "execution_count": 78,
   "id": "b3aa205f",
   "metadata": {},
   "outputs": [
    {
     "data": {
      "text/plain": [
       "((40045, 162), (40045, 1), (17162, 162), (17162, 1))"
      ]
     },
     "execution_count": 78,
     "metadata": {},
     "output_type": "execute_result"
    }
   ],
   "source": [
    "scaler = StandardScaler()\n",
    "X_train = scaler.fit_transform(X_train)\n",
    "X_test = scaler.transform(X_test)\n",
    "X_train.shape, Y_train.shape, X_test.shape, Y_test.shape"
   ]
  },
  {
   "cell_type": "code",
   "execution_count": 79,
   "id": "e2590728",
   "metadata": {},
   "outputs": [],
   "source": [
    "model= MLPClassifier(hidden_layer_sizes=(600,20,20), max_iter=600, alpha = 0.12, batch_size = 256, epsilon = 1e-08,learning_rate = 'adaptive',validation_fraction=0.4)\n"
   ]
  },
  {
   "cell_type": "code",
   "execution_count": 80,
   "id": "cbb67a47",
   "metadata": {},
   "outputs": [
    {
     "name": "stderr",
     "output_type": "stream",
     "text": [
      "/home/mateo/.pyenv/versions/3.8.6/envs/lewagon/lib/python3.8/site-packages/sklearn/neural_network/_multilayer_perceptron.py:934: DataConversionWarning: A column-vector y was passed when a 1d array was expected. Please change the shape of y to (n_samples, ), for example using ravel().\n",
      "  y = column_or_1d(y, warn=True)\n"
     ]
    }
   ],
   "source": [
    "hist= model.fit(X_train, Y_train)"
   ]
  },
  {
   "cell_type": "code",
   "execution_count": 81,
   "id": "35dbc6fb",
   "metadata": {},
   "outputs": [
    {
     "data": {
      "text/plain": [
       "0.9253589711574479"
      ]
     },
     "execution_count": 81,
     "metadata": {},
     "output_type": "execute_result"
    }
   ],
   "source": [
    "## train accuracy\n",
    "from sklearn.metrics import accuracy_score\n",
    "Y_pred_train = model.predict(X_train)\n",
    "accuracy_train = accuracy_score(y_true=Y_train, y_pred=Y_pred_train)\n",
    "accuracy_train"
   ]
  },
  {
   "cell_type": "code",
   "execution_count": 82,
   "id": "a6fd0992",
   "metadata": {},
   "outputs": [
    {
     "data": {
      "text/plain": [
       "0.7753175620557045"
      ]
     },
     "execution_count": 82,
     "metadata": {},
     "output_type": "execute_result"
    }
   ],
   "source": [
    "#test accuracy\n",
    "from sklearn.metrics import accuracy_score\n",
    "Y_pred = model.predict(X_test)\n",
    "accuracy = accuracy_score(y_true=Y_test, y_pred=Y_pred)\n",
    "accuracy"
   ]
  },
  {
   "cell_type": "code",
   "execution_count": 110,
   "id": "d1a88de6",
   "metadata": {},
   "outputs": [
    {
     "ename": "ValueError",
     "evalue": "could not convert string to float: '0_original'",
     "output_type": "error",
     "traceback": [
      "\u001b[0;31m---------------------------------------------------------------------------\u001b[0m",
      "\u001b[0;31mValueError\u001b[0m                                Traceback (most recent call last)",
      "\u001b[0;32m<ipython-input-110-18b23cc5f5c8>\u001b[0m in \u001b[0;36m<module>\u001b[0;34m\u001b[0m\n\u001b[0;32m----> 1\u001b[0;31m \u001b[0mX_pred_test_raph\u001b[0m\u001b[0;34m=\u001b[0m \u001b[0mmodel\u001b[0m\u001b[0;34m.\u001b[0m\u001b[0mpredict_proba\u001b[0m\u001b[0;34m(\u001b[0m\u001b[0mX_test\u001b[0m\u001b[0;34m)\u001b[0m\u001b[0;34m\u001b[0m\u001b[0;34m\u001b[0m\u001b[0m\n\u001b[0m",
      "\u001b[0;32m~/.pyenv/versions/3.8.6/envs/lewagon/lib/python3.8/site-packages/sklearn/neural_network/_multilayer_perceptron.py\u001b[0m in \u001b[0;36mpredict_proba\u001b[0;34m(self, X)\u001b[0m\n\u001b[1;32m   1070\u001b[0m         \"\"\"\n\u001b[1;32m   1071\u001b[0m         \u001b[0mcheck_is_fitted\u001b[0m\u001b[0;34m(\u001b[0m\u001b[0mself\u001b[0m\u001b[0;34m)\u001b[0m\u001b[0;34m\u001b[0m\u001b[0;34m\u001b[0m\u001b[0m\n\u001b[0;32m-> 1072\u001b[0;31m         \u001b[0my_pred\u001b[0m \u001b[0;34m=\u001b[0m \u001b[0mself\u001b[0m\u001b[0;34m.\u001b[0m\u001b[0m_predict\u001b[0m\u001b[0;34m(\u001b[0m\u001b[0mX\u001b[0m\u001b[0;34m)\u001b[0m\u001b[0;34m\u001b[0m\u001b[0;34m\u001b[0m\u001b[0m\n\u001b[0m\u001b[1;32m   1073\u001b[0m \u001b[0;34m\u001b[0m\u001b[0m\n\u001b[1;32m   1074\u001b[0m         \u001b[0;32mif\u001b[0m \u001b[0mself\u001b[0m\u001b[0;34m.\u001b[0m\u001b[0mn_outputs_\u001b[0m \u001b[0;34m==\u001b[0m \u001b[0;36m1\u001b[0m\u001b[0;34m:\u001b[0m\u001b[0;34m\u001b[0m\u001b[0;34m\u001b[0m\u001b[0m\n",
      "\u001b[0;32m~/.pyenv/versions/3.8.6/envs/lewagon/lib/python3.8/site-packages/sklearn/neural_network/_multilayer_perceptron.py\u001b[0m in \u001b[0;36m_predict\u001b[0;34m(self, X)\u001b[0m\n\u001b[1;32m    665\u001b[0m             \u001b[0mThe\u001b[0m \u001b[0mdecision\u001b[0m \u001b[0mfunction\u001b[0m \u001b[0mof\u001b[0m \u001b[0mthe\u001b[0m \u001b[0msamples\u001b[0m \u001b[0;32mfor\u001b[0m \u001b[0meach\u001b[0m \u001b[0;32mclass\u001b[0m \u001b[0;32min\u001b[0m \u001b[0mthe\u001b[0m \u001b[0mmodel\u001b[0m\u001b[0;34m.\u001b[0m\u001b[0;34m\u001b[0m\u001b[0;34m\u001b[0m\u001b[0m\n\u001b[1;32m    666\u001b[0m         \"\"\"\n\u001b[0;32m--> 667\u001b[0;31m         \u001b[0mX\u001b[0m \u001b[0;34m=\u001b[0m \u001b[0mcheck_array\u001b[0m\u001b[0;34m(\u001b[0m\u001b[0mX\u001b[0m\u001b[0;34m,\u001b[0m \u001b[0maccept_sparse\u001b[0m\u001b[0;34m=\u001b[0m\u001b[0;34m[\u001b[0m\u001b[0;34m'csr'\u001b[0m\u001b[0;34m,\u001b[0m \u001b[0;34m'csc'\u001b[0m\u001b[0;34m,\u001b[0m \u001b[0;34m'coo'\u001b[0m\u001b[0;34m]\u001b[0m\u001b[0;34m)\u001b[0m\u001b[0;34m\u001b[0m\u001b[0;34m\u001b[0m\u001b[0m\n\u001b[0m\u001b[1;32m    668\u001b[0m \u001b[0;34m\u001b[0m\u001b[0m\n\u001b[1;32m    669\u001b[0m         \u001b[0;31m# Make sure self.hidden_layer_sizes is a list\u001b[0m\u001b[0;34m\u001b[0m\u001b[0;34m\u001b[0m\u001b[0;34m\u001b[0m\u001b[0m\n",
      "\u001b[0;32m~/.pyenv/versions/3.8.6/envs/lewagon/lib/python3.8/site-packages/sklearn/utils/validation.py\u001b[0m in \u001b[0;36mcheck_array\u001b[0;34m(array, accept_sparse, accept_large_sparse, dtype, order, copy, force_all_finite, ensure_2d, allow_nd, ensure_min_samples, ensure_min_features, warn_on_dtype, estimator)\u001b[0m\n\u001b[1;32m    513\u001b[0m                     \u001b[0marray\u001b[0m \u001b[0;34m=\u001b[0m \u001b[0marray\u001b[0m\u001b[0;34m.\u001b[0m\u001b[0mastype\u001b[0m\u001b[0;34m(\u001b[0m\u001b[0mdtype\u001b[0m\u001b[0;34m,\u001b[0m \u001b[0mcasting\u001b[0m\u001b[0;34m=\u001b[0m\u001b[0;34m\"unsafe\"\u001b[0m\u001b[0;34m,\u001b[0m \u001b[0mcopy\u001b[0m\u001b[0;34m=\u001b[0m\u001b[0;32mFalse\u001b[0m\u001b[0;34m)\u001b[0m\u001b[0;34m\u001b[0m\u001b[0;34m\u001b[0m\u001b[0m\n\u001b[1;32m    514\u001b[0m                 \u001b[0;32melse\u001b[0m\u001b[0;34m:\u001b[0m\u001b[0;34m\u001b[0m\u001b[0;34m\u001b[0m\u001b[0m\n\u001b[0;32m--> 515\u001b[0;31m                     \u001b[0marray\u001b[0m \u001b[0;34m=\u001b[0m \u001b[0mnp\u001b[0m\u001b[0;34m.\u001b[0m\u001b[0masarray\u001b[0m\u001b[0;34m(\u001b[0m\u001b[0marray\u001b[0m\u001b[0;34m,\u001b[0m \u001b[0morder\u001b[0m\u001b[0;34m=\u001b[0m\u001b[0morder\u001b[0m\u001b[0;34m,\u001b[0m \u001b[0mdtype\u001b[0m\u001b[0;34m=\u001b[0m\u001b[0mdtype\u001b[0m\u001b[0;34m)\u001b[0m\u001b[0;34m\u001b[0m\u001b[0;34m\u001b[0m\u001b[0m\n\u001b[0m\u001b[1;32m    516\u001b[0m             \u001b[0;32mexcept\u001b[0m \u001b[0mComplexWarning\u001b[0m\u001b[0;34m:\u001b[0m\u001b[0;34m\u001b[0m\u001b[0;34m\u001b[0m\u001b[0m\n\u001b[1;32m    517\u001b[0m                 raise ValueError(\"Complex data not supported\\n\"\n",
      "\u001b[0;32m~/.pyenv/versions/3.8.6/envs/lewagon/lib/python3.8/site-packages/numpy/core/_asarray.py\u001b[0m in \u001b[0;36masarray\u001b[0;34m(a, dtype, order)\u001b[0m\n\u001b[1;32m     83\u001b[0m \u001b[0;34m\u001b[0m\u001b[0m\n\u001b[1;32m     84\u001b[0m     \"\"\"\n\u001b[0;32m---> 85\u001b[0;31m     \u001b[0;32mreturn\u001b[0m \u001b[0marray\u001b[0m\u001b[0;34m(\u001b[0m\u001b[0ma\u001b[0m\u001b[0;34m,\u001b[0m \u001b[0mdtype\u001b[0m\u001b[0;34m,\u001b[0m \u001b[0mcopy\u001b[0m\u001b[0;34m=\u001b[0m\u001b[0;32mFalse\u001b[0m\u001b[0;34m,\u001b[0m \u001b[0morder\u001b[0m\u001b[0;34m=\u001b[0m\u001b[0morder\u001b[0m\u001b[0;34m)\u001b[0m\u001b[0;34m\u001b[0m\u001b[0;34m\u001b[0m\u001b[0m\n\u001b[0m\u001b[1;32m     86\u001b[0m \u001b[0;34m\u001b[0m\u001b[0m\n\u001b[1;32m     87\u001b[0m \u001b[0;34m\u001b[0m\u001b[0m\n",
      "\u001b[0;31mValueError\u001b[0m: could not convert string to float: '0_original'"
     ]
    }
   ],
   "source": [
    "X_pred_test_raph= model.predict_proba(X_test)"
   ]
  },
  {
   "cell_type": "code",
   "execution_count": 84,
   "id": "e0af0a86",
   "metadata": {},
   "outputs": [],
   "source": [
    "X_pred_test_raph = pd.DataFrame(X_pred_test_raph)"
   ]
  },
  {
   "cell_type": "code",
   "execution_count": 111,
   "id": "fdcaa23c",
   "metadata": {},
   "outputs": [],
   "source": [
    "X_pred_test_raph[\"observation\"]=X_test[\"observation\"]"
   ]
  },
  {
   "cell_type": "code",
   "execution_count": 112,
   "id": "578748ce",
   "metadata": {},
   "outputs": [
    {
     "data": {
      "text/plain": [
       "(17162, 166)"
      ]
     },
     "execution_count": 112,
     "metadata": {},
     "output_type": "execute_result"
    }
   ],
   "source": [
    "X_test.shape"
   ]
  },
  {
   "cell_type": "code",
   "execution_count": 114,
   "id": "b3461c61",
   "metadata": {},
   "outputs": [],
   "source": [
    "X_pred_test_raph.to_csv(\"test_proba_raph.csv\", index=False)"
   ]
  },
  {
   "cell_type": "code",
   "execution_count": 84,
   "id": "f8d1f961",
   "metadata": {},
   "outputs": [
    {
     "data": {
      "text/plain": [
       "0         sad\n",
       "1         sad\n",
       "2        fear\n",
       "3     disgust\n",
       "4       angry\n",
       "5        fear\n",
       "6       happy\n",
       "7     disgust\n",
       "8       angry\n",
       "9         sad\n",
       "10        sad\n",
       "11       fear\n",
       "12       fear\n",
       "13      angry\n",
       "14       fear\n",
       "15        sad\n",
       "16      happy\n",
       "17      happy\n",
       "18      angry\n",
       "19      angry\n",
       "Name: 0, dtype: object"
      ]
     },
     "execution_count": 84,
     "metadata": {},
     "output_type": "execute_result"
    }
   ],
   "source": [
    "pd.DataFrame(encoder.inverse_transform((model.predict(X_test))))[0].head(20)"
   ]
  },
  {
   "cell_type": "code",
   "execution_count": 113,
   "id": "03eac3b0",
   "metadata": {},
   "outputs": [
    {
     "data": {
      "text/html": [
       "<div>\n",
       "<style scoped>\n",
       "    .dataframe tbody tr th:only-of-type {\n",
       "        vertical-align: middle;\n",
       "    }\n",
       "\n",
       "    .dataframe tbody tr th {\n",
       "        vertical-align: top;\n",
       "    }\n",
       "\n",
       "    .dataframe thead th {\n",
       "        text-align: right;\n",
       "    }\n",
       "</style>\n",
       "<table border=\"1\" class=\"dataframe\">\n",
       "  <thead>\n",
       "    <tr style=\"text-align: right;\">\n",
       "      <th></th>\n",
       "      <th>0</th>\n",
       "      <th>1</th>\n",
       "      <th>2</th>\n",
       "      <th>3</th>\n",
       "      <th>4</th>\n",
       "      <th>5</th>\n",
       "      <th>observation</th>\n",
       "    </tr>\n",
       "  </thead>\n",
       "  <tbody>\n",
       "    <tr>\n",
       "      <th>0</th>\n",
       "      <td>1.616208e-11</td>\n",
       "      <td>2.134464e-12</td>\n",
       "      <td>1.460663e-13</td>\n",
       "      <td>4.409918e-13</td>\n",
       "      <td>5.653151e-08</td>\n",
       "      <td>9.999999e-01</td>\n",
       "      <td>0_original</td>\n",
       "    </tr>\n",
       "    <tr>\n",
       "      <th>1</th>\n",
       "      <td>1.672562e-11</td>\n",
       "      <td>3.165578e-09</td>\n",
       "      <td>2.198760e-13</td>\n",
       "      <td>2.584983e-14</td>\n",
       "      <td>3.584436e-03</td>\n",
       "      <td>9.964156e-01</td>\n",
       "      <td>0_stretch</td>\n",
       "    </tr>\n",
       "    <tr>\n",
       "      <th>2</th>\n",
       "      <td>1.259468e-03</td>\n",
       "      <td>1.453759e-01</td>\n",
       "      <td>7.865263e-01</td>\n",
       "      <td>4.141146e-03</td>\n",
       "      <td>5.245385e-02</td>\n",
       "      <td>1.024333e-02</td>\n",
       "      <td>10000_original</td>\n",
       "    </tr>\n",
       "    <tr>\n",
       "      <th>3</th>\n",
       "      <td>1.595557e-05</td>\n",
       "      <td>8.552465e-01</td>\n",
       "      <td>1.037437e-01</td>\n",
       "      <td>3.553745e-04</td>\n",
       "      <td>8.847054e-03</td>\n",
       "      <td>3.179137e-02</td>\n",
       "      <td>10000_pitch</td>\n",
       "    </tr>\n",
       "    <tr>\n",
       "      <th>4</th>\n",
       "      <td>5.397204e-02</td>\n",
       "      <td>7.015372e-06</td>\n",
       "      <td>1.515441e-03</td>\n",
       "      <td>9.445052e-01</td>\n",
       "      <td>7.415917e-11</td>\n",
       "      <td>3.269958e-07</td>\n",
       "      <td>10001_noise</td>\n",
       "    </tr>\n",
       "  </tbody>\n",
       "</table>\n",
       "</div>"
      ],
      "text/plain": [
       "              0             1             2             3             4  \\\n",
       "0  1.616208e-11  2.134464e-12  1.460663e-13  4.409918e-13  5.653151e-08   \n",
       "1  1.672562e-11  3.165578e-09  2.198760e-13  2.584983e-14  3.584436e-03   \n",
       "2  1.259468e-03  1.453759e-01  7.865263e-01  4.141146e-03  5.245385e-02   \n",
       "3  1.595557e-05  8.552465e-01  1.037437e-01  3.553745e-04  8.847054e-03   \n",
       "4  5.397204e-02  7.015372e-06  1.515441e-03  9.445052e-01  7.415917e-11   \n",
       "\n",
       "              5     observation  \n",
       "0  9.999999e-01      0_original  \n",
       "1  9.964156e-01       0_stretch  \n",
       "2  1.024333e-02  10000_original  \n",
       "3  3.179137e-02     10000_pitch  \n",
       "4  3.269958e-07     10001_noise  "
      ]
     },
     "execution_count": 113,
     "metadata": {},
     "output_type": "execute_result"
    }
   ],
   "source": [
    "X_pred_test_raph.head()"
   ]
  },
  {
   "cell_type": "code",
   "execution_count": 89,
   "id": "b8ab138d",
   "metadata": {},
   "outputs": [
    {
     "data": {
      "text/plain": [
       "array(['x0_angry', 'x0_disgust', 'x0_fear', 'x0_happy', 'x0_neutral',\n",
       "       'x0_sad'], dtype=object)"
      ]
     },
     "execution_count": 89,
     "metadata": {},
     "output_type": "execute_result"
    }
   ],
   "source": [
    "encoder.get_feature_names()"
   ]
  },
  {
   "cell_type": "code",
   "execution_count": null,
   "id": "4a08a695",
   "metadata": {},
   "outputs": [],
   "source": []
  }
 ],
 "metadata": {
  "kernelspec": {
   "display_name": "Python 3",
   "language": "python",
   "name": "python3"
  },
  "language_info": {
   "codemirror_mode": {
    "name": "ipython",
    "version": 3
   },
   "file_extension": ".py",
   "mimetype": "text/x-python",
   "name": "python",
   "nbconvert_exporter": "python",
   "pygments_lexer": "ipython3",
   "version": "3.8.6"
  },
  "toc": {
   "base_numbering": 1,
   "nav_menu": {},
   "number_sections": true,
   "sideBar": true,
   "skip_h1_title": false,
   "title_cell": "Table of Contents",
   "title_sidebar": "Contents",
   "toc_cell": false,
   "toc_position": {},
   "toc_section_display": true,
   "toc_window_display": false
  }
 },
 "nbformat": 4,
 "nbformat_minor": 5
}
