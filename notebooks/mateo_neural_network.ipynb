{
 "cells": [
  {
   "cell_type": "code",
   "execution_count": 21,
   "id": "9a7177a9",
   "metadata": {},
   "outputs": [],
   "source": [
    "import numpy as np\n",
    "import pandas as pd\n",
    "import numpy as np\n",
    "import os\n",
    "import sys\n",
    "import librosa.display\n",
    "import matplotlib.pyplot as plt\n",
    "from IPython.display import Audio\n",
    "import wave\n",
    "from scipy.io.wavfile import write\n",
    "from sklearn.preprocessing import StandardScaler, OneHotEncoder\n",
    "from sklearn.metrics import confusion_matrix, classification_report\n",
    "from sklearn.model_selection import train_test_split\n",
    "#import tensorflow as tf\n",
    "#from tf.keras.models import Sequential\n",
    "#from keras.layers import Dense, Conv1D, MaxPooling1D, Flatten, Dropout, BatchNormalization\n",
    "#from keras.utils import np_utils, to_categorical\n",
    "#from keras.callbacks import ModelCheckpoint\n",
    "from tensorflow.keras.layers import Dropout"
   ]
  },
  {
   "cell_type": "code",
   "execution_count": 2,
   "id": "f5a8e0c0",
   "metadata": {},
   "outputs": [],
   "source": [
    "from sklearn.neural_network import MLPClassifier"
   ]
  },
  {
   "cell_type": "code",
   "execution_count": 50,
   "id": "34d4ae0b",
   "metadata": {},
   "outputs": [],
   "source": [
    "Features= pd.read_csv(\"../speech_emotion_reco/data/features.csv\")"
   ]
  },
  {
   "cell_type": "code",
   "execution_count": 51,
   "id": "0ba1afff",
   "metadata": {},
   "outputs": [
    {
     "data": {
      "text/html": [
       "<div>\n",
       "<style scoped>\n",
       "    .dataframe tbody tr th:only-of-type {\n",
       "        vertical-align: middle;\n",
       "    }\n",
       "\n",
       "    .dataframe tbody tr th {\n",
       "        vertical-align: top;\n",
       "    }\n",
       "\n",
       "    .dataframe thead th {\n",
       "        text-align: right;\n",
       "    }\n",
       "</style>\n",
       "<table border=\"1\" class=\"dataframe\">\n",
       "  <thead>\n",
       "    <tr style=\"text-align: right;\">\n",
       "      <th></th>\n",
       "      <th>0</th>\n",
       "      <th>1</th>\n",
       "      <th>2</th>\n",
       "      <th>3</th>\n",
       "      <th>4</th>\n",
       "      <th>5</th>\n",
       "      <th>6</th>\n",
       "      <th>7</th>\n",
       "      <th>8</th>\n",
       "      <th>9</th>\n",
       "      <th>...</th>\n",
       "      <th>153</th>\n",
       "      <th>154</th>\n",
       "      <th>155</th>\n",
       "      <th>156</th>\n",
       "      <th>157</th>\n",
       "      <th>158</th>\n",
       "      <th>159</th>\n",
       "      <th>160</th>\n",
       "      <th>161</th>\n",
       "      <th>labels</th>\n",
       "    </tr>\n",
       "  </thead>\n",
       "  <tbody>\n",
       "    <tr>\n",
       "      <th>0</th>\n",
       "      <td>0.022190</td>\n",
       "      <td>0.574264</td>\n",
       "      <td>0.483570</td>\n",
       "      <td>0.460849</td>\n",
       "      <td>0.481321</td>\n",
       "      <td>0.555484</td>\n",
       "      <td>0.593383</td>\n",
       "      <td>0.527021</td>\n",
       "      <td>0.487356</td>\n",
       "      <td>0.539324</td>\n",
       "      <td>...</td>\n",
       "      <td>0.000017</td>\n",
       "      <td>5.487894e-06</td>\n",
       "      <td>1.681743e-06</td>\n",
       "      <td>1.302462e-06</td>\n",
       "      <td>1.284306e-06</td>\n",
       "      <td>1.304934e-06</td>\n",
       "      <td>1.355323e-06</td>\n",
       "      <td>1.416036e-06</td>\n",
       "      <td>1.307451e-06</td>\n",
       "      <td>sad</td>\n",
       "    </tr>\n",
       "    <tr>\n",
       "      <th>1</th>\n",
       "      <td>0.063119</td>\n",
       "      <td>0.676197</td>\n",
       "      <td>0.628908</td>\n",
       "      <td>0.634546</td>\n",
       "      <td>0.656816</td>\n",
       "      <td>0.704702</td>\n",
       "      <td>0.666063</td>\n",
       "      <td>0.597292</td>\n",
       "      <td>0.570871</td>\n",
       "      <td>0.612779</td>\n",
       "      <td>...</td>\n",
       "      <td>0.021895</td>\n",
       "      <td>2.096577e-02</td>\n",
       "      <td>2.190924e-02</td>\n",
       "      <td>2.180943e-02</td>\n",
       "      <td>2.149669e-02</td>\n",
       "      <td>2.173487e-02</td>\n",
       "      <td>2.182789e-02</td>\n",
       "      <td>2.222465e-02</td>\n",
       "      <td>2.047032e-02</td>\n",
       "      <td>sad</td>\n",
       "    </tr>\n",
       "    <tr>\n",
       "      <th>2</th>\n",
       "      <td>0.025224</td>\n",
       "      <td>0.492119</td>\n",
       "      <td>0.549708</td>\n",
       "      <td>0.484783</td>\n",
       "      <td>0.479518</td>\n",
       "      <td>0.517123</td>\n",
       "      <td>0.570607</td>\n",
       "      <td>0.615393</td>\n",
       "      <td>0.522012</td>\n",
       "      <td>0.452447</td>\n",
       "      <td>...</td>\n",
       "      <td>0.000026</td>\n",
       "      <td>7.272163e-06</td>\n",
       "      <td>3.031210e-06</td>\n",
       "      <td>1.611539e-06</td>\n",
       "      <td>1.207497e-06</td>\n",
       "      <td>1.187471e-06</td>\n",
       "      <td>1.176641e-06</td>\n",
       "      <td>1.092101e-06</td>\n",
       "      <td>9.572191e-07</td>\n",
       "      <td>sad</td>\n",
       "    </tr>\n",
       "    <tr>\n",
       "      <th>3</th>\n",
       "      <td>0.018410</td>\n",
       "      <td>0.635455</td>\n",
       "      <td>0.514304</td>\n",
       "      <td>0.476947</td>\n",
       "      <td>0.516035</td>\n",
       "      <td>0.538225</td>\n",
       "      <td>0.572309</td>\n",
       "      <td>0.577087</td>\n",
       "      <td>0.545820</td>\n",
       "      <td>0.521525</td>\n",
       "      <td>...</td>\n",
       "      <td>0.000002</td>\n",
       "      <td>4.997832e-07</td>\n",
       "      <td>2.244980e-07</td>\n",
       "      <td>2.392561e-07</td>\n",
       "      <td>2.810812e-07</td>\n",
       "      <td>3.590882e-07</td>\n",
       "      <td>5.512045e-07</td>\n",
       "      <td>8.656837e-07</td>\n",
       "      <td>1.010199e-06</td>\n",
       "      <td>sad</td>\n",
       "    </tr>\n",
       "    <tr>\n",
       "      <th>4</th>\n",
       "      <td>0.018681</td>\n",
       "      <td>0.652667</td>\n",
       "      <td>0.541908</td>\n",
       "      <td>0.507164</td>\n",
       "      <td>0.547772</td>\n",
       "      <td>0.562931</td>\n",
       "      <td>0.586111</td>\n",
       "      <td>0.578713</td>\n",
       "      <td>0.550591</td>\n",
       "      <td>0.530536</td>\n",
       "      <td>...</td>\n",
       "      <td>0.000114</td>\n",
       "      <td>1.217496e-04</td>\n",
       "      <td>1.168074e-04</td>\n",
       "      <td>1.163628e-04</td>\n",
       "      <td>1.118637e-04</td>\n",
       "      <td>1.123569e-04</td>\n",
       "      <td>1.165087e-04</td>\n",
       "      <td>1.152994e-04</td>\n",
       "      <td>1.155533e-04</td>\n",
       "      <td>sad</td>\n",
       "    </tr>\n",
       "  </tbody>\n",
       "</table>\n",
       "<p>5 rows × 163 columns</p>\n",
       "</div>"
      ],
      "text/plain": [
       "          0         1         2         3         4         5         6  \\\n",
       "0  0.022190  0.574264  0.483570  0.460849  0.481321  0.555484  0.593383   \n",
       "1  0.063119  0.676197  0.628908  0.634546  0.656816  0.704702  0.666063   \n",
       "2  0.025224  0.492119  0.549708  0.484783  0.479518  0.517123  0.570607   \n",
       "3  0.018410  0.635455  0.514304  0.476947  0.516035  0.538225  0.572309   \n",
       "4  0.018681  0.652667  0.541908  0.507164  0.547772  0.562931  0.586111   \n",
       "\n",
       "          7         8         9  ...       153           154           155  \\\n",
       "0  0.527021  0.487356  0.539324  ...  0.000017  5.487894e-06  1.681743e-06   \n",
       "1  0.597292  0.570871  0.612779  ...  0.021895  2.096577e-02  2.190924e-02   \n",
       "2  0.615393  0.522012  0.452447  ...  0.000026  7.272163e-06  3.031210e-06   \n",
       "3  0.577087  0.545820  0.521525  ...  0.000002  4.997832e-07  2.244980e-07   \n",
       "4  0.578713  0.550591  0.530536  ...  0.000114  1.217496e-04  1.168074e-04   \n",
       "\n",
       "            156           157           158           159           160  \\\n",
       "0  1.302462e-06  1.284306e-06  1.304934e-06  1.355323e-06  1.416036e-06   \n",
       "1  2.180943e-02  2.149669e-02  2.173487e-02  2.182789e-02  2.222465e-02   \n",
       "2  1.611539e-06  1.207497e-06  1.187471e-06  1.176641e-06  1.092101e-06   \n",
       "3  2.392561e-07  2.810812e-07  3.590882e-07  5.512045e-07  8.656837e-07   \n",
       "4  1.163628e-04  1.118637e-04  1.123569e-04  1.165087e-04  1.152994e-04   \n",
       "\n",
       "            161  labels  \n",
       "0  1.307451e-06     sad  \n",
       "1  2.047032e-02     sad  \n",
       "2  9.572191e-07     sad  \n",
       "3  1.010199e-06     sad  \n",
       "4  1.155533e-04     sad  \n",
       "\n",
       "[5 rows x 163 columns]"
      ]
     },
     "execution_count": 51,
     "metadata": {},
     "output_type": "execute_result"
    }
   ],
   "source": [
    "Features.head()"
   ]
  },
  {
   "cell_type": "code",
   "execution_count": 55,
   "id": "7e1f6845",
   "metadata": {},
   "outputs": [],
   "source": [
    "Features=Features[Features.labels != 'unknown']\n",
    "Features=Features[Features.labels != 'surprise']"
   ]
  },
  {
   "cell_type": "code",
   "execution_count": 57,
   "id": "d07d655a",
   "metadata": {},
   "outputs": [],
   "source": [
    "X = Features.iloc[: ,:-1].values\n",
    "Y = Features['labels'].values"
   ]
  },
  {
   "cell_type": "code",
   "execution_count": 58,
   "id": "1c601fd8",
   "metadata": {},
   "outputs": [
    {
     "data": {
      "text/plain": [
       "happy      5772\n",
       "disgust    5769\n",
       "fear       5769\n",
       "sad        5769\n",
       "angry      5769\n",
       "neutral    5685\n",
       "Name: labels, dtype: int64"
      ]
     },
     "execution_count": 58,
     "metadata": {},
     "output_type": "execute_result"
    }
   ],
   "source": [
    "Features['labels'].value_counts()"
   ]
  },
  {
   "cell_type": "code",
   "execution_count": 59,
   "id": "15ab83a1",
   "metadata": {},
   "outputs": [],
   "source": [
    "# As this is a multiclass classification problem onehotencoding our Y.\n",
    "encoder = OneHotEncoder()\n",
    "Y = encoder.fit_transform(np.array(Y).reshape(-1,1)).toarray()"
   ]
  },
  {
   "cell_type": "code",
   "execution_count": 60,
   "id": "d5b9d06c",
   "metadata": {},
   "outputs": [
    {
     "data": {
      "text/plain": [
       "((25899, 162), (25899, 6), (8634, 162), (8634, 6))"
      ]
     },
     "execution_count": 60,
     "metadata": {},
     "output_type": "execute_result"
    }
   ],
   "source": [
    "# splitting data\n",
    "x_train, x_test, y_train, y_test = train_test_split(pd.DataFrame(X), pd.DataFrame(Y), random_state=0, shuffle=True)\n",
    "x_train.shape, y_train.shape, x_test.shape, y_test.shape"
   ]
  },
  {
   "cell_type": "code",
   "execution_count": 10,
   "id": "a3f5eeb2",
   "metadata": {},
   "outputs": [
    {
     "data": {
      "text/plain": [
       "PCA(copy=True, iterated_power='auto', n_components=90, random_state=None,\n",
       "    svd_solver='auto', tol=0.0, whiten=False)"
      ]
     },
     "execution_count": 10,
     "metadata": {},
     "output_type": "execute_result"
    }
   ],
   "source": [
    "## PCA\n",
    "from sklearn.decomposition import PCA\n",
    "pca = PCA(n_components=90)\n",
    "pca.fit(x_train)"
   ]
  },
  {
   "cell_type": "code",
   "execution_count": 11,
   "id": "5de14d34",
   "metadata": {},
   "outputs": [
    {
     "name": "stdout",
     "output_type": "stream",
     "text": [
      "0.9660104353282594\n"
     ]
    }
   ],
   "source": [
    "print(sum(pca.explained_variance_ratio_))"
   ]
  },
  {
   "cell_type": "code",
   "execution_count": 12,
   "id": "a48017cc",
   "metadata": {},
   "outputs": [],
   "source": [
    "x_train_pca= pca.transform(x_train)"
   ]
  },
  {
   "cell_type": "code",
   "execution_count": 13,
   "id": "25c8ddb8",
   "metadata": {},
   "outputs": [],
   "source": [
    "x_test_pca= pca.transform(x_test)\n"
   ]
  },
  {
   "cell_type": "code",
   "execution_count": 61,
   "id": "76b6cdf9",
   "metadata": {},
   "outputs": [
    {
     "data": {
      "text/plain": [
       "((25899, 162), (25899, 6), (8634, 162), (8634, 6))"
      ]
     },
     "execution_count": 61,
     "metadata": {},
     "output_type": "execute_result"
    }
   ],
   "source": [
    "# scaling our data with sklearn's Standard scaler\n",
    "scaler = StandardScaler()\n",
    "x_train = scaler.fit_transform(x_train)\n",
    "x_test = scaler.transform(x_test)\n",
    "x_train.shape, y_train.shape, x_test.shape, y_test.shape"
   ]
  },
  {
   "cell_type": "code",
   "execution_count": 62,
   "id": "780119f5",
   "metadata": {},
   "outputs": [],
   "source": [
    "#MLP clasiifier sans pca\n",
    "#52 % moins over fittint model= MLPClassifier(hidden_layer_sizes=(200,), max_iter=300)\n",
    "# 55% model = MLPClassifier(alpha = 0.01, batch_size = 256, epsilon = 1e-08, hidden_layer_sizes = (500,), learning_rate = 'adaptive', max_iter = 600)\n",
    "#model = MLPClassifier(alpha = 0.01, batch_size = 256, epsilon = 1e-08, hidden_layer_sizes = (400,), learning_rate = 'adaptive', max_iter = 500)\n",
    "# 54% model = MLPClassifier(alpha = 0.01, batch_size = 256, epsilon = 1e-08, hidden_layer_sizes = (500,), learning_rate = 'adaptive', max_iter = 900)\n",
    "#53% model = MLPClassifier(alpha = 0.09, batch_size = 256, epsilon = 1e-08, hidden_layer_sizes = (500,), learning_rate = 'adaptive', max_iter = 600)\n",
    "#56% model = MLPClassifier(alpha = 0.03, batch_size = 256, epsilon = 1e-08, hidden_layer_sizes = (700,), learning_rate = 'adaptive', max_iter = 800,  validation_fraction=0.2)\n",
    "#54model = MLPClassifier(alpha = 0.01, batch_size = 256, epsilon = 1e-08, hidden_layer_sizes = (700,), learning_rate = 'adaptive', max_iter = 800,  validation_fraction=0.2)\n",
    "# 52% et 70% model= MLPClassifier(hidden_layer_sizes=(400,), max_iter=600, alpha = 0.1, batch_size = 256, epsilon = 1e-08,learning_rate = 'adaptive',validation_fraction=0.2)\n",
    "#53% 69% avec standardisation model= MLPClassifier(hidden_layer_sizes=(500,), max_iter=600, alpha = 0.1, batch_size = 256, epsilon = 1e-08,learning_rate = 'adaptive', validation_fraction=0.2)\n",
    "#44% 54% model= MLPClassifier(hidden_layer_sizes=(500,), max_iter=600, alpha = 0.2, batch_size = 256, epsilon = 1e-08,learning_rate = 'adaptive',validation_fraction=0.2)\n",
    "\n",
    "#70% 52 % \n",
    "model= MLPClassifier(hidden_layer_sizes=(500,), max_iter=600, alpha = 0.1, batch_size = 256, epsilon = 1e-08,learning_rate = 'adaptive')\n"
   ]
  },
  {
   "cell_type": "code",
   "execution_count": 63,
   "id": "6ec1ff6c",
   "metadata": {},
   "outputs": [],
   "source": [
    "hist= model.fit(x_train, y_train)"
   ]
  },
  {
   "cell_type": "code",
   "execution_count": 64,
   "id": "7ce88051",
   "metadata": {},
   "outputs": [
    {
     "data": {
      "text/plain": [
       "0.6896405266612611"
      ]
     },
     "execution_count": 64,
     "metadata": {},
     "output_type": "execute_result"
    }
   ],
   "source": [
    "## train accuracy\n",
    "y_pred_train = model.predict(x_train)\n",
    "accuracy_train = accuracy_score(y_true=y_train, y_pred=y_pred_train)\n",
    "accuracy_train"
   ]
  },
  {
   "cell_type": "code",
   "execution_count": 65,
   "id": "252304c2",
   "metadata": {},
   "outputs": [
    {
     "data": {
      "text/plain": [
       "0.5186472087097521"
      ]
     },
     "execution_count": 65,
     "metadata": {},
     "output_type": "execute_result"
    }
   ],
   "source": [
    "#test accuracy\n",
    "from sklearn.metrics import accuracy_score\n",
    "y_pred = model.predict(x_test)\n",
    "accuracy = accuracy_score(y_true=y_test, y_pred=y_pred)\n",
    "accuracy"
   ]
  },
  {
   "cell_type": "code",
   "execution_count": 23,
   "id": "ed67da7c",
   "metadata": {},
   "outputs": [],
   "source": [
    "## classifier PCA\n",
    "# 40% 50% model= MLPClassifier(hidden_layer_sizes=(500,), max_iter=600, alpha = 0.01, batch_size = 256, epsilon = 1e-08,learning_rate = 'adaptive',validation_fraction=0.2)\n",
    "#42% 52% model= MLPClassifier(hidden_layer_sizes=(800,), max_iter=1000, alpha = 0.01, batch_size = 256, epsilon = 1e-08,learning_rate = 'adaptive',validation_fraction=0.2)\n",
    "#39% 47% model= MLPClassifier(hidden_layer_sizes=(2000,), max_iter=3000, alpha = 0.01, batch_size = 256, epsilon = 1e-08,learning_rate = 'adaptive',validation_fraction=0.2)\n",
    "#42% 52% model= MLPClassifier(hidden_layer_sizes=(1000,), max_iter=1200, alpha = 0.01, batch_size = 256, epsilon = 1e-08,learning_rate = 'adaptive',validation_fraction=0.2)\n",
    "#75% 51% model= MLPClassifier(hidden_layer_sizes=(300,), max_iter=500, alpha = 0.01, batch_size = 256, epsilon = 1e-08,learning_rate = 'adaptive',validation_fraction=0.2)\n",
    "#74% 52% model= MLPClassifier(hidden_layer_sizes=(400,), max_iter=500, alpha = 0.05, batch_size = 256, epsilon = 1e-08,learning_rate = 'adaptive',validation_fraction=0.2)\n",
    "model= MLPClassifier(alpha = 0.04, batch_size = 256, epsilon = 1e-08,learning_rate = 'adaptive',validation_fraction=0.2)\n",
    "\n"
   ]
  },
  {
   "cell_type": "code",
   "execution_count": 15,
   "id": "56cf34d4",
   "metadata": {},
   "outputs": [],
   "source": [
    "### grid search\n",
    "from sklearn.model_selection import GridSearchCV\n",
    "param= {\"hidden_layer_sizes\":[500,700,800],\"max_iter\":[500,600,800], \"alpha\":[0.01,0.3,0.06]}\n",
    "\n",
    "gr=GridSearchCV(model,param,return_train_score=True, scoring=\"accuracy\", n_jobs=-1)"
   ]
  },
  {
   "cell_type": "code",
   "execution_count": 16,
   "id": "730375f4",
   "metadata": {},
   "outputs": [],
   "source": [
    "hist_grid=gr.fit(x_train_pca, y_train)"
   ]
  },
  {
   "cell_type": "code",
   "execution_count": 19,
   "id": "383f1e55",
   "metadata": {},
   "outputs": [
    {
     "data": {
      "text/plain": [
       "{'mean_fit_time': array([1679.53095846, 1606.5600884 , 1913.75112658, 2219.1079155 ,\n",
       "        2180.67874541, 2157.52992768, 2650.0130394 , 2707.94848433,\n",
       "        2498.85229883,  697.39323826,  715.29972115,  760.37582855,\n",
       "         690.64130692,  856.08863974,  897.92352443,  958.98217869,\n",
       "         870.59202857,  647.23898907,  709.46445966,  584.9426856 ,\n",
       "         705.4737587 ,  820.96376743,  759.89354258,  859.92752724,\n",
       "         979.14883513,  985.70525923,  486.33232622]),\n",
       " 'std_fit_time': array([229.22533515, 284.23655527, 478.28405227, 225.607089  ,\n",
       "        198.81760663, 175.30708081, 231.39534841, 364.44015187,\n",
       "        219.02107392, 133.74109883,  57.85616153,  77.21472241,\n",
       "        103.67019187, 198.33243247, 118.26864731, 137.73625879,\n",
       "        210.99859687, 101.30177736,  76.70494928,  81.06860197,\n",
       "         52.8601292 ,  70.69354606, 165.13373036, 178.67181626,\n",
       "        134.20214841, 170.24735568,  81.96983738]),\n",
       " 'mean_score_time': array([0.27806811, 0.29505854, 0.2865447 , 0.39513216, 0.3709044 ,\n",
       "        0.38682637, 0.46014595, 0.47234817, 0.44341664, 0.28847327,\n",
       "        0.28174281, 0.28232865, 0.39439564, 0.38666029, 0.40419421,\n",
       "        0.44745388, 0.3407619 , 0.24768414, 0.19073796, 0.19344301,\n",
       "        0.19273705, 0.26713052, 0.28603377, 0.28367548, 0.27794414,\n",
       "        0.20605159, 0.11777258]),\n",
       " 'std_score_time': array([0.01621122, 0.03326333, 0.01086437, 0.03887768, 0.02765169,\n",
       "        0.00969584, 0.0185683 , 0.04188581, 0.02467892, 0.01625337,\n",
       "        0.00371342, 0.00906947, 0.0157976 , 0.01339837, 0.02017296,\n",
       "        0.03750271, 0.06217313, 0.02378269, 0.01413214, 0.00862395,\n",
       "        0.01071917, 0.0145735 , 0.03029845, 0.02661905, 0.05203134,\n",
       "        0.02953941, 0.02040471]),\n",
       " 'param_alpha': masked_array(data=[0.01, 0.01, 0.01, 0.01, 0.01, 0.01, 0.01, 0.01, 0.01,\n",
       "                    0.3, 0.3, 0.3, 0.3, 0.3, 0.3, 0.3, 0.3, 0.3, 0.06,\n",
       "                    0.06, 0.06, 0.06, 0.06, 0.06, 0.06, 0.06, 0.06],\n",
       "              mask=[False, False, False, False, False, False, False, False,\n",
       "                    False, False, False, False, False, False, False, False,\n",
       "                    False, False, False, False, False, False, False, False,\n",
       "                    False, False, False],\n",
       "        fill_value='?',\n",
       "             dtype=object),\n",
       " 'param_hidden_layer_sizes': masked_array(data=[500, 500, 500, 700, 700, 700, 800, 800, 800, 500, 500,\n",
       "                    500, 700, 700, 700, 800, 800, 800, 500, 500, 500, 700,\n",
       "                    700, 700, 800, 800, 800],\n",
       "              mask=[False, False, False, False, False, False, False, False,\n",
       "                    False, False, False, False, False, False, False, False,\n",
       "                    False, False, False, False, False, False, False, False,\n",
       "                    False, False, False],\n",
       "        fill_value='?',\n",
       "             dtype=object),\n",
       " 'param_max_iter': masked_array(data=[500, 600, 800, 500, 600, 800, 500, 600, 800, 500, 600,\n",
       "                    800, 500, 600, 800, 500, 600, 800, 500, 600, 800, 500,\n",
       "                    600, 800, 500, 600, 800],\n",
       "              mask=[False, False, False, False, False, False, False, False,\n",
       "                    False, False, False, False, False, False, False, False,\n",
       "                    False, False, False, False, False, False, False, False,\n",
       "                    False, False, False],\n",
       "        fill_value='?',\n",
       "             dtype=object),\n",
       " 'params': [{'alpha': 0.01, 'hidden_layer_sizes': 500, 'max_iter': 500},\n",
       "  {'alpha': 0.01, 'hidden_layer_sizes': 500, 'max_iter': 600},\n",
       "  {'alpha': 0.01, 'hidden_layer_sizes': 500, 'max_iter': 800},\n",
       "  {'alpha': 0.01, 'hidden_layer_sizes': 700, 'max_iter': 500},\n",
       "  {'alpha': 0.01, 'hidden_layer_sizes': 700, 'max_iter': 600},\n",
       "  {'alpha': 0.01, 'hidden_layer_sizes': 700, 'max_iter': 800},\n",
       "  {'alpha': 0.01, 'hidden_layer_sizes': 800, 'max_iter': 500},\n",
       "  {'alpha': 0.01, 'hidden_layer_sizes': 800, 'max_iter': 600},\n",
       "  {'alpha': 0.01, 'hidden_layer_sizes': 800, 'max_iter': 800},\n",
       "  {'alpha': 0.3, 'hidden_layer_sizes': 500, 'max_iter': 500},\n",
       "  {'alpha': 0.3, 'hidden_layer_sizes': 500, 'max_iter': 600},\n",
       "  {'alpha': 0.3, 'hidden_layer_sizes': 500, 'max_iter': 800},\n",
       "  {'alpha': 0.3, 'hidden_layer_sizes': 700, 'max_iter': 500},\n",
       "  {'alpha': 0.3, 'hidden_layer_sizes': 700, 'max_iter': 600},\n",
       "  {'alpha': 0.3, 'hidden_layer_sizes': 700, 'max_iter': 800},\n",
       "  {'alpha': 0.3, 'hidden_layer_sizes': 800, 'max_iter': 500},\n",
       "  {'alpha': 0.3, 'hidden_layer_sizes': 800, 'max_iter': 600},\n",
       "  {'alpha': 0.3, 'hidden_layer_sizes': 800, 'max_iter': 800},\n",
       "  {'alpha': 0.06, 'hidden_layer_sizes': 500, 'max_iter': 500},\n",
       "  {'alpha': 0.06, 'hidden_layer_sizes': 500, 'max_iter': 600},\n",
       "  {'alpha': 0.06, 'hidden_layer_sizes': 500, 'max_iter': 800},\n",
       "  {'alpha': 0.06, 'hidden_layer_sizes': 700, 'max_iter': 500},\n",
       "  {'alpha': 0.06, 'hidden_layer_sizes': 700, 'max_iter': 600},\n",
       "  {'alpha': 0.06, 'hidden_layer_sizes': 700, 'max_iter': 800},\n",
       "  {'alpha': 0.06, 'hidden_layer_sizes': 800, 'max_iter': 500},\n",
       "  {'alpha': 0.06, 'hidden_layer_sizes': 800, 'max_iter': 600},\n",
       "  {'alpha': 0.06, 'hidden_layer_sizes': 800, 'max_iter': 800}],\n",
       " 'split0_test_score': array([0.51552795, 0.508038  , 0.51351845, 0.51278772, 0.52557545,\n",
       "        0.52959445, 0.53836317, 0.53361345, 0.53397881, 0.44483011,\n",
       "        0.43715747, 0.45524297, 0.44775301, 0.45341615, 0.44373402,\n",
       "        0.45944465, 0.45506028, 0.44263792, 0.51497991, 0.50383632,\n",
       "        0.51443186, 0.51972963, 0.52466204, 0.51023018, 0.52539277,\n",
       "        0.52064304, 0.52685422]),\n",
       " 'split1_test_score': array([0.51818016, 0.51470857, 0.52183446, 0.52311347, 0.5355381 ,\n",
       "        0.52603691, 0.52768134, 0.52585419, 0.52420976, 0.453499  ,\n",
       "        0.46007674, 0.45276813, 0.45221999, 0.45130641, 0.44381509,\n",
       "        0.454778  , 0.4487484 , 0.45660515, 0.52201718, 0.51708387,\n",
       "        0.50959255, 0.515074  , 0.52146903, 0.52512333, 0.52238261,\n",
       "        0.52621962, 0.51799744]),\n",
       " 'split2_test_score': array([0.53334551, 0.52256532, 0.51416042, 0.52749863, 0.53334551,\n",
       "        0.53791339, 0.53407637, 0.53608624, 0.52548876, 0.4608076 ,\n",
       "        0.46281747, 0.4571533 , 0.46574091, 0.4644619 , 0.45422986,\n",
       "        0.46464462, 0.46117303, 0.46373104, 0.52530605, 0.51416042,\n",
       "        0.51160241, 0.52640234, 0.5211036 , 0.53334551, 0.53407637,\n",
       "        0.5295085 , 0.53626896]),\n",
       " 'split3_test_score': array([0.52548876, 0.52439247, 0.51763201, 0.5187283 , 0.52731591,\n",
       "        0.52658505, 0.5355381 , 0.53206651, 0.52494062, 0.4571533 ,\n",
       "        0.4487484 , 0.46172118, 0.45733601, 0.45806687, 0.46172118,\n",
       "        0.45642244, 0.45313356, 0.46099032, 0.50813082, 0.51690115,\n",
       "        0.51562215, 0.53517267, 0.53151836, 0.51635301, 0.53974054,\n",
       "        0.51945916, 0.53846154]),\n",
       " 'split4_test_score': array([0.52201718, 0.5211036 , 0.51891102, 0.52676777, 0.53590353,\n",
       "        0.5295085 , 0.53097022, 0.52859492, 0.52768134, 0.46153846,\n",
       "        0.45550886, 0.46610634, 0.47250137, 0.47195322, 0.47597296,\n",
       "        0.4692125 , 0.47158779, 0.4728668 , 0.51836287, 0.51470857,\n",
       "        0.52329618, 0.5307875 , 0.53608624, 0.52293075, 0.53115293,\n",
       "        0.52768134, 0.52841221]),\n",
       " 'mean_test_score': array([0.52291191, 0.51816159, 0.51721127, 0.52177918, 0.5315357 ,\n",
       "        0.52992766, 0.53332584, 0.53124306, 0.52725986, 0.45556569,\n",
       "        0.45286179, 0.45859838, 0.45911026, 0.45984091, 0.45589462,\n",
       "        0.46090044, 0.45794062, 0.45936625, 0.51775936, 0.51333807,\n",
       "        0.51490903, 0.52543323, 0.52696785, 0.52159656, 0.53054904,\n",
       "        0.52470233, 0.52959887]),\n",
       " 'std_test_score': array([0.00621632, 0.00602134, 0.00307846, 0.00546869, 0.00428261,\n",
       "        0.00425134, 0.00369436, 0.00362783, 0.00355361, 0.00608599,\n",
       "        0.00918394, 0.00476362, 0.00897662, 0.00755413, 0.01211326,\n",
       "        0.00534351, 0.00790689, 0.00991377, 0.00593093, 0.00489008,\n",
       "        0.00469637, 0.00727061, 0.00589568, 0.00786061, 0.00617363,\n",
       "        0.00395587, 0.00730166]),\n",
       " 'rank_test_score': array([11, 14, 16, 12,  2,  5,  1,  3,  7, 26, 27, 23, 22, 20, 25, 19, 24,\n",
       "        21, 15, 18, 17,  9,  8, 13,  4, 10,  6], dtype=int32),\n",
       " 'split0_train_score': array([0.88173762, 0.88877215, 0.90836835, 0.93897314, 0.94623607,\n",
       "        0.93006578, 0.96660881, 0.96857299, 0.95121506, 0.55549973,\n",
       "        0.54627261, 0.55828613, 0.54439978, 0.56522931, 0.55709848,\n",
       "        0.57413667, 0.57422803, 0.55874292, 0.78690846, 0.77156039,\n",
       "        0.7762653 , 0.8036269 , 0.79873927, 0.82048237, 0.83162799,\n",
       "        0.84574274, 0.79024301]),\n",
       " 'split1_train_score': array([0.87470881, 0.87936783, 0.85506783, 0.92906408, 0.94121409,\n",
       "        0.93376878, 0.9470607 , 0.92390262, 0.94934454, 0.55533732,\n",
       "        0.56049879, 0.56392454, 0.54688713, 0.55492623, 0.55277943,\n",
       "        0.55867172, 0.55926552, 0.56721326, 0.7831727 , 0.76471932,\n",
       "        0.77234733, 0.80980222, 0.81350203, 0.80390993, 0.80742703,\n",
       "        0.82282008, 0.80153474]),\n",
       " 'split2_train_score': array([0.88128626, 0.89329923, 0.91622893, 0.91440186, 0.94153382,\n",
       "        0.94052894, 0.96318458, 0.96889417, 0.92979491, 0.55890011,\n",
       "        0.555383  , 0.5587174 , 0.56451834, 0.56744165, 0.56899466,\n",
       "        0.56278262, 0.56173206, 0.5694971 , 0.77134244, 0.7522039 ,\n",
       "        0.78349244, 0.80071256, 0.76156762, 0.83127027, 0.84620655,\n",
       "        0.84186726, 0.78390353]),\n",
       " 'split3_train_score': array([0.85091125, 0.84045129, 0.87027817, 0.93833645, 0.91545243,\n",
       "        0.91965468, 0.96094642, 0.9609921 , 0.95149134, 0.5512721 ,\n",
       "        0.54670443, 0.55707304, 0.56255424, 0.55122642, 0.56821815,\n",
       "        0.56122962, 0.55323619, 0.5540127 , 0.77111405, 0.77266706,\n",
       "        0.78203079, 0.81784132, 0.83026538, 0.79719545, 0.8259261 ,\n",
       "        0.80861463, 0.83035674]),\n",
       " 'split4_train_score': array([0.8959028 , 0.85132234, 0.86676107, 0.94801992, 0.92632348,\n",
       "        0.91577216, 0.96830037, 0.96076371, 0.95171973, 0.55405837,\n",
       "        0.55277943, 0.55958526, 0.56515781, 0.57036496, 0.56986251,\n",
       "        0.57159823, 0.55638789, 0.56780706, 0.76138492, 0.74850409,\n",
       "        0.76841913, 0.80610241, 0.81583154, 0.76978943, 0.83195542,\n",
       "        0.8261088 , 0.80980222]),\n",
       " 'mean_train_score': array([0.87690935, 0.87064257, 0.88334087, 0.93375909, 0.93415198,\n",
       "        0.92795807, 0.96122018, 0.95662512, 0.94671312, 0.55501352,\n",
       "        0.55232765, 0.55951727, 0.55670346, 0.56183771, 0.56339065,\n",
       "        0.56568377, 0.56096994, 0.56345461, 0.77478451, 0.76193095,\n",
       "        0.776511  , 0.80761708, 0.80398117, 0.80452949, 0.82862862,\n",
       "        0.8290307 , 0.80316805]),\n",
       " 'std_train_score': array([0.01472389, 0.0209901 , 0.0243018 , 0.01138644, 0.01150086,\n",
       "        0.00909589, 0.00753115, 0.01673465, 0.00850077, 0.00246404,\n",
       "        0.00537756, 0.0023477 , 0.00910517, 0.00742952, 0.00705385,\n",
       "        0.00606395, 0.00721206, 0.00601553, 0.00918935, 0.00990617,\n",
       "        0.00569357, 0.00591943, 0.02344493, 0.02112159, 0.01253681,\n",
       "        0.01347587, 0.01627319])}"
      ]
     },
     "execution_count": 19,
     "metadata": {},
     "output_type": "execute_result"
    }
   ],
   "source": [
    "hist_grid.cv_results_\n"
   ]
  },
  {
   "cell_type": "code",
   "execution_count": 20,
   "id": "89459313",
   "metadata": {},
   "outputs": [
    {
     "name": "stdout",
     "output_type": "stream",
     "text": [
      "{'alpha': 0.01, 'hidden_layer_sizes': 800, 'max_iter': 500}\n"
     ]
    }
   ],
   "source": [
    "print(hist_grid.best_params_)"
   ]
  },
  {
   "cell_type": "code",
   "execution_count": 84,
   "id": "b539199d",
   "metadata": {},
   "outputs": [],
   "source": [
    "hist= model.fit(x_train_pca, y_train)"
   ]
  },
  {
   "cell_type": "code",
   "execution_count": 85,
   "id": "acf63687",
   "metadata": {},
   "outputs": [
    {
     "data": {
      "text/plain": [
       "0.7418329313746985"
      ]
     },
     "execution_count": 85,
     "metadata": {},
     "output_type": "execute_result"
    }
   ],
   "source": [
    "## train accuracy PCA\n",
    "y_pred_train = model.predict(x_train_pca)\n",
    "accuracy_train = accuracy_score(y_true=y_train, y_pred=y_pred_train)\n",
    "accuracy_train"
   ]
  },
  {
   "cell_type": "code",
   "execution_count": 86,
   "id": "0e0c6ea3",
   "metadata": {},
   "outputs": [
    {
     "data": {
      "text/plain": [
       "0.5207716759837773"
      ]
     },
     "execution_count": 86,
     "metadata": {},
     "output_type": "execute_result"
    }
   ],
   "source": [
    "#test accuracy\n",
    "from sklearn.metrics import accuracy_score\n",
    "y_pred = model.predict(x_test_pca)\n",
    "accuracy = accuracy_score(y_true=y_test, y_pred=y_pred)\n",
    "accuracy"
   ]
  },
  {
   "cell_type": "code",
   "execution_count": 72,
   "id": "701451c9",
   "metadata": {},
   "outputs": [],
   "source": [
    "from sklearn.metrics import plot_confusion_matrix"
   ]
  },
  {
   "cell_type": "code",
   "execution_count": 73,
   "id": "febaf9c5",
   "metadata": {},
   "outputs": [
    {
     "ename": "ValueError",
     "evalue": "multilabel-indicator is not supported",
     "output_type": "error",
     "traceback": [
      "\u001b[0;31m---------------------------------------------------------------------------\u001b[0m",
      "\u001b[0;31mValueError\u001b[0m                                Traceback (most recent call last)",
      "\u001b[0;32m<ipython-input-73-0ab5995d3a71>\u001b[0m in \u001b[0;36m<module>\u001b[0;34m\u001b[0m\n\u001b[0;32m----> 1\u001b[0;31m \u001b[0mplot_confusion_matrix\u001b[0m\u001b[0;34m(\u001b[0m\u001b[0mmodel\u001b[0m\u001b[0;34m,\u001b[0m \u001b[0mx_test\u001b[0m\u001b[0;34m,\u001b[0m \u001b[0my_test\u001b[0m\u001b[0;34m)\u001b[0m\u001b[0;34m\u001b[0m\u001b[0;34m\u001b[0m\u001b[0m\n\u001b[0m\u001b[1;32m      2\u001b[0m \u001b[0mplt\u001b[0m\u001b[0;34m.\u001b[0m\u001b[0mshow\u001b[0m\u001b[0;34m(\u001b[0m\u001b[0;34m)\u001b[0m\u001b[0;34m\u001b[0m\u001b[0;34m\u001b[0m\u001b[0m\n",
      "\u001b[0;32m~/.pyenv/versions/3.8.6/envs/lewagon/lib/python3.8/site-packages/sklearn/metrics/_plot/confusion_matrix.py\u001b[0m in \u001b[0;36mplot_confusion_matrix\u001b[0;34m(estimator, X, y_true, labels, sample_weight, normalize, display_labels, include_values, xticks_rotation, values_format, cmap, ax)\u001b[0m\n\u001b[1;32m    190\u001b[0m \u001b[0;34m\u001b[0m\u001b[0m\n\u001b[1;32m    191\u001b[0m     \u001b[0my_pred\u001b[0m \u001b[0;34m=\u001b[0m \u001b[0mestimator\u001b[0m\u001b[0;34m.\u001b[0m\u001b[0mpredict\u001b[0m\u001b[0;34m(\u001b[0m\u001b[0mX\u001b[0m\u001b[0;34m)\u001b[0m\u001b[0;34m\u001b[0m\u001b[0;34m\u001b[0m\u001b[0m\n\u001b[0;32m--> 192\u001b[0;31m     cm = confusion_matrix(y_true, y_pred, sample_weight=sample_weight,\n\u001b[0m\u001b[1;32m    193\u001b[0m                           labels=labels, normalize=normalize)\n\u001b[1;32m    194\u001b[0m \u001b[0;34m\u001b[0m\u001b[0m\n",
      "\u001b[0;32m~/.pyenv/versions/3.8.6/envs/lewagon/lib/python3.8/site-packages/sklearn/metrics/_classification.py\u001b[0m in \u001b[0;36mconfusion_matrix\u001b[0;34m(y_true, y_pred, labels, sample_weight, normalize)\u001b[0m\n\u001b[1;32m    268\u001b[0m     \u001b[0my_type\u001b[0m\u001b[0;34m,\u001b[0m \u001b[0my_true\u001b[0m\u001b[0;34m,\u001b[0m \u001b[0my_pred\u001b[0m \u001b[0;34m=\u001b[0m \u001b[0m_check_targets\u001b[0m\u001b[0;34m(\u001b[0m\u001b[0my_true\u001b[0m\u001b[0;34m,\u001b[0m \u001b[0my_pred\u001b[0m\u001b[0;34m)\u001b[0m\u001b[0;34m\u001b[0m\u001b[0;34m\u001b[0m\u001b[0m\n\u001b[1;32m    269\u001b[0m     \u001b[0;32mif\u001b[0m \u001b[0my_type\u001b[0m \u001b[0;32mnot\u001b[0m \u001b[0;32min\u001b[0m \u001b[0;34m(\u001b[0m\u001b[0;34m\"binary\"\u001b[0m\u001b[0;34m,\u001b[0m \u001b[0;34m\"multiclass\"\u001b[0m\u001b[0;34m)\u001b[0m\u001b[0;34m:\u001b[0m\u001b[0;34m\u001b[0m\u001b[0;34m\u001b[0m\u001b[0m\n\u001b[0;32m--> 270\u001b[0;31m         \u001b[0;32mraise\u001b[0m \u001b[0mValueError\u001b[0m\u001b[0;34m(\u001b[0m\u001b[0;34m\"%s is not supported\"\u001b[0m \u001b[0;34m%\u001b[0m \u001b[0my_type\u001b[0m\u001b[0;34m)\u001b[0m\u001b[0;34m\u001b[0m\u001b[0;34m\u001b[0m\u001b[0m\n\u001b[0m\u001b[1;32m    271\u001b[0m \u001b[0;34m\u001b[0m\u001b[0m\n\u001b[1;32m    272\u001b[0m     \u001b[0;32mif\u001b[0m \u001b[0mlabels\u001b[0m \u001b[0;32mis\u001b[0m \u001b[0;32mNone\u001b[0m\u001b[0;34m:\u001b[0m\u001b[0;34m\u001b[0m\u001b[0;34m\u001b[0m\u001b[0m\n",
      "\u001b[0;31mValueError\u001b[0m: multilabel-indicator is not supported"
     ]
    }
   ],
   "source": [
    "plot_confusion_matrix(model, x_test, y_test)  \n",
    "plt.show()  "
   ]
  },
  {
   "cell_type": "code",
   "execution_count": null,
   "id": "a16a4fc5",
   "metadata": {},
   "outputs": [],
   "source": []
  },
  {
   "cell_type": "code",
   "execution_count": null,
   "id": "1c588780",
   "metadata": {},
   "outputs": [],
   "source": []
  },
  {
   "cell_type": "code",
   "execution_count": 106,
   "id": "98dbeb07",
   "metadata": {},
   "outputs": [],
   "source": [
    "# making our data compatible to model.\n",
    "#x_train = np.expand_dims(x_train, axis=2)\n",
    "#x_test = np.expand_dims(x_test, axis=2)\n",
    "#x_train.shape, y_train.shape, x_test.shape, y_test.shape"
   ]
  },
  {
   "cell_type": "code",
   "execution_count": 107,
   "id": "0fccaa60",
   "metadata": {},
   "outputs": [
    {
     "data": {
      "text/plain": [
       "array([[ 1.78867448,  1.5145362 ,  1.44875584, ..., -0.17566308,\n",
       "        -0.1617455 , -0.15360386],\n",
       "       [-1.27257576,  0.37301025, -0.65820539, ..., -0.22554736,\n",
       "        -0.21287732, -0.20400592],\n",
       "       [ 2.07835725,  0.61000927,  0.2370615 , ..., -0.2122487 ,\n",
       "        -0.20791637, -0.20245501],\n",
       "       ...,\n",
       "       [ 0.27679   ,  0.25155924,  0.44317351, ..., -0.18887466,\n",
       "        -0.17612799, -0.16585193],\n",
       "       [-0.51122219,  0.54016688,  0.63991329, ..., -0.22563789,\n",
       "        -0.21301984, -0.20417274],\n",
       "       [-0.01761639,  0.90060402,  0.54478415, ..., -0.22556401,\n",
       "        -0.21299148, -0.20417192]])"
      ]
     },
     "execution_count": 107,
     "metadata": {},
     "output_type": "execute_result"
    }
   ],
   "source": [
    "x_train"
   ]
  },
  {
   "cell_type": "code",
   "execution_count": 108,
   "id": "ca83e216",
   "metadata": {},
   "outputs": [],
   "source": [
    "from sklearn.ensemble import RandomForestClassifier\n",
    "from sklearn.model_selection import cross_validate\n",
    "\n",
    "model = RandomForestClassifier()\n",
    "\n",
    "cv = cross_validate(model, x_train, y_train, cv = 5)"
   ]
  },
  {
   "cell_type": "code",
   "execution_count": 109,
   "id": "554ca233",
   "metadata": {},
   "outputs": [
    {
     "data": {
      "text/plain": [
       "array([[0., 0., 0., ..., 0., 0., 0.],\n",
       "       [0., 1., 0., ..., 0., 0., 0.],\n",
       "       [0., 0., 0., ..., 1., 0., 0.],\n",
       "       ...,\n",
       "       [0., 1., 0., ..., 0., 0., 0.],\n",
       "       [1., 0., 0., ..., 0., 0., 0.],\n",
       "       [0., 0., 0., ..., 1., 0., 0.]])"
      ]
     },
     "execution_count": 109,
     "metadata": {},
     "output_type": "execute_result"
    }
   ],
   "source": [
    "y_train"
   ]
  },
  {
   "cell_type": "code",
   "execution_count": 110,
   "id": "7af161cd",
   "metadata": {},
   "outputs": [
    {
     "data": {
      "text/plain": [
       "0.32470966349504227"
      ]
     },
     "execution_count": 110,
     "metadata": {},
     "output_type": "execute_result"
    }
   ],
   "source": [
    "cv[\"test_score\"].mean()"
   ]
  },
  {
   "cell_type": "code",
   "execution_count": null,
   "id": "b0dda4fa",
   "metadata": {},
   "outputs": [],
   "source": []
  }
 ],
 "metadata": {
  "kernelspec": {
   "display_name": "Python 3",
   "language": "python",
   "name": "python3"
  },
  "language_info": {
   "codemirror_mode": {
    "name": "ipython",
    "version": 3
   },
   "file_extension": ".py",
   "mimetype": "text/x-python",
   "name": "python",
   "nbconvert_exporter": "python",
   "pygments_lexer": "ipython3",
   "version": "3.8.6"
  },
  "toc": {
   "base_numbering": 1,
   "nav_menu": {},
   "number_sections": true,
   "sideBar": true,
   "skip_h1_title": false,
   "title_cell": "Table of Contents",
   "title_sidebar": "Contents",
   "toc_cell": false,
   "toc_position": {},
   "toc_section_display": true,
   "toc_window_display": false
  }
 },
 "nbformat": 4,
 "nbformat_minor": 5
}
