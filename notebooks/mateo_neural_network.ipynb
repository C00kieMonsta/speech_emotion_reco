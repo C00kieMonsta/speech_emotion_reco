{
 "cells": [
  {
   "cell_type": "code",
   "execution_count": 1,
   "id": "9a7177a9",
   "metadata": {},
   "outputs": [],
   "source": [
    "import numpy as np\n",
    "import pandas as pd\n",
    "import numpy as np\n",
    "import os\n",
    "import sys\n",
    "import librosa.display\n",
    "import matplotlib.pyplot as plt\n",
    "from IPython.display import Audio\n",
    "import wave\n",
    "from scipy.io.wavfile import write\n",
    "from sklearn.preprocessing import StandardScaler, OneHotEncoder\n",
    "from sklearn.metrics import confusion_matrix, classification_report\n",
    "from sklearn.model_selection import train_test_split"
   ]
  },
  {
   "cell_type": "code",
   "execution_count": 2,
   "id": "f5a8e0c0",
   "metadata": {},
   "outputs": [],
   "source": [
    "from sklearn.neural_network import MLPClassifier"
   ]
  },
  {
   "cell_type": "code",
   "execution_count": 3,
   "id": "34d4ae0b",
   "metadata": {},
   "outputs": [],
   "source": [
    "Features= pd.read_csv(\"../speech_emotion_reco/data/features1.csv\")"
   ]
  },
  {
   "cell_type": "code",
   "execution_count": 4,
   "id": "e6fddc2d",
   "metadata": {},
   "outputs": [
    {
     "data": {
      "text/html": [
       "<div>\n",
       "<style scoped>\n",
       "    .dataframe tbody tr th:only-of-type {\n",
       "        vertical-align: middle;\n",
       "    }\n",
       "\n",
       "    .dataframe tbody tr th {\n",
       "        vertical-align: top;\n",
       "    }\n",
       "\n",
       "    .dataframe thead th {\n",
       "        text-align: right;\n",
       "    }\n",
       "</style>\n",
       "<table border=\"1\" class=\"dataframe\">\n",
       "  <thead>\n",
       "    <tr style=\"text-align: right;\">\n",
       "      <th></th>\n",
       "      <th>0</th>\n",
       "      <th>1</th>\n",
       "      <th>2</th>\n",
       "      <th>3</th>\n",
       "      <th>4</th>\n",
       "      <th>5</th>\n",
       "      <th>6</th>\n",
       "      <th>7</th>\n",
       "      <th>8</th>\n",
       "      <th>9</th>\n",
       "      <th>...</th>\n",
       "      <th>153</th>\n",
       "      <th>154</th>\n",
       "      <th>155</th>\n",
       "      <th>156</th>\n",
       "      <th>157</th>\n",
       "      <th>158</th>\n",
       "      <th>159</th>\n",
       "      <th>160</th>\n",
       "      <th>161</th>\n",
       "      <th>labels</th>\n",
       "    </tr>\n",
       "  </thead>\n",
       "  <tbody>\n",
       "    <tr>\n",
       "      <th>0</th>\n",
       "      <td>0.022190</td>\n",
       "      <td>0.574264</td>\n",
       "      <td>0.483570</td>\n",
       "      <td>0.460849</td>\n",
       "      <td>0.481321</td>\n",
       "      <td>0.555484</td>\n",
       "      <td>0.593383</td>\n",
       "      <td>0.527021</td>\n",
       "      <td>0.487356</td>\n",
       "      <td>0.539324</td>\n",
       "      <td>...</td>\n",
       "      <td>0.000017</td>\n",
       "      <td>0.000005</td>\n",
       "      <td>0.000002</td>\n",
       "      <td>1.302462e-06</td>\n",
       "      <td>1.284306e-06</td>\n",
       "      <td>0.000001</td>\n",
       "      <td>0.000001</td>\n",
       "      <td>0.000001</td>\n",
       "      <td>1.307451e-06</td>\n",
       "      <td>sad</td>\n",
       "    </tr>\n",
       "    <tr>\n",
       "      <th>1</th>\n",
       "      <td>0.024034</td>\n",
       "      <td>0.600490</td>\n",
       "      <td>0.566040</td>\n",
       "      <td>0.508995</td>\n",
       "      <td>0.517747</td>\n",
       "      <td>0.564668</td>\n",
       "      <td>0.628690</td>\n",
       "      <td>0.570408</td>\n",
       "      <td>0.504077</td>\n",
       "      <td>0.523364</td>\n",
       "      <td>...</td>\n",
       "      <td>0.000694</td>\n",
       "      <td>0.000707</td>\n",
       "      <td>0.000760</td>\n",
       "      <td>7.191862e-04</td>\n",
       "      <td>7.346970e-04</td>\n",
       "      <td>0.000748</td>\n",
       "      <td>0.000710</td>\n",
       "      <td>0.000721</td>\n",
       "      <td>7.125463e-04</td>\n",
       "      <td>sad</td>\n",
       "    </tr>\n",
       "    <tr>\n",
       "      <th>2</th>\n",
       "      <td>0.026794</td>\n",
       "      <td>0.555865</td>\n",
       "      <td>0.481998</td>\n",
       "      <td>0.469905</td>\n",
       "      <td>0.485150</td>\n",
       "      <td>0.561153</td>\n",
       "      <td>0.599452</td>\n",
       "      <td>0.515703</td>\n",
       "      <td>0.467281</td>\n",
       "      <td>0.533736</td>\n",
       "      <td>...</td>\n",
       "      <td>0.000009</td>\n",
       "      <td>0.000003</td>\n",
       "      <td>0.000001</td>\n",
       "      <td>1.101190e-06</td>\n",
       "      <td>1.086457e-06</td>\n",
       "      <td>0.000001</td>\n",
       "      <td>0.000001</td>\n",
       "      <td>0.000001</td>\n",
       "      <td>1.116437e-06</td>\n",
       "      <td>sad</td>\n",
       "    </tr>\n",
       "    <tr>\n",
       "      <th>3</th>\n",
       "      <td>0.030215</td>\n",
       "      <td>0.569947</td>\n",
       "      <td>0.537033</td>\n",
       "      <td>0.472541</td>\n",
       "      <td>0.482542</td>\n",
       "      <td>0.531870</td>\n",
       "      <td>0.609241</td>\n",
       "      <td>0.538805</td>\n",
       "      <td>0.472551</td>\n",
       "      <td>0.501115</td>\n",
       "      <td>...</td>\n",
       "      <td>0.000029</td>\n",
       "      <td>0.000010</td>\n",
       "      <td>0.000004</td>\n",
       "      <td>2.024705e-06</td>\n",
       "      <td>1.428292e-06</td>\n",
       "      <td>0.000001</td>\n",
       "      <td>0.000001</td>\n",
       "      <td>0.000001</td>\n",
       "      <td>1.116235e-06</td>\n",
       "      <td>sad</td>\n",
       "    </tr>\n",
       "    <tr>\n",
       "      <th>4</th>\n",
       "      <td>0.021918</td>\n",
       "      <td>0.572923</td>\n",
       "      <td>0.493467</td>\n",
       "      <td>0.462107</td>\n",
       "      <td>0.478409</td>\n",
       "      <td>0.544882</td>\n",
       "      <td>0.593050</td>\n",
       "      <td>0.524531</td>\n",
       "      <td>0.479771</td>\n",
       "      <td>0.534424</td>\n",
       "      <td>...</td>\n",
       "      <td>0.000017</td>\n",
       "      <td>0.000005</td>\n",
       "      <td>0.000001</td>\n",
       "      <td>9.656201e-07</td>\n",
       "      <td>9.702152e-07</td>\n",
       "      <td>0.000001</td>\n",
       "      <td>0.000001</td>\n",
       "      <td>0.000001</td>\n",
       "      <td>8.766840e-07</td>\n",
       "      <td>sad</td>\n",
       "    </tr>\n",
       "  </tbody>\n",
       "</table>\n",
       "<p>5 rows × 163 columns</p>\n",
       "</div>"
      ],
      "text/plain": [
       "          0         1         2         3         4         5         6  \\\n",
       "0  0.022190  0.574264  0.483570  0.460849  0.481321  0.555484  0.593383   \n",
       "1  0.024034  0.600490  0.566040  0.508995  0.517747  0.564668  0.628690   \n",
       "2  0.026794  0.555865  0.481998  0.469905  0.485150  0.561153  0.599452   \n",
       "3  0.030215  0.569947  0.537033  0.472541  0.482542  0.531870  0.609241   \n",
       "4  0.021918  0.572923  0.493467  0.462107  0.478409  0.544882  0.593050   \n",
       "\n",
       "          7         8         9  ...       153       154       155  \\\n",
       "0  0.527021  0.487356  0.539324  ...  0.000017  0.000005  0.000002   \n",
       "1  0.570408  0.504077  0.523364  ...  0.000694  0.000707  0.000760   \n",
       "2  0.515703  0.467281  0.533736  ...  0.000009  0.000003  0.000001   \n",
       "3  0.538805  0.472551  0.501115  ...  0.000029  0.000010  0.000004   \n",
       "4  0.524531  0.479771  0.534424  ...  0.000017  0.000005  0.000001   \n",
       "\n",
       "            156           157       158       159       160           161  \\\n",
       "0  1.302462e-06  1.284306e-06  0.000001  0.000001  0.000001  1.307451e-06   \n",
       "1  7.191862e-04  7.346970e-04  0.000748  0.000710  0.000721  7.125463e-04   \n",
       "2  1.101190e-06  1.086457e-06  0.000001  0.000001  0.000001  1.116437e-06   \n",
       "3  2.024705e-06  1.428292e-06  0.000001  0.000001  0.000001  1.116235e-06   \n",
       "4  9.656201e-07  9.702152e-07  0.000001  0.000001  0.000001  8.766840e-07   \n",
       "\n",
       "   labels  \n",
       "0     sad  \n",
       "1     sad  \n",
       "2     sad  \n",
       "3     sad  \n",
       "4     sad  \n",
       "\n",
       "[5 rows x 163 columns]"
      ]
     },
     "execution_count": 4,
     "metadata": {},
     "output_type": "execute_result"
    }
   ],
   "source": [
    "Features.head()"
   ]
  },
  {
   "cell_type": "code",
   "execution_count": 5,
   "id": "4e19c463",
   "metadata": {},
   "outputs": [],
   "source": [
    "Features=Features[Features.labels != 'unknown']\n",
    "Features=Features[Features.labels != 'surprise']"
   ]
  },
  {
   "cell_type": "code",
   "execution_count": 6,
   "id": "d07d655a",
   "metadata": {},
   "outputs": [],
   "source": [
    "X = Features.iloc[: ,:-1].values\n",
    "Y = Features['labels'].values"
   ]
  },
  {
   "cell_type": "code",
   "execution_count": 7,
   "id": "f7a74041",
   "metadata": {},
   "outputs": [
    {
     "data": {
      "text/plain": [
       "happy      9620\n",
       "fear       9615\n",
       "disgust    9615\n",
       "sad        9615\n",
       "angry      9615\n",
       "neutral    9475\n",
       "Name: labels, dtype: int64"
      ]
     },
     "execution_count": 7,
     "metadata": {},
     "output_type": "execute_result"
    }
   ],
   "source": [
    "Features['labels'].value_counts()"
   ]
  },
  {
   "cell_type": "code",
   "execution_count": 8,
   "id": "15ab83a1",
   "metadata": {},
   "outputs": [],
   "source": [
    "# As this is a multiclass classification problem onehotencoding our Y.\n",
    "encoder = OneHotEncoder()\n",
    "Y = encoder.fit_transform(np.array(Y).reshape(-1,1)).toarray()"
   ]
  },
  {
   "cell_type": "code",
   "execution_count": 9,
   "id": "d5b9d06c",
   "metadata": {},
   "outputs": [
    {
     "data": {
      "text/plain": [
       "((50648, 162), (50648, 6), (6907, 162), (6907, 6))"
      ]
     },
     "execution_count": 9,
     "metadata": {},
     "output_type": "execute_result"
    }
   ],
   "source": [
    "# splitting data\n",
    "x_train, x_test, y_train, y_test = train_test_split(pd.DataFrame(X), pd.DataFrame(Y), random_state=0, shuffle=True, test_size=0.12)\n",
    "x_train.shape, y_train.shape, x_test.shape, y_test.shape"
   ]
  },
  {
   "cell_type": "code",
   "execution_count": 10,
   "id": "e647ee2c",
   "metadata": {},
   "outputs": [
    {
     "data": {
      "text/plain": [
       "((50648, 162), (50648, 6), (6907, 162), (6907, 6))"
      ]
     },
     "execution_count": 10,
     "metadata": {},
     "output_type": "execute_result"
    }
   ],
   "source": [
    "# scaling our data with sklearn's Standard scaler\n",
    "scaler = StandardScaler()\n",
    "x_train = scaler.fit_transform(x_train)\n",
    "x_test = scaler.transform(x_test)\n",
    "x_train.shape, y_train.shape, x_test.shape, y_test.shape"
   ]
  },
  {
   "cell_type": "code",
   "execution_count": 11,
   "id": "780119f5",
   "metadata": {},
   "outputs": [],
   "source": [
    "#MLP clasiifier sans pca\n",
    "#52 % moins over fittint model= MLPClassifier(hidden_layer_sizes=(200,), max_iter=300)\n",
    "# 55% model = MLPClassifier(alpha = 0.01, batch_size = 256, epsilon = 1e-08, hidden_layer_sizes = (500,), learning_rate = 'adaptive', max_iter = 600)\n",
    "#model = MLPClassifier(alpha = 0.01, batch_size = 256, epsilon = 1e-08, hidden_layer_sizes = (400,), learning_rate = 'adaptive', max_iter = 500)\n",
    "# 54% model = MLPClassifier(alpha = 0.01, batch_size = 256, epsilon = 1e-08, hidden_layer_sizes = (500,), learning_rate = 'adaptive', max_iter = 900)\n",
    "#53% model = MLPClassifier(alpha = 0.09, batch_size = 256, epsilon = 1e-08, hidden_layer_sizes = (500,), learning_rate = 'adaptive', max_iter = 600)\n",
    "#56% model = MLPClassifier(alpha = 0.03, batch_size = 256, epsilon = 1e-08, hidden_layer_sizes = (700,), learning_rate = 'adaptive', max_iter = 800,  validation_fraction=0.2)\n",
    "#54model = MLPClassifier(alpha = 0.01, batch_size = 256, epsilon = 1e-08, hidden_layer_sizes = (700,), learning_rate = 'adaptive', max_iter = 800,  validation_fraction=0.2)\n",
    "# 52% et 70% model= MLPClassifier(hidden_layer_sizes=(400,), max_iter=600, alpha = 0.1, batch_size = 256, epsilon = 1e-08,learning_rate = 'adaptive',validation_fraction=0.2)\n",
    "#53% 69% avec standardisation model= MLPClassifier(hidden_layer_sizes=(500,), max_iter=600, alpha = 0.1, batch_size = 256, epsilon = 1e-08,learning_rate = 'adaptive', validation_fraction=0.2)\n",
    "#44% 54% model= MLPClassifier(hidden_layer_sizes=(500,), max_iter=600, alpha = 0.2, batch_size = 256, epsilon = 1e-08,learning_rate = 'adaptive',validation_fraction=0.2)\n",
    "\n",
    "#68% 52 % sans split validation model= MLPClassifier(hidden_layer_sizes=(500,), max_iter=600, alpha = 0.1, batch_size = 256, epsilon = 1e-08,learning_rate = 'adaptive')\n",
    "\n",
    "#70% 53% avec split=0.3 model= MLPClassifier(hidden_layer_sizes=(500,), max_iter=600, alpha = 0.1, batch_size = 256, epsilon = 1e-08,learning_rate = 'adaptive',validation_fraction=0.3)\n",
    "\n",
    "#90% 59% model= MLPClassifier(hidden_layer_sizes=(600,50), max_iter=600, alpha = 0.1, batch_size = 256, epsilon = 1e-08,learning_rate = 'adaptive',validation_fraction=0.2)\n",
    "\n",
    "# 85% 58% model= MLPClassifier(hidden_layer_sizes=(600,50), max_iter=600, alpha = 0.2, batch_size = 256, epsilon = 1e-08,learning_rate = 'adaptive',validation_fraction=0.2)\n",
    "\n",
    "#85% 58.2% model= MLPClassifier(hidden_layer_sizes=(600,20), max_iter=600, alpha = 0.2, batch_size = 256, epsilon = 1e-08,learning_rate = 'adaptive',validation_fraction=0.2)\n",
    "\n",
    "##79% 55% model= MLPClassifier(hidden_layer_sizes=(600,10), max_iter=700, alpha = 0.2, batch_size = 256, epsilon = 1e-08,learning_rate = 'adaptive',validation_fraction=0.2)\n",
    "\n",
    "#86% 60% model= MLPClassifier(hidden_layer_sizes=(600,20,10), max_iter=600, alpha = 0.2, batch_size = 256, epsilon = 1e-08,learning_rate = 'adaptive',validation_fraction=0.2)\n",
    "\n",
    "\n",
    "#86% 61% model= MLPClassifier(hidden_layer_sizes=(600,20,20), max_iter=600, alpha = 0.2, batch_size = 256, epsilon = 1e-08,learning_rate = 'adaptive',validation_fraction=0.2)\n",
    "\n",
    "#86% 60% model= MLPClassifier(hidden_layer_sizes=(600,20,30), max_iter=600, alpha = 0.25, batch_size = 256, epsilon = 1e-08,learning_rate = 'adaptive',validation_fraction=0.2)\n",
    "\n",
    "# 90% 62% model= MLPClassifier(hidden_layer_sizes=(600,20,20), max_iter=600, alpha = 0.12, batch_size = 256, epsilon = 1e-08,learning_rate = 'adaptive',validation_fraction=0.2)\n",
    "\n",
    "# 89% 62% model= MLPClassifier(hidden_layer_sizes=(600,20,20), max_iter=600, alpha = 0.27, batch_size = 256, epsilon = 1e-08,learning_rate = 'adaptive',validation_fraction=0.2)\n",
    "#84% 30% model= MLPClassifier(hidden_layer_sizes=(600,20,20), max_iter=600, alpha = 0.35, batch_size = 256, epsilon = 1e-08,learning_rate = 'adaptive',validation_fraction=0.2)\n",
    "\n",
    "#81ù 60% model= MLPClassifier(hidden_layer_sizes=(500,20,20), max_iter=600, alpha = 0.35, batch_size = 256, epsilon = 1e-08,learning_rate = 'adaptive',validation_fraction=0.2)\n",
    "\n",
    "# 85% 61% model= MLPClassifier(hidden_layer_sizes=(500,20,20), max_iter=600, alpha = 0.25, batch_size = 256, epsilon = 1e-08,learning_rate = 'adaptive',validation_fraction=0.2)\n",
    "# 83% 60% model= MLPClassifier(hidden_layer_sizes=(300,20,20), max_iter=600, alpha = 0.25, batch_size = 256, epsilon = 1e-08,learning_rate = 'adaptive',validation_fraction=0.2)\n",
    "\n",
    "#78% 57% model= MLPClassifier(hidden_layer_sizes=(200,20,20), max_iter=800, alpha = 0.15, batch_size = 256, epsilon = 1e-08,learning_rate = 'adaptive',validation_fraction=0.2)\n",
    "#77% 57% model= MLPClassifier(hidden_layer_sizes=(200,20,20), max_iter=600, alpha = 0.23, batch_size = 256, epsilon = 1e-08,learning_rate = 'adaptive',validation_fraction=0.2)\n",
    "\n",
    "#76% 57% \n",
    "model= MLPClassifier(hidden_layer_sizes=(600,20,20), max_iter=600, alpha = 0.17, batch_size = 256, epsilon = 1e-08,learning_rate = 'adaptive',validation_fraction=0.2)\n",
    "\n"
   ]
  },
  {
   "cell_type": "code",
   "execution_count": 12,
   "id": "6ec1ff6c",
   "metadata": {},
   "outputs": [],
   "source": [
    "hist= model.fit(x_train, y_train)"
   ]
  },
  {
   "cell_type": "code",
   "execution_count": 16,
   "id": "215c15bd",
   "metadata": {},
   "outputs": [
    {
     "data": {
      "text/plain": [
       "['model_mateo.joblib']"
      ]
     },
     "execution_count": 16,
     "metadata": {},
     "output_type": "execute_result"
    }
   ],
   "source": [
    "from joblib import dump\n",
    "dump(model, \"model_mateo.joblib\")"
   ]
  },
  {
   "cell_type": "code",
   "execution_count": 15,
   "id": "7ce88051",
   "metadata": {},
   "outputs": [
    {
     "data": {
      "text/plain": [
       "0.9088216711419996"
      ]
     },
     "execution_count": 15,
     "metadata": {},
     "output_type": "execute_result"
    }
   ],
   "source": [
    "## train accuracy\n",
    "y_pred_train = model.predict(x_train)\n",
    "accuracy_train = accuracy_score(y_true=y_train, y_pred=y_pred_train)\n",
    "accuracy_train"
   ]
  },
  {
   "cell_type": "code",
   "execution_count": 14,
   "id": "252304c2",
   "metadata": {},
   "outputs": [
    {
     "data": {
      "text/plain": [
       "0.7774721297234689"
      ]
     },
     "execution_count": 14,
     "metadata": {},
     "output_type": "execute_result"
    }
   ],
   "source": [
    "#test accuracy\n",
    "from sklearn.metrics import accuracy_score\n",
    "y_pred = model.predict(x_test)\n",
    "accuracy = accuracy_score(y_true=y_test, y_pred=y_pred)\n",
    "accuracy"
   ]
  },
  {
   "cell_type": "code",
   "execution_count": 31,
   "id": "67f1035a",
   "metadata": {},
   "outputs": [],
   "source": [
    "###Test\n"
   ]
  },
  {
   "cell_type": "code",
   "execution_count": 32,
   "id": "a549f039",
   "metadata": {},
   "outputs": [],
   "source": [
    "def extract_features(data):\n",
    "    # ZCR\n",
    "    sample_rate=22050\n",
    "    result = np.array([])\n",
    "    zcr = np.mean(librosa.feature.zero_crossing_rate(y=data).T, axis=0)\n",
    "    result=np.hstack((result, zcr)) # stacking horizontally\n",
    "\n",
    "    # Chroma_stft\n",
    "    stft = np.abs(librosa.stft(data))\n",
    "    chroma_stft = np.mean(librosa.feature.chroma_stft(S=stft, sr=sample_rate).T, axis=0)\n",
    "    result = np.hstack((result, chroma_stft)) # stacking horizontally\n",
    "\n",
    "    # MFCC\n",
    "    mfcc = np.mean(librosa.feature.mfcc(y=data, sr=sample_rate).T, axis=0)\n",
    "    result = np.hstack((result, mfcc)) # stacking horizontally\n",
    "    \n",
    "    # Root Mean Square Value\n",
    "    rms = np.mean(librosa.feature.rms(y=data).T, axis=0)\n",
    "    result = np.hstack((result, rms)) # stacking horizontally\n",
    "\n",
    "    # MelSpectogram\n",
    "    mel = np.mean(librosa.feature.melspectrogram(y=data, sr=sample_rate).T, axis=0)\n",
    "    result = np.hstack((result, mel)) # stacking horizontally\n",
    "    \n",
    "    return result"
   ]
  },
  {
   "cell_type": "code",
   "execution_count": 33,
   "id": "a7b61da6",
   "metadata": {},
   "outputs": [],
   "source": [
    "#function to create data set\n",
    "def get_features(path):\n",
    "    # duration and offset are used to take care of the no audio in start and the ending of each audio files as seen above.\n",
    "    data, sample_rate = librosa.load(path, duration=2.5, offset=0.6)\n",
    "    \n",
    "    # without augmentation\n",
    "    res1 = extract_features(data)\n",
    "    result = np.array(res1)\n",
    "        \n",
    "    return result"
   ]
  },
  {
   "cell_type": "code",
   "execution_count": 80,
   "id": "1a12d35d",
   "metadata": {},
   "outputs": [],
   "source": [
    "test= pd.DataFrame(get_features(\"../speech_emotion_reco/data/Recording11.wav\"))\n",
    "test = scaler.transform(test.transpose())"
   ]
  },
  {
   "cell_type": "code",
   "execution_count": 81,
   "id": "a5dd3a4c",
   "metadata": {},
   "outputs": [
    {
     "data": {
      "text/plain": [
       "array([[0, 0, 1, 0, 0, 0]])"
      ]
     },
     "execution_count": 81,
     "metadata": {},
     "output_type": "execute_result"
    }
   ],
   "source": [
    "(model.predict(test))"
   ]
  },
  {
   "cell_type": "code",
   "execution_count": 82,
   "id": "34c6e467",
   "metadata": {},
   "outputs": [
    {
     "data": {
      "text/plain": [
       "array([[5.51163680e-09, 1.55163149e-06, 9.99999216e-01, 3.53873529e-06,\n",
       "        9.15688196e-09, 5.10935521e-09]])"
      ]
     },
     "execution_count": 82,
     "metadata": {},
     "output_type": "execute_result"
    }
   ],
   "source": [
    "model.predict_proba(test)"
   ]
  },
  {
   "cell_type": "code",
   "execution_count": 83,
   "id": "539c975d",
   "metadata": {},
   "outputs": [
    {
     "data": {
      "text/plain": [
       "array(['x0_angry', 'x0_disgust', 'x0_fear', 'x0_happy', 'x0_neutral',\n",
       "       'x0_sad'], dtype=object)"
      ]
     },
     "execution_count": 83,
     "metadata": {},
     "output_type": "execute_result"
    }
   ],
   "source": [
    "encoder.get_feature_names()"
   ]
  },
  {
   "cell_type": "code",
   "execution_count": 84,
   "id": "9d128469",
   "metadata": {},
   "outputs": [
    {
     "data": {
      "text/plain": [
       "array([['fear']], dtype=object)"
      ]
     },
     "execution_count": 84,
     "metadata": {},
     "output_type": "execute_result"
    }
   ],
   "source": [
    "encoder.inverse_transform((model.predict(test)))"
   ]
  },
  {
   "cell_type": "markdown",
   "id": "4fa57a7b",
   "metadata": {},
   "source": [
    "# combine model"
   ]
  },
  {
   "cell_type": "code",
   "execution_count": 1,
   "id": "fa5be56d",
   "metadata": {},
   "outputs": [],
   "source": [
    "########### Test features combinate with raphael's model"
   ]
  },
  {
   "cell_type": "code",
   "execution_count": 90,
   "id": "b23d6b35",
   "metadata": {},
   "outputs": [],
   "source": [
    "Features= pd.read_csv(\"../speech_emotion_reco/data/features2.csv\")"
   ]
  },
  {
   "cell_type": "code",
   "execution_count": 91,
   "id": "f3eeb5c8",
   "metadata": {},
   "outputs": [],
   "source": [
    "Features=Features[Features.labels != 'unknown']\n",
    "Features=Features[Features.labels != 'surprise']"
   ]
  },
  {
   "cell_type": "code",
   "execution_count": 92,
   "id": "0f6ce447",
   "metadata": {},
   "outputs": [],
   "source": [
    "X = Features.iloc[: ,:-1].values\n",
    "Y = Features['labels'].values"
   ]
  },
  {
   "cell_type": "code",
   "execution_count": 93,
   "id": "bb524610",
   "metadata": {},
   "outputs": [],
   "source": [
    "X=pd.DataFrame(X)\n",
    "Y=pd.DataFrame(Y)"
   ]
  },
  {
   "cell_type": "code",
   "execution_count": 94,
   "id": "09ec1389",
   "metadata": {},
   "outputs": [],
   "source": [
    "X[\"observation\"]=Features[\"observation\"]"
   ]
  },
  {
   "cell_type": "code",
   "execution_count": 95,
   "id": "1e2c3248",
   "metadata": {},
   "outputs": [],
   "source": [
    "Y[\"observation\"]=Features[\"observation\"]"
   ]
  },
  {
   "cell_type": "code",
   "execution_count": 96,
   "id": "4f958834",
   "metadata": {},
   "outputs": [],
   "source": [
    "test_raph= pd.read_csv(\"../speech_emotion_reco/data/df_test.csv\")"
   ]
  },
  {
   "cell_type": "code",
   "execution_count": 97,
   "id": "63a2956b",
   "metadata": {},
   "outputs": [],
   "source": [
    "train_raph= pd.read_csv(\"../speech_emotion_reco/data/df_train.csv\") "
   ]
  },
  {
   "cell_type": "code",
   "execution_count": 98,
   "id": "426b2992",
   "metadata": {},
   "outputs": [
    {
     "data": {
      "text/html": [
       "<div>\n",
       "<style scoped>\n",
       "    .dataframe tbody tr th:only-of-type {\n",
       "        vertical-align: middle;\n",
       "    }\n",
       "\n",
       "    .dataframe tbody tr th {\n",
       "        vertical-align: top;\n",
       "    }\n",
       "\n",
       "    .dataframe thead th {\n",
       "        text-align: right;\n",
       "    }\n",
       "</style>\n",
       "<table border=\"1\" class=\"dataframe\">\n",
       "  <thead>\n",
       "    <tr style=\"text-align: right;\">\n",
       "      <th></th>\n",
       "      <th>observation</th>\n",
       "      <th>path</th>\n",
       "      <th>emotion</th>\n",
       "    </tr>\n",
       "  </thead>\n",
       "  <tbody>\n",
       "    <tr>\n",
       "      <th>0</th>\n",
       "      <td>0_original</td>\n",
       "      <td>../speech_emotion_reco/data/images_augmented/o...</td>\n",
       "      <td>1</td>\n",
       "    </tr>\n",
       "    <tr>\n",
       "      <th>1</th>\n",
       "      <td>0_stretch</td>\n",
       "      <td>../speech_emotion_reco/data/images_augmented/s...</td>\n",
       "      <td>1</td>\n",
       "    </tr>\n",
       "    <tr>\n",
       "      <th>2</th>\n",
       "      <td>10000_original</td>\n",
       "      <td>../speech_emotion_reco/data/images_augmented/o...</td>\n",
       "      <td>2</td>\n",
       "    </tr>\n",
       "    <tr>\n",
       "      <th>3</th>\n",
       "      <td>10000_pitch</td>\n",
       "      <td>../speech_emotion_reco/data/images_augmented/p...</td>\n",
       "      <td>2</td>\n",
       "    </tr>\n",
       "    <tr>\n",
       "      <th>4</th>\n",
       "      <td>10001_noise</td>\n",
       "      <td>../speech_emotion_reco/data/images_augmented/n...</td>\n",
       "      <td>2</td>\n",
       "    </tr>\n",
       "  </tbody>\n",
       "</table>\n",
       "</div>"
      ],
      "text/plain": [
       "      observation                                               path  emotion\n",
       "0      0_original  ../speech_emotion_reco/data/images_augmented/o...        1\n",
       "1       0_stretch  ../speech_emotion_reco/data/images_augmented/s...        1\n",
       "2  10000_original  ../speech_emotion_reco/data/images_augmented/o...        2\n",
       "3     10000_pitch  ../speech_emotion_reco/data/images_augmented/p...        2\n",
       "4     10001_noise  ../speech_emotion_reco/data/images_augmented/n...        2"
      ]
     },
     "execution_count": 98,
     "metadata": {},
     "output_type": "execute_result"
    }
   ],
   "source": [
    "test_raph.head()"
   ]
  },
  {
   "cell_type": "code",
   "execution_count": 99,
   "id": "0e2145e8",
   "metadata": {},
   "outputs": [],
   "source": [
    "X_test= test_raph.merge(X, on=\"observation\", how=\"left\")\n",
    "X_train= train_raph.merge(X, on=\"observation\", how=\"left\")"
   ]
  },
  {
   "cell_type": "code",
   "execution_count": 100,
   "id": "5dc3017a",
   "metadata": {},
   "outputs": [],
   "source": [
    "Y_test= test_raph.merge(Y, on=\"observation\", how=\"left\")\n",
    "Y_train= train_raph.merge(Y, on=\"observation\", how=\"left\")"
   ]
  },
  {
   "cell_type": "code",
   "execution_count": 101,
   "id": "5f0a28a2",
   "metadata": {},
   "outputs": [
    {
     "data": {
      "text/html": [
       "<div>\n",
       "<style scoped>\n",
       "    .dataframe tbody tr th:only-of-type {\n",
       "        vertical-align: middle;\n",
       "    }\n",
       "\n",
       "    .dataframe tbody tr th {\n",
       "        vertical-align: top;\n",
       "    }\n",
       "\n",
       "    .dataframe thead th {\n",
       "        text-align: right;\n",
       "    }\n",
       "</style>\n",
       "<table border=\"1\" class=\"dataframe\">\n",
       "  <thead>\n",
       "    <tr style=\"text-align: right;\">\n",
       "      <th></th>\n",
       "      <th>observation</th>\n",
       "      <th>path</th>\n",
       "      <th>emotion</th>\n",
       "      <th>0</th>\n",
       "    </tr>\n",
       "  </thead>\n",
       "  <tbody>\n",
       "    <tr>\n",
       "      <th>0</th>\n",
       "      <td>0_original</td>\n",
       "      <td>../speech_emotion_reco/data/images_augmented/o...</td>\n",
       "      <td>1</td>\n",
       "      <td>sad</td>\n",
       "    </tr>\n",
       "    <tr>\n",
       "      <th>1</th>\n",
       "      <td>0_stretch</td>\n",
       "      <td>../speech_emotion_reco/data/images_augmented/s...</td>\n",
       "      <td>1</td>\n",
       "      <td>sad</td>\n",
       "    </tr>\n",
       "    <tr>\n",
       "      <th>2</th>\n",
       "      <td>10000_original</td>\n",
       "      <td>../speech_emotion_reco/data/images_augmented/o...</td>\n",
       "      <td>2</td>\n",
       "      <td>fear</td>\n",
       "    </tr>\n",
       "    <tr>\n",
       "      <th>3</th>\n",
       "      <td>10000_pitch</td>\n",
       "      <td>../speech_emotion_reco/data/images_augmented/p...</td>\n",
       "      <td>2</td>\n",
       "      <td>fear</td>\n",
       "    </tr>\n",
       "    <tr>\n",
       "      <th>4</th>\n",
       "      <td>10001_noise</td>\n",
       "      <td>../speech_emotion_reco/data/images_augmented/n...</td>\n",
       "      <td>2</td>\n",
       "      <td>fear</td>\n",
       "    </tr>\n",
       "  </tbody>\n",
       "</table>\n",
       "</div>"
      ],
      "text/plain": [
       "      observation                                               path  emotion  \\\n",
       "0      0_original  ../speech_emotion_reco/data/images_augmented/o...        1   \n",
       "1       0_stretch  ../speech_emotion_reco/data/images_augmented/s...        1   \n",
       "2  10000_original  ../speech_emotion_reco/data/images_augmented/o...        2   \n",
       "3     10000_pitch  ../speech_emotion_reco/data/images_augmented/p...        2   \n",
       "4     10001_noise  ../speech_emotion_reco/data/images_augmented/n...        2   \n",
       "\n",
       "      0  \n",
       "0   sad  \n",
       "1   sad  \n",
       "2  fear  \n",
       "3  fear  \n",
       "4  fear  "
      ]
     },
     "execution_count": 101,
     "metadata": {},
     "output_type": "execute_result"
    }
   ],
   "source": [
    "Y_test.head()"
   ]
  },
  {
   "cell_type": "code",
   "execution_count": 102,
   "id": "d0d8dce8",
   "metadata": {},
   "outputs": [
    {
     "data": {
      "text/plain": [
       "(17162, 166)"
      ]
     },
     "execution_count": 102,
     "metadata": {},
     "output_type": "execute_result"
    }
   ],
   "source": [
    "X_test.shape"
   ]
  },
  {
   "cell_type": "code",
   "execution_count": 103,
   "id": "97de6c12",
   "metadata": {},
   "outputs": [],
   "source": [
    "Y_test= Y_test.drop(columns=[\"observation\",\"path\",\"emotion\"])\n",
    "Y_train= Y_train.drop(columns=[\"observation\",\"path\",\"emotion\"])"
   ]
  },
  {
   "cell_type": "code",
   "execution_count": 104,
   "id": "cb73ad6d",
   "metadata": {},
   "outputs": [],
   "source": [
    "X_test=X_test.drop(columns=[\"observation\",\"path\",\"emotion\", 162])\n",
    "X_train=X_train.drop(columns=[\"observation\",\"path\",\"emotion\", 162])"
   ]
  },
  {
   "cell_type": "code",
   "execution_count": 105,
   "id": "f25f6bda",
   "metadata": {},
   "outputs": [
    {
     "data": {
      "text/html": [
       "<div>\n",
       "<style scoped>\n",
       "    .dataframe tbody tr th:only-of-type {\n",
       "        vertical-align: middle;\n",
       "    }\n",
       "\n",
       "    .dataframe tbody tr th {\n",
       "        vertical-align: top;\n",
       "    }\n",
       "\n",
       "    .dataframe thead th {\n",
       "        text-align: right;\n",
       "    }\n",
       "</style>\n",
       "<table border=\"1\" class=\"dataframe\">\n",
       "  <thead>\n",
       "    <tr style=\"text-align: right;\">\n",
       "      <th></th>\n",
       "      <th>0</th>\n",
       "      <th>1</th>\n",
       "      <th>2</th>\n",
       "      <th>3</th>\n",
       "      <th>4</th>\n",
       "      <th>5</th>\n",
       "      <th>6</th>\n",
       "      <th>7</th>\n",
       "      <th>8</th>\n",
       "      <th>9</th>\n",
       "      <th>...</th>\n",
       "      <th>152</th>\n",
       "      <th>153</th>\n",
       "      <th>154</th>\n",
       "      <th>155</th>\n",
       "      <th>156</th>\n",
       "      <th>157</th>\n",
       "      <th>158</th>\n",
       "      <th>159</th>\n",
       "      <th>160</th>\n",
       "      <th>161</th>\n",
       "    </tr>\n",
       "  </thead>\n",
       "  <tbody>\n",
       "    <tr>\n",
       "      <th>0</th>\n",
       "      <td>0.0221897</td>\n",
       "      <td>0.574264</td>\n",
       "      <td>0.48357</td>\n",
       "      <td>0.460849</td>\n",
       "      <td>0.481321</td>\n",
       "      <td>0.555484</td>\n",
       "      <td>0.593383</td>\n",
       "      <td>0.527021</td>\n",
       "      <td>0.487356</td>\n",
       "      <td>0.539324</td>\n",
       "      <td>...</td>\n",
       "      <td>4.87774e-05</td>\n",
       "      <td>1.73186e-05</td>\n",
       "      <td>5.48789e-06</td>\n",
       "      <td>1.68174e-06</td>\n",
       "      <td>1.30246e-06</td>\n",
       "      <td>1.28431e-06</td>\n",
       "      <td>1.30493e-06</td>\n",
       "      <td>1.35532e-06</td>\n",
       "      <td>1.41604e-06</td>\n",
       "      <td>1.30745e-06</td>\n",
       "    </tr>\n",
       "    <tr>\n",
       "      <th>1</th>\n",
       "      <td>0.026794</td>\n",
       "      <td>0.555865</td>\n",
       "      <td>0.481998</td>\n",
       "      <td>0.469905</td>\n",
       "      <td>0.48515</td>\n",
       "      <td>0.561153</td>\n",
       "      <td>0.599452</td>\n",
       "      <td>0.515703</td>\n",
       "      <td>0.467281</td>\n",
       "      <td>0.533736</td>\n",
       "      <td>...</td>\n",
       "      <td>2.52655e-05</td>\n",
       "      <td>8.61541e-06</td>\n",
       "      <td>3.09115e-06</td>\n",
       "      <td>1.30925e-06</td>\n",
       "      <td>1.10119e-06</td>\n",
       "      <td>1.08646e-06</td>\n",
       "      <td>1.10269e-06</td>\n",
       "      <td>1.14628e-06</td>\n",
       "      <td>1.20398e-06</td>\n",
       "      <td>1.11644e-06</td>\n",
       "    </tr>\n",
       "    <tr>\n",
       "      <th>2</th>\n",
       "      <td>0.0515555</td>\n",
       "      <td>0.714576</td>\n",
       "      <td>0.700411</td>\n",
       "      <td>0.701325</td>\n",
       "      <td>0.701692</td>\n",
       "      <td>0.685604</td>\n",
       "      <td>0.712785</td>\n",
       "      <td>0.744064</td>\n",
       "      <td>0.750902</td>\n",
       "      <td>0.775232</td>\n",
       "      <td>...</td>\n",
       "      <td>6.02777e-09</td>\n",
       "      <td>5.01964e-09</td>\n",
       "      <td>4.31002e-09</td>\n",
       "      <td>3.79778e-09</td>\n",
       "      <td>3.41328e-09</td>\n",
       "      <td>3.12277e-09</td>\n",
       "      <td>2.90639e-09</td>\n",
       "      <td>2.74693e-09</td>\n",
       "      <td>2.63853e-09</td>\n",
       "      <td>2.57304e-09</td>\n",
       "    </tr>\n",
       "    <tr>\n",
       "      <th>3</th>\n",
       "      <td>0.0547294</td>\n",
       "      <td>0.647267</td>\n",
       "      <td>0.696228</td>\n",
       "      <td>0.675197</td>\n",
       "      <td>0.670335</td>\n",
       "      <td>0.64938</td>\n",
       "      <td>0.639625</td>\n",
       "      <td>0.672559</td>\n",
       "      <td>0.736784</td>\n",
       "      <td>0.714888</td>\n",
       "      <td>...</td>\n",
       "      <td>9.19049e-09</td>\n",
       "      <td>7.05451e-09</td>\n",
       "      <td>5.77282e-09</td>\n",
       "      <td>4.88446e-09</td>\n",
       "      <td>4.27811e-09</td>\n",
       "      <td>3.86587e-09</td>\n",
       "      <td>3.54994e-09</td>\n",
       "      <td>3.31682e-09</td>\n",
       "      <td>3.09062e-09</td>\n",
       "      <td>2.96896e-09</td>\n",
       "    </tr>\n",
       "    <tr>\n",
       "      <th>4</th>\n",
       "      <td>0.260031</td>\n",
       "      <td>0.693351</td>\n",
       "      <td>0.641952</td>\n",
       "      <td>0.669057</td>\n",
       "      <td>0.679532</td>\n",
       "      <td>0.728286</td>\n",
       "      <td>0.692397</td>\n",
       "      <td>0.658068</td>\n",
       "      <td>0.648194</td>\n",
       "      <td>0.617139</td>\n",
       "      <td>...</td>\n",
       "      <td>0.0083004</td>\n",
       "      <td>0.00786447</td>\n",
       "      <td>0.00824918</td>\n",
       "      <td>0.00840053</td>\n",
       "      <td>0.00835055</td>\n",
       "      <td>0.00845584</td>\n",
       "      <td>0.00877342</td>\n",
       "      <td>0.00841933</td>\n",
       "      <td>0.00935976</td>\n",
       "      <td>0.00926022</td>\n",
       "    </tr>\n",
       "  </tbody>\n",
       "</table>\n",
       "<p>5 rows × 162 columns</p>\n",
       "</div>"
      ],
      "text/plain": [
       "         0         1         2         3         4         5         6    \\\n",
       "0  0.0221897  0.574264   0.48357  0.460849  0.481321  0.555484  0.593383   \n",
       "1   0.026794  0.555865  0.481998  0.469905   0.48515  0.561153  0.599452   \n",
       "2  0.0515555  0.714576  0.700411  0.701325  0.701692  0.685604  0.712785   \n",
       "3  0.0547294  0.647267  0.696228  0.675197  0.670335   0.64938  0.639625   \n",
       "4   0.260031  0.693351  0.641952  0.669057  0.679532  0.728286  0.692397   \n",
       "\n",
       "        7         8         9    ...          152          153          154  \\\n",
       "0  0.527021  0.487356  0.539324  ...  4.87774e-05  1.73186e-05  5.48789e-06   \n",
       "1  0.515703  0.467281  0.533736  ...  2.52655e-05  8.61541e-06  3.09115e-06   \n",
       "2  0.744064  0.750902  0.775232  ...  6.02777e-09  5.01964e-09  4.31002e-09   \n",
       "3  0.672559  0.736784  0.714888  ...  9.19049e-09  7.05451e-09  5.77282e-09   \n",
       "4  0.658068  0.648194  0.617139  ...    0.0083004   0.00786447   0.00824918   \n",
       "\n",
       "           155          156          157          158          159  \\\n",
       "0  1.68174e-06  1.30246e-06  1.28431e-06  1.30493e-06  1.35532e-06   \n",
       "1  1.30925e-06  1.10119e-06  1.08646e-06  1.10269e-06  1.14628e-06   \n",
       "2  3.79778e-09  3.41328e-09  3.12277e-09  2.90639e-09  2.74693e-09   \n",
       "3  4.88446e-09  4.27811e-09  3.86587e-09  3.54994e-09  3.31682e-09   \n",
       "4   0.00840053   0.00835055   0.00845584   0.00877342   0.00841933   \n",
       "\n",
       "           160          161  \n",
       "0  1.41604e-06  1.30745e-06  \n",
       "1  1.20398e-06  1.11644e-06  \n",
       "2  2.63853e-09  2.57304e-09  \n",
       "3  3.09062e-09  2.96896e-09  \n",
       "4   0.00935976   0.00926022  \n",
       "\n",
       "[5 rows x 162 columns]"
      ]
     },
     "execution_count": 105,
     "metadata": {},
     "output_type": "execute_result"
    }
   ],
   "source": [
    "X_test.head()"
   ]
  },
  {
   "cell_type": "code",
   "execution_count": 106,
   "id": "81da582c",
   "metadata": {},
   "outputs": [],
   "source": [
    "encoder = OneHotEncoder()\n",
    "Y_train = encoder.fit_transform(np.array(Y_train).reshape(-1,1)).toarray()"
   ]
  },
  {
   "cell_type": "code",
   "execution_count": 107,
   "id": "86786757",
   "metadata": {},
   "outputs": [],
   "source": [
    "Y_test= encoder.transform(Y_test)"
   ]
  },
  {
   "cell_type": "code",
   "execution_count": 108,
   "id": "b3aa205f",
   "metadata": {},
   "outputs": [
    {
     "data": {
      "text/plain": [
       "((40045, 162), (40045, 6), (17162, 162), (17162, 6))"
      ]
     },
     "execution_count": 108,
     "metadata": {},
     "output_type": "execute_result"
    }
   ],
   "source": [
    "scaler = StandardScaler()\n",
    "X_train = scaler.fit_transform(X_train)\n",
    "X_test = scaler.transform(X_test)\n",
    "X_train.shape, Y_train.shape, X_test.shape, Y_test.shape"
   ]
  },
  {
   "cell_type": "code",
   "execution_count": 109,
   "id": "e2590728",
   "metadata": {},
   "outputs": [],
   "source": [
    "model= MLPClassifier(hidden_layer_sizes=(600,20,20), max_iter=600, alpha = 0.12, batch_size = 256, epsilon = 1e-08,learning_rate = 'adaptive',validation_fraction=0.4)\n"
   ]
  },
  {
   "cell_type": "code",
   "execution_count": 110,
   "id": "cbb67a47",
   "metadata": {},
   "outputs": [],
   "source": [
    "hist= model.fit(X_train, Y_train)"
   ]
  },
  {
   "cell_type": "code",
   "execution_count": 111,
   "id": "35dbc6fb",
   "metadata": {},
   "outputs": [
    {
     "data": {
      "text/plain": [
       "0.9292545885878387"
      ]
     },
     "execution_count": 111,
     "metadata": {},
     "output_type": "execute_result"
    }
   ],
   "source": [
    "## train accuracy\n",
    "from sklearn.metrics import accuracy_score\n",
    "Y_pred_train = model.predict(X_train)\n",
    "accuracy_train = accuracy_score(y_true=Y_train, y_pred=Y_pred_train)\n",
    "accuracy_train"
   ]
  },
  {
   "cell_type": "code",
   "execution_count": 112,
   "id": "a6fd0992",
   "metadata": {},
   "outputs": [
    {
     "data": {
      "text/plain": [
       "0.7548071320358932"
      ]
     },
     "execution_count": 112,
     "metadata": {},
     "output_type": "execute_result"
    }
   ],
   "source": [
    "#test accuracy\n",
    "from sklearn.metrics import accuracy_score\n",
    "Y_pred = model.predict(X_test)\n",
    "accuracy = accuracy_score(y_true=Y_test, y_pred=Y_pred)\n",
    "accuracy"
   ]
  },
  {
   "cell_type": "code",
   "execution_count": 59,
   "id": "d1a88de6",
   "metadata": {},
   "outputs": [],
   "source": [
    "X_pred_test_raph= model.predict_proba(X_test)"
   ]
  },
  {
   "cell_type": "code",
   "execution_count": 61,
   "id": "e0af0a86",
   "metadata": {},
   "outputs": [],
   "source": [
    "X_pred_test_raph = pd.DataFrame(X_pred_test_raph)"
   ]
  },
  {
   "cell_type": "code",
   "execution_count": 72,
   "id": "fdcaa23c",
   "metadata": {},
   "outputs": [],
   "source": [
    "X_pred_test_raph[\"observation\"]=X_test[\"observation\"]"
   ]
  },
  {
   "cell_type": "code",
   "execution_count": 87,
   "id": "b3461c61",
   "metadata": {},
   "outputs": [],
   "source": [
    "X_pred_test_raph.to_csv(\"test_proba_raph.csv\", index=False)"
   ]
  },
  {
   "cell_type": "code",
   "execution_count": 84,
   "id": "f8d1f961",
   "metadata": {},
   "outputs": [
    {
     "data": {
      "text/plain": [
       "0         sad\n",
       "1         sad\n",
       "2        fear\n",
       "3     disgust\n",
       "4       angry\n",
       "5        fear\n",
       "6       happy\n",
       "7     disgust\n",
       "8       angry\n",
       "9         sad\n",
       "10        sad\n",
       "11       fear\n",
       "12       fear\n",
       "13      angry\n",
       "14       fear\n",
       "15        sad\n",
       "16      happy\n",
       "17      happy\n",
       "18      angry\n",
       "19      angry\n",
       "Name: 0, dtype: object"
      ]
     },
     "execution_count": 84,
     "metadata": {},
     "output_type": "execute_result"
    }
   ],
   "source": [
    "pd.DataFrame(encoder.inverse_transform((model.predict(X_test))))[0].head(20)"
   ]
  },
  {
   "cell_type": "code",
   "execution_count": 88,
   "id": "03eac3b0",
   "metadata": {},
   "outputs": [
    {
     "data": {
      "text/html": [
       "<div>\n",
       "<style scoped>\n",
       "    .dataframe tbody tr th:only-of-type {\n",
       "        vertical-align: middle;\n",
       "    }\n",
       "\n",
       "    .dataframe tbody tr th {\n",
       "        vertical-align: top;\n",
       "    }\n",
       "\n",
       "    .dataframe thead th {\n",
       "        text-align: right;\n",
       "    }\n",
       "</style>\n",
       "<table border=\"1\" class=\"dataframe\">\n",
       "  <thead>\n",
       "    <tr style=\"text-align: right;\">\n",
       "      <th></th>\n",
       "      <th>0</th>\n",
       "      <th>1</th>\n",
       "      <th>2</th>\n",
       "      <th>3</th>\n",
       "      <th>4</th>\n",
       "      <th>5</th>\n",
       "      <th>observation</th>\n",
       "    </tr>\n",
       "  </thead>\n",
       "  <tbody>\n",
       "    <tr>\n",
       "      <th>0</th>\n",
       "      <td>2.291376e-07</td>\n",
       "      <td>6.642547e-08</td>\n",
       "      <td>7.583450e-14</td>\n",
       "      <td>5.367126e-15</td>\n",
       "      <td>3.795053e-10</td>\n",
       "      <td>9.999998e-01</td>\n",
       "      <td>0_original</td>\n",
       "    </tr>\n",
       "    <tr>\n",
       "      <th>1</th>\n",
       "      <td>4.400612e-09</td>\n",
       "      <td>4.845263e-05</td>\n",
       "      <td>9.796351e-10</td>\n",
       "      <td>3.116841e-12</td>\n",
       "      <td>3.912250e-04</td>\n",
       "      <td>9.985856e-01</td>\n",
       "      <td>0_stretch</td>\n",
       "    </tr>\n",
       "    <tr>\n",
       "      <th>2</th>\n",
       "      <td>3.302859e-02</td>\n",
       "      <td>1.601639e-02</td>\n",
       "      <td>9.463198e-01</td>\n",
       "      <td>2.838790e-03</td>\n",
       "      <td>1.154285e-02</td>\n",
       "      <td>5.747730e-03</td>\n",
       "      <td>10000_original</td>\n",
       "    </tr>\n",
       "    <tr>\n",
       "      <th>3</th>\n",
       "      <td>2.075523e-02</td>\n",
       "      <td>5.564900e-01</td>\n",
       "      <td>3.435738e-01</td>\n",
       "      <td>8.536743e-03</td>\n",
       "      <td>2.496596e-01</td>\n",
       "      <td>1.189899e-01</td>\n",
       "      <td>10000_pitch</td>\n",
       "    </tr>\n",
       "    <tr>\n",
       "      <th>4</th>\n",
       "      <td>9.921627e-01</td>\n",
       "      <td>4.149681e-05</td>\n",
       "      <td>1.331815e-03</td>\n",
       "      <td>6.289357e-03</td>\n",
       "      <td>7.248833e-10</td>\n",
       "      <td>1.193373e-07</td>\n",
       "      <td>10001_noise</td>\n",
       "    </tr>\n",
       "  </tbody>\n",
       "</table>\n",
       "</div>"
      ],
      "text/plain": [
       "              0             1             2             3             4  \\\n",
       "0  2.291376e-07  6.642547e-08  7.583450e-14  5.367126e-15  3.795053e-10   \n",
       "1  4.400612e-09  4.845263e-05  9.796351e-10  3.116841e-12  3.912250e-04   \n",
       "2  3.302859e-02  1.601639e-02  9.463198e-01  2.838790e-03  1.154285e-02   \n",
       "3  2.075523e-02  5.564900e-01  3.435738e-01  8.536743e-03  2.496596e-01   \n",
       "4  9.921627e-01  4.149681e-05  1.331815e-03  6.289357e-03  7.248833e-10   \n",
       "\n",
       "              5     observation  \n",
       "0  9.999998e-01      0_original  \n",
       "1  9.985856e-01       0_stretch  \n",
       "2  5.747730e-03  10000_original  \n",
       "3  1.189899e-01     10000_pitch  \n",
       "4  1.193373e-07     10001_noise  "
      ]
     },
     "execution_count": 88,
     "metadata": {},
     "output_type": "execute_result"
    }
   ],
   "source": [
    "X_pred_test_raph.head()"
   ]
  },
  {
   "cell_type": "code",
   "execution_count": 89,
   "id": "b8ab138d",
   "metadata": {},
   "outputs": [
    {
     "data": {
      "text/plain": [
       "array(['x0_angry', 'x0_disgust', 'x0_fear', 'x0_happy', 'x0_neutral',\n",
       "       'x0_sad'], dtype=object)"
      ]
     },
     "execution_count": 89,
     "metadata": {},
     "output_type": "execute_result"
    }
   ],
   "source": [
    "encoder.get_feature_names()"
   ]
  },
  {
   "cell_type": "code",
   "execution_count": null,
   "id": "4a08a695",
   "metadata": {},
   "outputs": [],
   "source": []
  }
 ],
 "metadata": {
  "kernelspec": {
   "display_name": "Python 3",
   "language": "python",
   "name": "python3"
  },
  "language_info": {
   "codemirror_mode": {
    "name": "ipython",
    "version": 3
   },
   "file_extension": ".py",
   "mimetype": "text/x-python",
   "name": "python",
   "nbconvert_exporter": "python",
   "pygments_lexer": "ipython3",
   "version": "3.8.6"
  },
  "toc": {
   "base_numbering": 1,
   "nav_menu": {},
   "number_sections": true,
   "sideBar": true,
   "skip_h1_title": false,
   "title_cell": "Table of Contents",
   "title_sidebar": "Contents",
   "toc_cell": false,
   "toc_position": {},
   "toc_section_display": true,
   "toc_window_display": false
  }
 },
 "nbformat": 4,
 "nbformat_minor": 5
}
